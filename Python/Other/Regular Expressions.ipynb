{
 "cells": [
  {
   "cell_type": "markdown",
   "id": "fa3fb624-9ecf-4a13-b374-89a54da7978c",
   "metadata": {},
   "source": [
    "# Regular Expressions\n",
    "https://www.w3schools.com/python/python_regex.asp\n",
    "---\n",
    "\n",
    "**Regular expressions (regex)** help you find patterns in text (like emails, words, etc.).\n",
    "Python has a built-in `re` module for this.\n",
    "\n",
    "* `re.search()` → looks for a pattern and returns a match object (with info like where it was found).\n",
    "* `pattern.findall()` → finds all matches.\n",
    "* `pattern.fullmatch()` → checks if the *whole string* matches.\n",
    "* `pattern.match()` → checks if the *start of the string* matches.\n",
    "\n",
    "Regex is more powerful than just `\"text\" in string` because it can match complex patterns.\n",
    "\n",
    "---\n",
    "\n"
   ]
  },
  {
   "cell_type": "code",
   "execution_count": 10,
   "id": "8b64732e-4b93-4454-9c4d-cd87551c630c",
   "metadata": {},
   "outputs": [
    {
     "name": "stdout",
     "output_type": "stream",
     "text": [
      "<re.Match object; span=(7, 11), match='this'>\n"
     ]
    }
   ],
   "source": [
    "import re\n",
    "\n",
    "string = 'search this inside of this text please!'\n",
    "\n",
    "print(re.search('this', string))"
   ]
  },
  {
   "cell_type": "code",
   "execution_count": 11,
   "id": "2380f611-3062-4bf8-9722-46d6c007289d",
   "metadata": {},
   "outputs": [
    {
     "name": "stdout",
     "output_type": "stream",
     "text": [
      "(7, 11)\n",
      "7\n",
      "11\n",
      "this\n"
     ]
    }
   ],
   "source": [
    "a = re.search('this', string)\n",
    "print(a.span())\n",
    "print(a.start())\n",
    "print(a.end())\n",
    "print(a.group())"
   ]
  },
  {
   "cell_type": "code",
   "execution_count": 15,
   "id": "5cd23215-32fa-4dc0-a409-f843d36032e3",
   "metadata": {},
   "outputs": [
    {
     "name": "stdout",
     "output_type": "stream",
     "text": [
      "this\n",
      "['this', 'this']\n",
      "None\n",
      "None\n"
     ]
    }
   ],
   "source": [
    "pattern = re.compile('this')\n",
    "a = pattern.search(string)\n",
    "b = pattern.findall(string)\n",
    "c = pattern.fullmatch(string)\n",
    "d = pattern.match(string)\n",
    "\n",
    "print(a.group())\n",
    "print(b)\n",
    "print(c)\n",
    "print(d)"
   ]
  },
  {
   "cell_type": "markdown",
   "id": "1544c06f-b902-4938-bd26-335821729b6a",
   "metadata": {},
   "source": [
    "# Regular Expressions 2\n",
    "https://regex101.com/\n",
    "---\n",
    "\n",
    "**Regular expressions (RegEx)** are patterns used to search for specific parts of text.\n",
    "\n",
    "They help you find things like:\n",
    "\n",
    "* All numbers (`\\d`)\n",
    "* All letters (`[a-zA-Z]`)\n",
    "* Specific words or formats (like emails or passwords)\n",
    "\n",
    "Think of RegEx as a mini-language for matching text.\n",
    "It can be simple or very complex, but you don’t need to memorize it—just look up what you need when you need it.\n",
    "\n",
    "Tools like **RegEx101** make it easy to test and learn.\n",
    "\n",
    "---\n"
   ]
  },
  {
   "cell_type": "markdown",
   "id": "dc88713a-0e9f-4145-b7aa-4dfc6a0dc264",
   "metadata": {},
   "source": [
    "# Regular Expressions 3\n",
    "\n",
    "**Using RegEx in Real Life: Validating Emails and Passwords**\n",
    "\n",
    "Regular expressions are super useful when you want to **check if user input is in the right format**—like making sure someone types a proper **email address** when signing up for your startup’s newsletter.\n",
    "\n",
    "Instead of letting users enter junk like random words, you can use RegEx to say:\n",
    "👉 \"Only allow real-looking emails like `name@example.com`.\"\n",
    "\n",
    "To do this:\n",
    "\n",
    "* Search online for **email validation regex in Python**.\n",
    "* Copy a working example (don’t reinvent the wheel!).\n",
    "* Use tools like **regex101.com** to test and understand it.\n",
    "* These tools explain what each part of the regex does.\n",
    "\n",
    "For example:\n",
    "\n",
    "* It checks for allowed characters before and after the `@`.\n",
    "* It makes sure there’s a **dot** (like in `.com`).\n",
    "* And it ends the pattern correctly using `$`.\n",
    "\n",
    "Once it matches a good email, you can use an `if` statement in Python to accept or reject it.\n",
    "\n",
    "---\n",
    "\n",
    "**Mini Exercise:**\n",
    "Try making your own **password checker** using RegEx.\n",
    "It should:\n",
    "\n",
    "* Be at least 8 characters long\n",
    "* Include letters, numbers, and some allowed symbols\n",
    "\n",
    "Don’t worry about memorizing RegEx—**Google is your best friend!** 😄\n",
    "\n",
    "---\n"
   ]
  },
  {
   "cell_type": "markdown",
   "id": "db2198cc-5b4f-485c-bbf3-28f58eacb2c2",
   "metadata": {},
   "source": [
    "# Password Validation"
   ]
  },
  {
   "cell_type": "code",
   "execution_count": 2,
   "id": "f6f34bda-ab96-479f-853b-8a8700b19823",
   "metadata": {},
   "outputs": [
    {
     "name": "stdout",
     "output_type": "stream",
     "text": [
      "<re.Match object; span=(0, 14), match='jkodslefsdf#$5'>\n"
     ]
    }
   ],
   "source": [
    "import re\n",
    "\n",
    "pattern = re.compile(r\"(^[a-zA-Z0-9_.+-]+@[a-zA-Z0-9-]+\\.[a-zA-Z0-9-]+$)\")\n",
    "string = 'Andrei'\n",
    "\n",
    "pattern2 = re.compile(r\"[A-Za-z0-9$%#@]{8,}\\d\")\n",
    "\n",
    "password = 'jkodslefsdf#$5'\n",
    "\n",
    "a = pattern.search(string)\n",
    "check = pattern2.fullmatch(password)\n",
    "print(check)"
   ]
  },
  {
   "cell_type": "code",
   "execution_count": null,
   "id": "5fb7ccb0-5510-4dd0-97ea-83b8846a4476",
   "metadata": {},
   "outputs": [],
   "source": []
  }
 ],
 "metadata": {
  "kernelspec": {
   "display_name": "Python 3 (ipykernel)",
   "language": "python",
   "name": "python3"
  },
  "language_info": {
   "codemirror_mode": {
    "name": "ipython",
    "version": 3
   },
   "file_extension": ".py",
   "mimetype": "text/x-python",
   "name": "python",
   "nbconvert_exporter": "python",
   "pygments_lexer": "ipython3",
   "version": "3.13.2"
  }
 },
 "nbformat": 4,
 "nbformat_minor": 5
}
