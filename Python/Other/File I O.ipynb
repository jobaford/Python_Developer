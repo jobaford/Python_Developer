{
 "cells": [
  {
   "cell_type": "markdown",
   "id": "c55e25db-bca5-419c-8738-89c51639110e",
   "metadata": {},
   "source": [
    "# Working with files in python\n",
    "\n",
    "**What is I/O?**\n",
    "I/O stands for *Input/Output*. It’s how programs communicate with the outside world — for example, reading data from a file or writing results to a file.\n",
    "\n",
    "**Why it matters:**\n",
    "Programs often need to interact with things outside the code, like files, websites, or databases. For example, you might read an image, process it, and save a new version.\n",
    "\n",
    "**File I/O in Python:**\n",
    "You can open a file, read its contents, and write new information to it. When reading a file, Python moves through it using something called a *cursor*, which keeps track of where you are in the file.\n",
    "You can read the whole file, one line at a time, or all lines at once.\n",
    "When done, it’s important to close the file so your computer knows you’re finished with it.\n",
    "\n",
    "---\n"
   ]
  },
  {
   "cell_type": "code",
   "execution_count": 19,
   "id": "9d78efbf-a360-42d9-803e-e1d8836a84df",
   "metadata": {},
   "outputs": [
    {
     "name": "stdout",
     "output_type": "stream",
     "text": [
      "hello world! i am jobally the king\n",
      "also i am know as love\n",
      "\n",
      "\n"
     ]
    }
   ],
   "source": [
    "my_file = open('test.txt') \n",
    "\n",
    "print(my_file.read()) # you can only read the file onece\n",
    "print(my_file.read()) # not reading\n",
    "print(my_file.read()) # not reading"
   ]
  },
  {
   "cell_type": "code",
   "execution_count": 17,
   "id": "9677eb24-b7fd-4577-8ca9-16f68e001bdb",
   "metadata": {},
   "outputs": [
    {
     "name": "stdout",
     "output_type": "stream",
     "text": [
      "hello world! i am jobally the king\n",
      "also i am know as love\n",
      "hello world! i am jobally the king\n",
      "also i am know as love\n",
      "hello world! i am jobally the king\n",
      "also i am know as love\n"
     ]
    }
   ],
   "source": [
    "my_file.seek(0) # because of the first cell\n",
    "print(my_file.read()) \n",
    "my_file.seek(0)\n",
    "print(my_file.read())\n",
    "my_file.seek(0)\n",
    "print(my_file.read())"
   ]
  },
  {
   "cell_type": "code",
   "execution_count": 18,
   "id": "0f7c5b03-0f2f-4d9c-9fa3-4f935370ec03",
   "metadata": {},
   "outputs": [
    {
     "name": "stdout",
     "output_type": "stream",
     "text": [
      "hello world! i am jobally the king\n",
      "\n",
      "also i am know as love\n"
     ]
    }
   ],
   "source": [
    "my_file.seek(0)\n",
    "print(my_file.readline()) # will create a new line\n",
    "print(my_file.readline())"
   ]
  },
  {
   "cell_type": "code",
   "execution_count": 21,
   "id": "2ee4c0ee-faac-43d2-a182-4ab660c43b0b",
   "metadata": {},
   "outputs": [
    {
     "name": "stdout",
     "output_type": "stream",
     "text": [
      "['hello world! i am jobally the king\\n', 'also i am know as love']\n"
     ]
    }
   ],
   "source": [
    "my_file.seek(0)\n",
    "print(my_file.readlines())"
   ]
  },
  {
   "cell_type": "code",
   "execution_count": 22,
   "id": "8ff59bed-afcc-4093-a258-a9632f3648e2",
   "metadata": {},
   "outputs": [],
   "source": [
    "my_file.close()"
   ]
  },
  {
   "cell_type": "markdown",
   "id": "e8d259dc-489e-4ac0-aa7e-ee8c7271a87b",
   "metadata": {},
   "source": [
    "# Read, Write, Append\n",
    "\n",
    "**Better way to handle files:**\n",
    "Using `with` automatically closes the file for you — this is the proper way to do file I/O in Python.\n",
    "\n",
    "**File modes:**\n",
    "\n",
    "* **r** → read (default)\n",
    "* **w** → write (creates or overwrites file)\n",
    "* **a** → append (adds to end of file)\n",
    "* **r+** → read and write (overwrites from the start)\n",
    "\n",
    "**Important tips:**\n",
    "\n",
    "* Writing with `w` erases existing content.\n",
    "* Use `a` to add without erasing.\n",
    "* Writing to a non-existing file with `w` creates it.\n",
    "* Be careful to pick the right mode.\n",
    "\n",
    "---\n",
    "\n"
   ]
  },
  {
   "cell_type": "code",
   "execution_count": 23,
   "id": "bb24d4b7-020f-49b2-9da4-5e7b65424b7f",
   "metadata": {},
   "outputs": [
    {
     "name": "stdout",
     "output_type": "stream",
     "text": [
      "['hello world! i am jobally the king\\n', 'also i am know as love']\n"
     ]
    }
   ],
   "source": [
    "# this is the correct way to read files\n",
    "with open('test.txt') as my_file: # with this no need for closing file\n",
    "    print(my_file.readlines())"
   ]
  },
  {
   "cell_type": "code",
   "execution_count": 24,
   "id": "a69fe145-1ce2-4d03-a503-1b947fe596b2",
   "metadata": {},
   "outputs": [
    {
     "name": "stdout",
     "output_type": "stream",
     "text": [
      "['hello world! i am jobally the king\\n', 'also i am know as love']\n"
     ]
    }
   ],
   "source": [
    "with open('test.txt', mode='r') as my_file:\n",
    "    print(my_file.readlines())"
   ]
  },
  {
   "cell_type": "code",
   "execution_count": 29,
   "id": "a0d84105-eb10-461b-83f8-6127dbd3291c",
   "metadata": {},
   "outputs": [
    {
     "name": "stdout",
     "output_type": "stream",
     "text": [
      "2\n"
     ]
    }
   ],
   "source": [
    "with open('test.txt', mode='r+') as my_file: # r+ read and write\n",
    "    text = my_file.write(':)')\n",
    "    print(text)"
   ]
  },
  {
   "cell_type": "code",
   "execution_count": 30,
   "id": "4675edda-b334-4c24-9b97-3fa53a6a786c",
   "metadata": {},
   "outputs": [
    {
     "name": "stdout",
     "output_type": "stream",
     "text": [
      "2\n"
     ]
    }
   ],
   "source": [
    "with open('test.txt', mode='a') as my_file: # a is append\n",
    "    text = my_file.write(':)')\n",
    "    print(text)"
   ]
  },
  {
   "cell_type": "code",
   "execution_count": 31,
   "id": "1500f16c-80cd-40ed-985a-ffc70b771471",
   "metadata": {},
   "outputs": [
    {
     "name": "stdout",
     "output_type": "stream",
     "text": [
      "2\n"
     ]
    }
   ],
   "source": [
    "with open('test.txt', mode='w') as my_file: # this is for a new file it will overwrtie any existing file\n",
    "    text = my_file.write(':)')\n",
    "    print(text)"
   ]
  },
  {
   "cell_type": "code",
   "execution_count": 32,
   "id": "25c6b02e-c7c9-44b6-bb80-11cc07962e87",
   "metadata": {},
   "outputs": [
    {
     "name": "stdout",
     "output_type": "stream",
     "text": [
      "2\n"
     ]
    }
   ],
   "source": [
    "with open('sad.txt', mode='w') as my_file: # it will also create a new file if the file is not available\n",
    "    text = my_file.write(':(')\n",
    "    print(text)"
   ]
  },
  {
   "cell_type": "markdown",
   "id": "bdfa4846-3a65-4fbc-99e9-c06b6633f424",
   "metadata": {},
   "source": [
    "# File Paths\n",
    "- https://docs.python.org/3/library/pathlib.html\n",
    "\n",
    "---\n",
    "\n",
    "**File paths:**\n",
    "A *file path* tells your program where to find a file.\n",
    "\n",
    "* If your script and file are in the same folder, you can just use the file name.\n",
    "* If not, you must give the path to the file.\n",
    "\n",
    "**Types of paths:**\n",
    "\n",
    "* *Relative path:* path from where your script is running (e.g. `app/sad.txt`)\n",
    "* *Absolute path:* full path from the root of your computer (e.g. `/Users/Name/Desktop/app/sad.txt`)\n",
    "\n",
    "**Special path symbols:**\n",
    "\n",
    "* `./` → current folder\n",
    "* `../` → go up one folder\n",
    "\n",
    "**Mac/Linux vs Windows:**\n",
    "\n",
    "* Mac/Linux use `/`\n",
    "* Windows uses `\\`\n",
    "\n",
    "**Helpful tool:**\n",
    "`pathlib` — a built-in Python module that helps you write code that works on *both Windows and Mac/Linux* automatically.\n",
    "\n",
    "---\n"
   ]
  },
  {
   "cell_type": "markdown",
   "id": "0074c703-1ed4-4b14-ac6e-15fb9094bd2b",
   "metadata": {},
   "source": [
    "# File IO Error\n",
    "---\n",
    "\n",
    "When working with files, it’s common to use a **try-except block** to catch errors.\n",
    "\n",
    "Example:\n",
    "\n",
    "* If the file doesn’t exist → catch `FileNotFoundError`\n",
    "* If there’s a problem reading/writing → catch `IOError`\n",
    "\n",
    "This prevents your program from crashing and lets you handle errors gracefully (e.g. show a message).\n",
    "\n",
    "---\n"
   ]
  },
  {
   "cell_type": "code",
   "execution_count": 34,
   "id": "6644c9ff-738c-45e2-95df-78407a7bef05",
   "metadata": {},
   "outputs": [
    {
     "name": "stdout",
     "output_type": "stream",
     "text": [
      "file does not exist\n"
     ]
    }
   ],
   "source": [
    "try:\n",
    "    with open('sad.txt', mode='r') as my_file:\n",
    "        print(my_file.read())\n",
    "except FileNotFoundError as err:\n",
    "    print('file does not exist')\n",
    "    "
   ]
  },
  {
   "cell_type": "code",
   "execution_count": 35,
   "id": "eec9b3e0-a55a-4b44-87ed-4e1061cf44f4",
   "metadata": {},
   "outputs": [
    {
     "name": "stdout",
     "output_type": "stream",
     "text": [
      "file does not exist\n"
     ]
    },
    {
     "ename": "FileNotFoundError",
     "evalue": "[Errno 2] No such file or directory: 'sad.txt'",
     "output_type": "error",
     "traceback": [
      "\u001b[31m---------------------------------------------------------------------------\u001b[39m",
      "\u001b[31mFileNotFoundError\u001b[39m                         Traceback (most recent call last)",
      "\u001b[36mCell\u001b[39m\u001b[36m \u001b[39m\u001b[32mIn[35]\u001b[39m\u001b[32m, line 6\u001b[39m\n\u001b[32m      4\u001b[39m \u001b[38;5;28;01mexcept\u001b[39;00m \u001b[38;5;167;01mFileNotFoundError\u001b[39;00m \u001b[38;5;28;01mas\u001b[39;00m err:\n\u001b[32m      5\u001b[39m     \u001b[38;5;28mprint\u001b[39m(\u001b[33m'\u001b[39m\u001b[33mfile does not exist\u001b[39m\u001b[33m'\u001b[39m)\n\u001b[32m----> \u001b[39m\u001b[32m6\u001b[39m     \u001b[38;5;28;01mraise\u001b[39;00m err\n",
      "\u001b[36mCell\u001b[39m\u001b[36m \u001b[39m\u001b[32mIn[35]\u001b[39m\u001b[32m, line 2\u001b[39m\n\u001b[32m      1\u001b[39m \u001b[38;5;28;01mtry\u001b[39;00m:\n\u001b[32m----> \u001b[39m\u001b[32m2\u001b[39m     \u001b[38;5;28;01mwith\u001b[39;00m \u001b[38;5;28mopen\u001b[39m(\u001b[33m'\u001b[39m\u001b[33msad.txt\u001b[39m\u001b[33m'\u001b[39m, mode=\u001b[33m'\u001b[39m\u001b[33mr\u001b[39m\u001b[33m'\u001b[39m) \u001b[38;5;28;01mas\u001b[39;00m my_file:\n\u001b[32m      3\u001b[39m         \u001b[38;5;28mprint\u001b[39m(my_file.read())\n\u001b[32m      4\u001b[39m \u001b[38;5;28;01mexcept\u001b[39;00m \u001b[38;5;167;01mFileNotFoundError\u001b[39;00m \u001b[38;5;28;01mas\u001b[39;00m err:\n",
      "\u001b[36mFile \u001b[39m\u001b[32m~\\OneDrive\\Documents\\Python Developer\\Python\\env\\Lib\\site-packages\\IPython\\core\\interactiveshell.py:326\u001b[39m, in \u001b[36m_modified_open\u001b[39m\u001b[34m(file, *args, **kwargs)\u001b[39m\n\u001b[32m    319\u001b[39m \u001b[38;5;28;01mif\u001b[39;00m file \u001b[38;5;129;01min\u001b[39;00m {\u001b[32m0\u001b[39m, \u001b[32m1\u001b[39m, \u001b[32m2\u001b[39m}:\n\u001b[32m    320\u001b[39m     \u001b[38;5;28;01mraise\u001b[39;00m \u001b[38;5;167;01mValueError\u001b[39;00m(\n\u001b[32m    321\u001b[39m         \u001b[33mf\u001b[39m\u001b[33m\"\u001b[39m\u001b[33mIPython won\u001b[39m\u001b[33m'\u001b[39m\u001b[33mt let you open fd=\u001b[39m\u001b[38;5;132;01m{\u001b[39;00mfile\u001b[38;5;132;01m}\u001b[39;00m\u001b[33m by default \u001b[39m\u001b[33m\"\u001b[39m\n\u001b[32m    322\u001b[39m         \u001b[33m\"\u001b[39m\u001b[33mas it is likely to crash IPython. If you know what you are doing, \u001b[39m\u001b[33m\"\u001b[39m\n\u001b[32m    323\u001b[39m         \u001b[33m\"\u001b[39m\u001b[33myou can use builtins\u001b[39m\u001b[33m'\u001b[39m\u001b[33m open.\u001b[39m\u001b[33m\"\u001b[39m\n\u001b[32m    324\u001b[39m     )\n\u001b[32m--> \u001b[39m\u001b[32m326\u001b[39m \u001b[38;5;28;01mreturn\u001b[39;00m io_open(file, *args, **kwargs)\n",
      "\u001b[31mFileNotFoundError\u001b[39m: [Errno 2] No such file or directory: 'sad.txt'"
     ]
    }
   ],
   "source": [
    "try:\n",
    "    with open('sad.txt', mode='r') as my_file:\n",
    "        print(my_file.read())\n",
    "except FileNotFoundError as err:\n",
    "    print('file does not exist')\n",
    "    raise err"
   ]
  },
  {
   "cell_type": "code",
   "execution_count": 37,
   "id": "f3c37786-91f6-4dd4-a5e5-04e26711e0d2",
   "metadata": {},
   "outputs": [
    {
     "name": "stdout",
     "output_type": "stream",
     "text": [
      "file does not exist\n"
     ]
    },
    {
     "ename": "FileNotFoundError",
     "evalue": "[Errno 2] No such file or directory: 'sad.txt'",
     "output_type": "error",
     "traceback": [
      "\u001b[31m---------------------------------------------------------------------------\u001b[39m",
      "\u001b[31mFileNotFoundError\u001b[39m                         Traceback (most recent call last)",
      "\u001b[36mCell\u001b[39m\u001b[36m \u001b[39m\u001b[32mIn[37]\u001b[39m\u001b[32m, line 6\u001b[39m\n\u001b[32m      4\u001b[39m \u001b[38;5;28;01mexcept\u001b[39;00m \u001b[38;5;167;01mIOError\u001b[39;00m \u001b[38;5;28;01mas\u001b[39;00m err:\n\u001b[32m      5\u001b[39m     \u001b[38;5;28mprint\u001b[39m(\u001b[33m'\u001b[39m\u001b[33mfile does not exist\u001b[39m\u001b[33m'\u001b[39m)\n\u001b[32m----> \u001b[39m\u001b[32m6\u001b[39m     \u001b[38;5;28;01mraise\u001b[39;00m err\n",
      "\u001b[36mCell\u001b[39m\u001b[36m \u001b[39m\u001b[32mIn[37]\u001b[39m\u001b[32m, line 2\u001b[39m\n\u001b[32m      1\u001b[39m \u001b[38;5;28;01mtry\u001b[39;00m:\n\u001b[32m----> \u001b[39m\u001b[32m2\u001b[39m     \u001b[38;5;28;01mwith\u001b[39;00m \u001b[38;5;28mopen\u001b[39m(\u001b[33m'\u001b[39m\u001b[33msad.txt\u001b[39m\u001b[33m'\u001b[39m, mode=\u001b[33m'\u001b[39m\u001b[33mr\u001b[39m\u001b[33m'\u001b[39m) \u001b[38;5;28;01mas\u001b[39;00m my_file:\n\u001b[32m      3\u001b[39m         \u001b[38;5;28mprint\u001b[39m(my_file.read())\n\u001b[32m      4\u001b[39m \u001b[38;5;28;01mexcept\u001b[39;00m \u001b[38;5;167;01mIOError\u001b[39;00m \u001b[38;5;28;01mas\u001b[39;00m err:\n",
      "\u001b[36mFile \u001b[39m\u001b[32m~\\OneDrive\\Documents\\Python Developer\\Python\\env\\Lib\\site-packages\\IPython\\core\\interactiveshell.py:326\u001b[39m, in \u001b[36m_modified_open\u001b[39m\u001b[34m(file, *args, **kwargs)\u001b[39m\n\u001b[32m    319\u001b[39m \u001b[38;5;28;01mif\u001b[39;00m file \u001b[38;5;129;01min\u001b[39;00m {\u001b[32m0\u001b[39m, \u001b[32m1\u001b[39m, \u001b[32m2\u001b[39m}:\n\u001b[32m    320\u001b[39m     \u001b[38;5;28;01mraise\u001b[39;00m \u001b[38;5;167;01mValueError\u001b[39;00m(\n\u001b[32m    321\u001b[39m         \u001b[33mf\u001b[39m\u001b[33m\"\u001b[39m\u001b[33mIPython won\u001b[39m\u001b[33m'\u001b[39m\u001b[33mt let you open fd=\u001b[39m\u001b[38;5;132;01m{\u001b[39;00mfile\u001b[38;5;132;01m}\u001b[39;00m\u001b[33m by default \u001b[39m\u001b[33m\"\u001b[39m\n\u001b[32m    322\u001b[39m         \u001b[33m\"\u001b[39m\u001b[33mas it is likely to crash IPython. If you know what you are doing, \u001b[39m\u001b[33m\"\u001b[39m\n\u001b[32m    323\u001b[39m         \u001b[33m\"\u001b[39m\u001b[33myou can use builtins\u001b[39m\u001b[33m'\u001b[39m\u001b[33m open.\u001b[39m\u001b[33m\"\u001b[39m\n\u001b[32m    324\u001b[39m     )\n\u001b[32m--> \u001b[39m\u001b[32m326\u001b[39m \u001b[38;5;28;01mreturn\u001b[39;00m io_open(file, *args, **kwargs)\n",
      "\u001b[31mFileNotFoundError\u001b[39m: [Errno 2] No such file or directory: 'sad.txt'"
     ]
    }
   ],
   "source": [
    "try:\n",
    "    with open('sad.txt', mode='r') as my_file:\n",
    "        print(my_file.read())\n",
    "except IOError as err:\n",
    "    print('file does not exist')\n",
    "    raise err"
   ]
  },
  {
   "cell_type": "code",
   "execution_count": 38,
   "id": "7e1dbc7c-b058-4ac3-8d08-e77ba134c081",
   "metadata": {},
   "outputs": [
    {
     "name": "stdout",
     "output_type": "stream",
     "text": [
      "file does not exist\n"
     ]
    },
    {
     "ename": "UnsupportedOperation",
     "evalue": "not readable",
     "output_type": "error",
     "traceback": [
      "\u001b[31m---------------------------------------------------------------------------\u001b[39m",
      "\u001b[31mUnsupportedOperation\u001b[39m                      Traceback (most recent call last)",
      "\u001b[36mCell\u001b[39m\u001b[36m \u001b[39m\u001b[32mIn[38]\u001b[39m\u001b[32m, line 6\u001b[39m\n\u001b[32m      4\u001b[39m \u001b[38;5;28;01mexcept\u001b[39;00m \u001b[38;5;167;01mIOError\u001b[39;00m \u001b[38;5;28;01mas\u001b[39;00m err:\n\u001b[32m      5\u001b[39m     \u001b[38;5;28mprint\u001b[39m(\u001b[33m'\u001b[39m\u001b[33mfile does not exist\u001b[39m\u001b[33m'\u001b[39m)\n\u001b[32m----> \u001b[39m\u001b[32m6\u001b[39m     \u001b[38;5;28;01mraise\u001b[39;00m err\n",
      "\u001b[36mCell\u001b[39m\u001b[36m \u001b[39m\u001b[32mIn[38]\u001b[39m\u001b[32m, line 3\u001b[39m\n\u001b[32m      1\u001b[39m \u001b[38;5;28;01mtry\u001b[39;00m:\n\u001b[32m      2\u001b[39m     \u001b[38;5;28;01mwith\u001b[39;00m \u001b[38;5;28mopen\u001b[39m(\u001b[33m'\u001b[39m\u001b[33msad.txt\u001b[39m\u001b[33m'\u001b[39m, mode=\u001b[33m'\u001b[39m\u001b[33mx\u001b[39m\u001b[33m'\u001b[39m) \u001b[38;5;28;01mas\u001b[39;00m my_file:\n\u001b[32m----> \u001b[39m\u001b[32m3\u001b[39m         \u001b[38;5;28mprint\u001b[39m(my_file.read())\n\u001b[32m      4\u001b[39m \u001b[38;5;28;01mexcept\u001b[39;00m \u001b[38;5;167;01mIOError\u001b[39;00m \u001b[38;5;28;01mas\u001b[39;00m err:\n\u001b[32m      5\u001b[39m     \u001b[38;5;28mprint\u001b[39m(\u001b[33m'\u001b[39m\u001b[33mfile does not exist\u001b[39m\u001b[33m'\u001b[39m)\n",
      "\u001b[31mUnsupportedOperation\u001b[39m: not readable"
     ]
    }
   ],
   "source": [
    "try:\n",
    "    with open('sad.txt', mode='x') as my_file:\n",
    "        print(my_file.read())\n",
    "except IOError as err:\n",
    "    print('file does not exist')\n",
    "    raise err"
   ]
  },
  {
   "cell_type": "code",
   "execution_count": null,
   "id": "933cb76b-6363-4748-b193-fc6eeec174b8",
   "metadata": {},
   "outputs": [],
   "source": []
  }
 ],
 "metadata": {
  "kernelspec": {
   "display_name": "Python 3 (ipykernel)",
   "language": "python",
   "name": "python3"
  },
  "language_info": {
   "codemirror_mode": {
    "name": "ipython",
    "version": 3
   },
   "file_extension": ".py",
   "mimetype": "text/x-python",
   "name": "python",
   "nbconvert_exporter": "python",
   "pygments_lexer": "ipython3",
   "version": "3.13.2"
  }
 },
 "nbformat": 4,
 "nbformat_minor": 5
}
