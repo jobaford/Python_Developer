{
 "cells": [
  {
   "cell_type": "markdown",
   "id": "456f3810-60de-4a4f-bb8d-22bbbc762491",
   "metadata": {},
   "source": [
    "# Modules\n",
    "\n",
    "### 🧠 How we’ve organized Python code so far:\n",
    "\n",
    "1. **Single file** – We started by writing all code in one `.py` file.\n",
    "2. **Functions** – Help us avoid repeating code and make it reusable.\n",
    "3. **Classes** – Let us create custom data types and bundle related code.\n",
    "4. **Functional programming** – Uses small, reusable functions to keep code clean.\n",
    "\n",
    "As projects grow, one file isn’t enough. So we split code into **modules** (separate `.py` files), each with related functions or classes.\n",
    "\n",
    "We connect modules using:\n",
    "\n",
    "```python\n",
    "import filename\n",
    "```\n",
    "\n",
    "This keeps big projects organized, readable, and easier to work on with others.\n",
    "\n",
    "\n",
    "### How to make a `.py` file in Jupyter:\n",
    "\n",
    "1. Click **New > Text File**.\n",
    "2. Write your code (like a function).\n",
    "3. Click **File > Save As** → name it `mymodule.py`.\n",
    "4. In your notebook, write:\n",
    "\n",
    "   ```python\n",
    "   import mymodule\n",
    "   mymodule.your_function()\n",
    "   ```\n",
    "\n",
    "That’s it! Now you can reuse code from that `.py` file.\n"
   ]
  },
  {
   "cell_type": "code",
   "execution_count": 1,
   "id": "c9592e09-49f2-4574-bae5-0e1300fe6bb7",
   "metadata": {},
   "outputs": [
    {
     "name": "stdout",
     "output_type": "stream",
     "text": [
      "Hello, jobally!\n"
     ]
    }
   ],
   "source": [
    "import utility\n",
    "\n",
    "print(utility.greet('jobally'))"
   ]
  },
  {
   "cell_type": "markdown",
   "id": "dc555216-9106-4f15-9063-e82da857ca5e",
   "metadata": {},
   "source": [
    "# Packages in Python\n",
    "\n",
    "**We learned about modules (Python files).**\n",
    "Now, when our project gets bigger, we can organize it better.\n",
    "\n",
    "* **A *package*** is just a **folder** that contains modules (Python files).\n",
    "* To make a folder a *package*, add a special file named `__init__.py` (even if it's empty).\n",
    "* Example:\n",
    "\n",
    "  * Folder `shopping/` → This is a **package**\n",
    "  * File `shopping_cart.py` inside it → This is a **module**\n",
    "  * Function `buy()` in `shopping_cart.py` does some buying logic.\n",
    "\n",
    "**To use the function in your main file:**\n",
    "\n",
    "```python\n",
    "from shopping.shopping_cart import buy\n",
    "```\n",
    "\n",
    "**Why use packages?**\n",
    "To keep big projects clean, organized, and easy to work with.\n",
    "\n",
    "**Tip:** Good code structure comes with practice.\n",
    "\n",
    "---"
   ]
  },
  {
   "cell_type": "code",
   "execution_count": 4,
   "id": "24274931-20c3-41e0-8383-162552c638ef",
   "metadata": {},
   "outputs": [
    {
     "name": "stdout",
     "output_type": "stream",
     "text": [
      "<module 'shopping.shopping_cart' from 'C:\\\\Users\\\\jobal\\\\OneDrive\\\\Documents\\\\Python Developer\\\\Python\\\\env\\\\shopping\\\\shopping_cart.py'>\n"
     ]
    }
   ],
   "source": [
    "# shopping is the package and shopping_cart is the module\n",
    "import shopping.shopping_cart\n",
    "\n",
    "print(shopping.shopping_cart)"
   ]
  },
  {
   "cell_type": "code",
   "execution_count": 6,
   "id": "4694d8f7-8643-4765-b85f-a519f138f36e",
   "metadata": {},
   "outputs": [
    {
     "name": "stdout",
     "output_type": "stream",
     "text": [
      "['apple']\n"
     ]
    }
   ],
   "source": [
    "print(shopping.shopping_cart.buy('apple'))"
   ]
  },
  {
   "cell_type": "markdown",
   "id": "106469fd-aa0c-4c90-8033-5fbe5509f057",
   "metadata": {},
   "source": [
    "# Different Ways to Import\n",
    "\n",
    "Multiple files:\n",
    "```python\n",
    "from utility import some_function, some_function2\n",
    "```\n",
    "\n",
    "All functions in `shopping_cart` stay inside its own namespace, avoiding conflicts.\n",
    "\n",
    "**Avoid** `from module import *` — it imports everything and can cause errors (like overwriting Python’s built-in `max`). It's unclear what’s being imported, which is confusing.\n",
    "\n",
    "**Best practice:**\n",
    "Be **explicit** with your imports, like:\n",
    "\n",
    "```python\n",
    "from utility import some_function\n",
    "```\n",
    "\n",
    "or\n",
    "\n",
    "```python\n",
    "import utility\n",
    "```"
   ]
  },
  {
   "cell_type": "code",
   "execution_count": 12,
   "id": "be9dd3b0-130b-4a01-91c2-c5409b35ef79",
   "metadata": {},
   "outputs": [
    {
     "name": "stdout",
     "output_type": "stream",
     "text": [
      "['apple']\n"
     ]
    }
   ],
   "source": [
    "import more_shopping.shopping2.shopping_cart2\n",
    "\n",
    "print(more_shopping.shopping2.shopping_cart2.buy('apple'))"
   ]
  },
  {
   "cell_type": "code",
   "execution_count": 14,
   "id": "4b7af16f-06e3-4a9c-8cbd-1fb6c0733414",
   "metadata": {},
   "outputs": [
    {
     "name": "stdout",
     "output_type": "stream",
     "text": [
      "['apple']\n"
     ]
    }
   ],
   "source": [
    "from more_shopping.shopping2.shopping_cart2 import buy\n",
    "\n",
    "print(buy('apple'))"
   ]
  },
  {
   "cell_type": "markdown",
   "id": "02c664f4-f5b3-45a0-a026-eca359f9cdc4",
   "metadata": {},
   "source": [
    "# \\_\\_name\\_\\_\n",
    "\n",
    "In Python, every file (module) has a special built-in variable called `__name__`.\n",
    "\n",
    "* When a file is **run directly**, Python sets `__name__` to `\"__main__\"`.\n",
    "* When a file is **imported**, `__name__` is set to the file’s name (e.g., `\"utility\"`).\n",
    "\n",
    "So when we write:\n",
    "\n",
    "```python\n",
    "if __name__ == \"__main__\":\n",
    "    # run some code\n",
    "```\n",
    "\n",
    "…it means: “Only run this code if this file is being run directly, not imported.”\n",
    "\n",
    "This is useful because:\n",
    "\n",
    "* We can test code inside a module.\n",
    "* We avoid running code unintentionally when importing.\n",
    "* It helps keep our code clean and modular.\n",
    "\n",
    "Example:\n",
    "\n",
    "```python\n",
    "# utility.py\n",
    "print(\"__name__ is\", __name__)\n",
    "\n",
    "if __name__ == \"__main__\":\n",
    "    print(\"Running utility directly!\")\n",
    "```\n",
    "\n",
    "If you run `utility.py`, you’ll see:\n",
    "\n",
    "```\n",
    "__name__ is __main__\n",
    "Running utility directly!\n",
    "```\n",
    "\n",
    "If you import it from another file, like `main.py`:\n",
    "\n",
    "```python\n",
    "import utility\n",
    "```\n",
    "\n",
    "You’ll see:\n",
    "\n",
    "```\n",
    "__name__ is utility\n",
    "```\n",
    "\n",
    "…but **not** the second print, because the `if` block is skipped.\n",
    "\n",
    "---\n",
    "\n",
    "This pattern is very common in real Python projects to separate reusable code from test or startup code.\n"
   ]
  },
  {
   "cell_type": "code",
   "execution_count": 15,
   "id": "d68870a2-5005-480d-a7e1-68eb7a25ac5b",
   "metadata": {},
   "outputs": [
    {
     "name": "stdout",
     "output_type": "stream",
     "text": [
      "__main__\n"
     ]
    }
   ],
   "source": [
    "print(__name__)"
   ]
  },
  {
   "cell_type": "markdown",
   "id": "d6fc1821-ab62-44cf-aa49-ed3deea552f0",
   "metadata": {},
   "source": [
    "# Python Built in Modules"
   ]
  },
  {
   "cell_type": "code",
   "execution_count": 18,
   "id": "0a6ae916-48c0-460a-b105-8089abed4766",
   "metadata": {},
   "outputs": [
    {
     "name": "stdout",
     "output_type": "stream",
     "text": [
      "['BPF', 'LOG4', 'NV_MAGICCONST', 'RECIP_BPF', 'Random', 'SG_MAGICCONST', 'SystemRandom', 'TWOPI', '_ONE', '_Sequence', '__all__', '__builtins__', '__cached__', '__doc__', '__file__', '__loader__', '__name__', '__package__', '__spec__', '_accumulate', '_acos', '_bisect', '_ceil', '_cos', '_e', '_exp', '_fabs', '_floor', '_index', '_inst', '_isfinite', '_lgamma', '_log', '_log2', '_os', '_parse_args', '_pi', '_random', '_repeat', '_sha512', '_sin', '_sqrt', '_test', '_test_generator', '_urandom', 'betavariate', 'binomialvariate', 'choice', 'choices', 'expovariate', 'gammavariate', 'gauss', 'getrandbits', 'getstate', 'lognormvariate', 'main', 'normalvariate', 'paretovariate', 'randbytes', 'randint', 'random', 'randrange', 'sample', 'seed', 'setstate', 'shuffle', 'triangular', 'uniform', 'vonmisesvariate', 'weibullvariate']\n"
     ]
    }
   ],
   "source": [
    "import random\n",
    "\n",
    "print(dir(random)) # dir() display all the methods available "
   ]
  },
  {
   "cell_type": "code",
   "execution_count": 23,
   "id": "335fc0b0-be67-4c5a-8b00-34c0f627e219",
   "metadata": {},
   "outputs": [
    {
     "name": "stdout",
     "output_type": "stream",
     "text": [
      "0.9089100027951044\n"
     ]
    }
   ],
   "source": [
    "print(random.random()) # give random numbers"
   ]
  },
  {
   "cell_type": "code",
   "execution_count": 29,
   "id": "6eba7cd9-9110-469d-92b5-af5a65280b12",
   "metadata": {},
   "outputs": [
    {
     "name": "stdout",
     "output_type": "stream",
     "text": [
      "10\n"
     ]
    }
   ],
   "source": [
    "print(random.randint(1, 10)) # randint(start, end)"
   ]
  },
  {
   "cell_type": "code",
   "execution_count": 30,
   "id": "23af5c82-a489-4f8c-a3e7-9bc61e8c22c0",
   "metadata": {},
   "outputs": [
    {
     "name": "stdout",
     "output_type": "stream",
     "text": [
      "4\n"
     ]
    }
   ],
   "source": [
    "print(random.choice([1,2,3,4,5])) # randomly chooses a number from the list"
   ]
  },
  {
   "cell_type": "code",
   "execution_count": 31,
   "id": "b5a727a5-2d0a-4f0b-8ffa-5cf5b5a86d4f",
   "metadata": {},
   "outputs": [
    {
     "name": "stdout",
     "output_type": "stream",
     "text": [
      "[3, 4, 1, 2, 5]\n"
     ]
    }
   ],
   "source": [
    "my_list = [1,2,3,4,5]\n",
    "\n",
    "random.shuffle(my_list) # suffle a list\n",
    "print(my_list)"
   ]
  },
  {
   "cell_type": "code",
   "execution_count": 32,
   "id": "c8da133f-0dcb-4ac2-8037-842d2c37b9e0",
   "metadata": {},
   "outputs": [
    {
     "name": "stdout",
     "output_type": "stream",
     "text": [
      "[2, 3, 4, 1, 5]\n"
     ]
    }
   ],
   "source": [
    "import random as jobally\n",
    "\n",
    "my_list = [1,2,3,4,5]\n",
    "\n",
    "jobally.shuffle(my_list) # suffle a list\n",
    "print(my_list)"
   ]
  },
  {
   "cell_type": "markdown",
   "id": "ba3e3892-303e-4c86-ba32-ad4fbc474109",
   "metadata": {},
   "source": [
    "# Python Built in Modules 2\n",
    "\n",
    "Built-in Python module: `sys`.\n",
    "\n",
    "To use it, write:\n",
    "\n",
    "```python\n",
    "import sys\n",
    "```\n",
    "\n",
    "If you run:\n",
    "\n",
    "```python\n",
    "print(sys)\n",
    "```\n",
    "\n",
    "you’ll see it's a built-in module.\n",
    "\n",
    "One useful part of `sys` is `sys.argv`.\n",
    "This lets you pass arguments (like inputs) from the **command line** to your Python script.\n",
    "\n",
    "Example:\n",
    "If you have a file `one.py` with:\n",
    "\n",
    "```python\n",
    "import sys\n",
    "print(sys.argv)\n",
    "```\n",
    "\n",
    "And run this in the terminal:\n",
    "\n",
    "```bash\n",
    "python3 one.py Andre 42\n",
    "```\n",
    "\n",
    "The output will be:\n",
    "\n",
    "```python\n",
    "['one.py', 'Andre', '42']\n",
    "```\n",
    "\n",
    "* `sys.argv[0]` is always the filename.\n",
    "* The rest are your custom inputs.\n",
    "\n",
    "So in code:\n",
    "\n",
    "```python\n",
    "first = sys.argv[1]\n",
    "last = sys.argv[2]\n",
    "print(f\"Hi {first} {last}\")\n",
    "```\n",
    "\n",
    "Run it like:\n",
    "\n",
    "```bash\n",
    "python3 one.py Andre Nguyen\n",
    "```\n",
    "\n",
    "And it prints:\n",
    "**Hi Andre Nguyen**\n",
    "\n",
    "You can now use `sys.argv` to build scripts that take dynamic input from the terminal — like customizing a game’s range!\n"
   ]
  },
  {
   "cell_type": "code",
   "execution_count": 33,
   "id": "e9fd5b50-d6ef-49c9-9e06-0fed8e86e02f",
   "metadata": {},
   "outputs": [
    {
     "name": "stdout",
     "output_type": "stream",
     "text": [
      "<module 'sys' (built-in)>\n"
     ]
    }
   ],
   "source": [
    "import sys\n",
    "\n",
    "print(sys)"
   ]
  },
  {
   "cell_type": "markdown",
   "id": "1855f475-efee-4c95-8192-5e484d2bb0f4",
   "metadata": {},
   "source": [
    "# Python Packge Index\n",
    "\n",
    "Python is powerful because it includes **built-in modules** (called the *standard library*, like `random` or `csv`) and allows us to **import them** to make our code better.\n",
    "\n",
    "But Python's **real power** comes from **third-party packages**—code written and shared by developers around the world. These are not part of the standard library, but we can **install them using `pip`** (Python’s package installer).\n",
    "\n",
    "These packages are stored on **PyPI (Python Package Index)** at [pypi.org](https://pypi.org), where you can search for almost anything—like sending emails, working with images, reading Excel files, and much more.\n",
    "\n",
    "Before using a third-party package, check if Python already has a built-in way to do it. If not, browse PyPI, read the project details, check if it's updated and well-maintained, and then install it using `pip`.\n",
    "\n",
    "Developers share these tools to save time and avoid writing everything from scratch. You can even publish your own packages one day.\n",
    "\n",
    "In short: Python’s strength = standard library + millions of shared packages from developers worldwide, all installable with `pip`.\n"
   ]
  },
  {
   "cell_type": "markdown",
   "id": "7c493098-9c14-4b46-9b61-04e643e95b1f",
   "metadata": {},
   "source": [
    "# Pip Install\n",
    "\n",
    "https://pypi.org\n",
    "\n",
    "### ✅ 1. **Install the package `pyjokes` in Jupyter Notebook**\n",
    "\n",
    "In a cell, run:\n",
    "\n",
    "```python\n",
    "!pip install pyjokes\n",
    "```\n",
    "\n",
    "> Use `!` to run shell commands directly from Jupyter cells.\n",
    "\n",
    "If you're using Python 3 and `pip` points to Python 2, use:\n",
    "\n",
    "```python\n",
    "!pip3 install pyjokes\n",
    "```\n",
    "\n",
    "---\n",
    "\n",
    "### ✅ 2. **Use the `pyjokes` package in your notebook**\n",
    "\n",
    "Once installed, try this code in a cell:\n",
    "\n",
    "```python\n",
    "import pyjokes\n",
    "\n",
    "# Get a single joke\n",
    "joke = pyjokes.get_joke(language='en', category='neutral')\n",
    "print(joke)\n",
    "```\n",
    "\n",
    "You can run the cell multiple times to get a new joke each time.\n",
    "\n",
    "---\n",
    "\n",
    "### ✅ 3. **List of available categories (optional)**\n",
    "\n",
    "If you're curious about the joke categories, you can try:\n",
    "\n",
    "```python\n",
    "help(pyjokes)\n",
    "```\n",
    "\n",
    "Or check it in the documentation, but here are common categories:\n",
    "\n",
    "* `'neutral'` (default)\n",
    "* `'chuck'` (Chuck Norris jokes)\n",
    "* `'all'` (to pull from any category)\n",
    "\n",
    "---\n",
    "\n",
    "### 🔁 4. **Loop through a few jokes**\n",
    "\n",
    "```python\n",
    "for _ in range(5):\n",
    "    print(pyjokes.get_joke())\n",
    "    print()  # Adds a blank line between jokes\n",
    "```\n",
    "\n",
    "---\n",
    "\n",
    "### 🧼 Tip\n",
    "\n",
    "If you get errors like `ModuleNotFoundError`, it might mean the kernel is using a different Python environment. In that case:\n",
    "\n",
    "* Run `!which python` or `!where python` (Windows) to check your Python path.\n",
    "* Or restart the kernel after installing.\n",
    "\n",
    "---\n"
   ]
  },
  {
   "cell_type": "markdown",
   "id": "0753168b-6ee7-4ce7-b1c1-a045c51e15b5",
   "metadata": {},
   "source": [
    "# Virtual Enviroments\n",
    "\n",
    "### Python Libraries & Versions \n",
    "\n",
    "* Python is powerful because of its **many libraries** built by the community.\n",
    "\n",
    "* Libraries have **version numbers** like `0.5.0`:\n",
    "\n",
    "  * First number = major changes\n",
    "  * Second = new features\n",
    "  * Third = bug fixes\n",
    "\n",
    "* You can install specific versions using:\n",
    "\n",
    "  ```bash\n",
    "  pip install pyjokes==0.4.0\n",
    "  ```\n",
    "\n",
    "* Problem: **Different projects may need different versions** of the same library.\n",
    "\n",
    "* Solution: Use a **virtual environment** (`venv` or `pipenv`) so each project has its own library versions.\n",
    "\n",
    "* Tools like **PyCharm** create virtual environments automatically.\n",
    "\n",
    "* This avoids conflicts and is standard in real-world projects.\n"
   ]
  },
  {
   "cell_type": "markdown",
   "id": "dc86281c-0a70-47ed-855a-7eb7864324f9",
   "metadata": {},
   "source": [
    "# Useful Modules\n",
    "\n",
    "- `Counter` counts how many times each element appears in the list.\n",
    "Since each number appears once, it returns each number with a count of `1`.\n",
    "- `defaultdict` creates a dictionary where missing keys default to `0` because `int()` returns `0`. So when you do `d['a'] += 1`, it behaves like `d['a'] = 0 + 1` even if `'a'` didn’t exist yet. No `KeyError` — it automatically creates the key with a default value.\n",
    "- `OrderedDict` is a type of dictionary in Python that keeps the order in which items were added. This means if you insert items in a certain sequence, they will come out in that same sequence when you loop through them. It's useful when the order of elements matters, such as for displaying data or writing to files.\n",
    "\n",
    "\n",
    "\n",
    "\n",
    "\n",
    "\n",
    "\n"
   ]
  },
  {
   "cell_type": "code",
   "execution_count": 42,
   "id": "8f528d8d-ed25-4b67-a4ab-0d9629a4a5f9",
   "metadata": {},
   "outputs": [
    {
     "name": "stdout",
     "output_type": "stream",
     "text": [
      "Counter({1: 1, 2: 1, 3: 1, 4: 1, 5: 1, 6: 1, 7: 1})\n"
     ]
    }
   ],
   "source": [
    "from collections import Counter, defaultdict, OrderedDict\n",
    "\n",
    "# Counter\n",
    "\n",
    "li = [1, 2, 3, 4, 5, 6, 7]\n",
    "\n",
    "print(Counter(li))"
   ]
  },
  {
   "cell_type": "code",
   "execution_count": 37,
   "id": "f0bbd0a3-b7fe-438d-8f90-a3fcd96d6d69",
   "metadata": {},
   "outputs": [
    {
     "name": "stdout",
     "output_type": "stream",
     "text": [
      "Counter({7: 2, 1: 1, 2: 1, 3: 1, 4: 1, 5: 1, 6: 1})\n"
     ]
    }
   ],
   "source": [
    "li = [1, 2, 3, 4, 5, 6, 7, 7] # it will output two for 7\n",
    "\n",
    "print(Counter(li))"
   ]
  },
  {
   "cell_type": "code",
   "execution_count": 38,
   "id": "1ca6f1e8-b283-4321-bc75-3a68a4da3ae8",
   "metadata": {},
   "outputs": [
    {
     "name": "stdout",
     "output_type": "stream",
     "text": [
      "Counter({'h': 5, ' ': 5, 'b': 4, 'a': 4, 'l': 3, 't': 3, 'n': 3, 'i': 2, 'o': 2, 'k': 1, 'g': 1, 'u': 1, 'p': 1, 'y': 1})\n"
     ]
    }
   ],
   "source": [
    "sentence = 'blah blah blah thinking about python'\n",
    "\n",
    "print(Counter(sentence))"
   ]
  },
  {
   "cell_type": "code",
   "execution_count": 40,
   "id": "3d0ea4db-f8a2-4b4d-b28e-c2474ddfd1e0",
   "metadata": {},
   "outputs": [
    {
     "name": "stdout",
     "output_type": "stream",
     "text": [
      "0\n"
     ]
    }
   ],
   "source": [
    "# defaultdict\n",
    "\n",
    "dictionary = defaultdict(int, {'a':1,'b':2})\n",
    "\n",
    "print(dictionary['c'])"
   ]
  },
  {
   "cell_type": "code",
   "execution_count": 44,
   "id": "e68b558b-388e-4fbd-8ce0-a844de1543ef",
   "metadata": {},
   "outputs": [
    {
     "name": "stdout",
     "output_type": "stream",
     "text": [
      "True\n"
     ]
    }
   ],
   "source": [
    "# OrderedDict\n",
    "\n",
    "d = OrderedDict()\n",
    "\n",
    "d['a'] = 1\n",
    "d['b'] = 2\n",
    "\n",
    "d2 = OrderedDict()\n",
    "\n",
    "d2['a'] = 1\n",
    "d2['b'] = 2\n",
    "\n",
    "print(d2 == d)"
   ]
  },
  {
   "cell_type": "code",
   "execution_count": 45,
   "id": "62f34ef5-22ef-4cad-881d-7c7c22bbc651",
   "metadata": {},
   "outputs": [
    {
     "name": "stdout",
     "output_type": "stream",
     "text": [
      "False\n"
     ]
    }
   ],
   "source": [
    "d = OrderedDict()\n",
    "\n",
    "d['a'] = 1\n",
    "d['b'] = 2\n",
    "\n",
    "d2 = OrderedDict()\n",
    "\n",
    "d2['a'] = 2\n",
    "d2['b'] = 1\n",
    "\n",
    "print(d2 == d)"
   ]
  },
  {
   "cell_type": "markdown",
   "id": "d10de6d2-366e-4a1d-b6f9-4c5e789cc061",
   "metadata": {},
   "source": [
    "# Useful Modules 2\n",
    "\n",
    "- `datetime` is a Python module for handling dates and times—like getting the current date, measuring time differences, or formatting timestamps.\n",
    "\n",
    "- #### `array` in Python:\n",
    "\n",
    "Used to store elements of the **same data type** efficiently.\n",
    "\n",
    "#### Syntax:\n",
    "\n",
    "```python\n",
    "from array import array\n",
    "a = array('i', [1, 2, 3, 4])\n",
    "```\n",
    "\n",
    "* `'i'` is the type code for integers.\n",
    "* Other examples: `'f'` for float, `'d'` for double.\n",
    "\n",
    "Here are all the **type codes** supported by Python’s built-in `array` module:\n",
    "\n",
    "| Type code | C Type             | Python Type       | Size (bytes)                |\n",
    "| --------- | ------------------ | ----------------- | --------------------------- |\n",
    "| `'b'`     | signed char        | int               | 1                           |\n",
    "| `'B'`     | unsigned char      | int               | 1                           |\n",
    "| `'u'`     | Py\\_UNICODE        | Unicode character | 2 or 4 (platform-dependent) |\n",
    "| `'h'`     | signed short       | int               | 2                           |\n",
    "| `'H'`     | unsigned short     | int               | 2                           |\n",
    "| `'i'`     | signed int         | int               | 2 or 4                      |\n",
    "| `'I'`     | unsigned int       | int               | 2 or 4                      |\n",
    "| `'l'`     | signed long        | int               | 4                           |\n",
    "| `'L'`     | unsigned long      | int               | 4                           |\n",
    "| `'q'`     | signed long long   | int               | 8                           |\n",
    "| `'Q'`     | unsigned long long | int               | 8                           |\n",
    "| `'f'`     | float              | float             | 4                           |\n",
    "| `'d'`     | double             | float             | 8                           |\n",
    "\n",
    "> Note: The `'u'` type code is deprecated in Python 3.3+ and should be avoided. Use strings or `str` instead.\n",
    "\n"
   ]
  },
  {
   "cell_type": "code",
   "execution_count": 49,
   "id": "85e46181-3056-4659-b8e1-ee3fe9168452",
   "metadata": {},
   "outputs": [
    {
     "name": "stdout",
     "output_type": "stream",
     "text": [
      "00:00:00 \n",
      "\n",
      "05:45:02\n"
     ]
    }
   ],
   "source": [
    "import datetime\n",
    "\n",
    "print(datetime.time(),'\\n')\n",
    "\n",
    "print(datetime.time(5,45,2))"
   ]
  },
  {
   "cell_type": "code",
   "execution_count": 50,
   "id": "1bc535a6-4fbb-44ee-bc4c-dcc6050102d6",
   "metadata": {},
   "outputs": [
    {
     "name": "stdout",
     "output_type": "stream",
     "text": [
      "2025-06-05\n"
     ]
    }
   ],
   "source": [
    "print(datetime.date.today())"
   ]
  },
  {
   "cell_type": "markdown",
   "id": "120436f3-53ac-4f2e-8b76-1ca98796b6ef",
   "metadata": {},
   "source": [
    "# Developer Fundamentals VI\n",
    "**Pros of libraries:**\n",
    "\n",
    "* Save time — no need to write everything from scratch\n",
    "* Use expert-built tools\n",
    "* Helps build projects faster\n",
    "\n",
    "**Cons of libraries:**\n",
    "\n",
    "* Some are buggy or badly made\n",
    "* Can make your project heavier (slower/larger)\n",
    "* Adds extra code you may not understand\n",
    "\n",
    "**Tips:**\n",
    "\n",
    "* Only use well-maintained and popular libraries\n",
    "* Read the documentation\n",
    "* Ask: *Can I write this myself easily?*\n",
    "* Use libraries when it saves time or needs special skills\n",
    "\n",
    "**Summary:**\n",
    "Libraries are powerful tools, but use them wisely.\n"
   ]
  },
  {
   "cell_type": "code",
   "execution_count": null,
   "id": "66e8d952-d745-4773-8464-2303c599c533",
   "metadata": {},
   "outputs": [],
   "source": []
  }
 ],
 "metadata": {
  "kernelspec": {
   "display_name": "Python 3 (ipykernel)",
   "language": "python",
   "name": "python3"
  },
  "language_info": {
   "codemirror_mode": {
    "name": "ipython",
    "version": 3
   },
   "file_extension": ".py",
   "mimetype": "text/x-python",
   "name": "python",
   "nbconvert_exporter": "python",
   "pygments_lexer": "ipython3",
   "version": "3.13.2"
  }
 },
 "nbformat": 4,
 "nbformat_minor": 5
}
