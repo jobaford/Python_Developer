{
 "cells": [
  {
   "cell_type": "markdown",
   "id": "8f4b9100-c0b0-4dca-9bcd-467d011e9884",
   "metadata": {},
   "source": [
    "# Conditional Logic\n",
    "- In a if else stetement you can have as many elif as required\n",
    "- What ever is in the if statement must be indented\n",
    "  "
   ]
  },
  {
   "cell_type": "code",
   "execution_count": 1,
   "id": "e600ad75-8be0-4100-b70d-bfd9b30c9b12",
   "metadata": {},
   "outputs": [
    {
     "name": "stdout",
     "output_type": "stream",
     "text": [
      "you are old enough to drive\n"
     ]
    }
   ],
   "source": [
    "is_old = True\n",
    "is_licenced = True\n",
    "\n",
    "if is_old:\n",
    "    print('you are old enough to drive')\n",
    "else:\n",
    "    print('checkcheck')"
   ]
  },
  {
   "cell_type": "code",
   "execution_count": 2,
   "id": "69793828-9da8-4221-8385-4a99d65d86fc",
   "metadata": {},
   "outputs": [
    {
     "name": "stdout",
     "output_type": "stream",
     "text": [
      "you are old enough to drive\n"
     ]
    }
   ],
   "source": [
    "if is_old:\n",
    "    print('you are old enough to drive')\n",
    "elif is_licenced:\n",
    "    print('you can drive know')\n",
    "else:\n",
    "    print('checkcheck')"
   ]
  },
  {
   "cell_type": "code",
   "execution_count": 3,
   "id": "8aac5363-5fda-41c3-a9b6-da6f2994ea3f",
   "metadata": {},
   "outputs": [
    {
     "name": "stdout",
     "output_type": "stream",
     "text": [
      "you are old enough to drive\n"
     ]
    }
   ],
   "source": [
    "if is_old and is_licenced:\n",
    "    print('you are old enough to drive')\n",
    "else:\n",
    "    print('checkcheck')"
   ]
  },
  {
   "cell_type": "markdown",
   "id": "fa55316f-43bc-4dc2-bed6-a638125a7d78",
   "metadata": {},
   "source": [
    "### Truthy vs Falsey\n",
    "##### Truthy:\n",
    "- any number\n",
    "- any string that is not empty\n",
    "  \n",
    "##### Falsey:\n",
    "- 0\n",
    "- 0.0\n",
    "- None\n",
    "- False\n",
    "- 0j\n",
    "- Decimal(0)\n",
    "- Fraction(0,1)\n",
    "- []\n",
    "- {}\n",
    "- ()\n",
    "- set()\n",
    "- b' '\n",
    "- ' '\n",
    "- \" \"\n",
    "- range(0)\n",
    "- objects that return false"
   ]
  },
  {
   "cell_type": "markdown",
   "id": "824eae6f-8cdd-445c-8046-2285b5847591",
   "metadata": {},
   "source": [
    "### Ternary Operator\n",
    "##### sintax:\n",
    "- condition_if_true if conditon else condition_if_false"
   ]
  },
  {
   "cell_type": "code",
   "execution_count": 4,
   "id": "ddf65c48-f8b5-47bc-b881-e94a5c25a0c9",
   "metadata": {},
   "outputs": [
    {
     "name": "stdout",
     "output_type": "stream",
     "text": [
      "message allowed\n"
     ]
    }
   ],
   "source": [
    "is_friend = True\n",
    "can_message = 'message allowed' if is_friend else 'not allowed to message'\n",
    "print(can_message)"
   ]
  },
  {
   "cell_type": "markdown",
   "id": "5746aba0-bb07-4a85-8358-45d8aa26b09b",
   "metadata": {},
   "source": [
    "### Short Circuit\n",
    "Short-circuiting in Python means the interpreter stops evaluating expressions once it has enough information like with `or`, it skips the rest if the first value is true making the code more efficient, as seen when it still prints \"best friends forever.\""
   ]
  },
  {
   "cell_type": "code",
   "execution_count": 5,
   "id": "f7219aa9-0baf-48a6-a1c6-b55540e03427",
   "metadata": {},
   "outputs": [
    {
     "name": "stdout",
     "output_type": "stream",
     "text": [
      "Jobally is king\n"
     ]
    }
   ],
   "source": [
    "is_friend = True\n",
    "is_User = True\n",
    "\n",
    "# it reads true then executes the code\n",
    "if True or False:\n",
    "    print('Jobally is king')"
   ]
  },
  {
   "cell_type": "markdown",
   "id": "16fded6f-575d-4bba-b922-6a3c4df90971",
   "metadata": {},
   "source": [
    "### Logical Operators\n",
    "- and\n",
    "- or\n",
    "- not\n",
    "- not()\n",
    "- \\>\n",
    "- <\n",
    "- =>\n",
    "- =<\n",
    "- ==\n",
    "- !="
   ]
  },
  {
   "cell_type": "markdown",
   "id": "81943ebe-fc3f-4c43-9893-c76132b4cbf5",
   "metadata": {},
   "source": [
    "### is vs ==\n",
    "- The `==` operator checks for value equality, not type equality, and will convert types like `int` to `float` if they’re compatible, but returns `False` for incompatible types like `str` and `int`.\n",
    "  \n",
    "- In Python, `is` checks whether two variables point to the **same location in memory**, not just whether their values are equal.\n",
    "\n",
    "Here are the basic data types that often **share the same memory location** in Python due to interning or caching:\n",
    "\n",
    "#### Typically interned or cached:\n",
    "- **Small integers**: usually from `-5` to `256`\n",
    "- **Short strings**: especially strings that look like identifiers (e.g., `\"hello\"`, `\"abc\"`)\n",
    "- **Booleans**: `True` and `False` (they’re singletons)\n",
    "- **`None`**: always a singleton (one memory location)\n",
    "\n",
    "#### Not cached by default:\n",
    "- **Floats**: not cached — `1.0 is 1.0` is usually `False`\n",
    "- **Longer or dynamically created strings**\n",
    "- **Lists, dicts, sets, tuples**: even with the same values, they are separate objects unless explicitly reused\n",
    "\n",
    "**Interning** or **caching** is when Python stores certain immutable values like small integers and short strings in a shared memory location to improve performance and save space."
   ]
  },
  {
   "cell_type": "code",
   "execution_count": 6,
   "id": "798d0bfd-cef4-479c-8ce8-e68a039a6b97",
   "metadata": {},
   "outputs": [
    {
     "name": "stdout",
     "output_type": "stream",
     "text": [
      "True\n",
      "False\n",
      "False\n",
      "True\n",
      "True\n"
     ]
    }
   ],
   "source": [
    "print(True == 1)\n",
    "print('' == 1)\n",
    "print([] == 1)\n",
    "print(10 == 10.0)\n",
    "print([] == [])"
   ]
  },
  {
   "cell_type": "code",
   "execution_count": 7,
   "id": "d71a1aef-01f0-4daa-a8e0-3c2aca3a8b26",
   "metadata": {},
   "outputs": [
    {
     "name": "stdout",
     "output_type": "stream",
     "text": [
      "False\n",
      "False\n",
      "False\n",
      "False\n",
      "False\n"
     ]
    },
    {
     "name": "stderr",
     "output_type": "stream",
     "text": [
      "<>:1: SyntaxWarning: \"is\" with 'int' literal. Did you mean \"==\"?\n",
      "<>:2: SyntaxWarning: \"is\" with 'str' literal. Did you mean \"==\"?\n",
      "<>:3: SyntaxWarning: \"is\" with 'int' literal. Did you mean \"==\"?\n",
      "<>:4: SyntaxWarning: \"is\" with 'int' literal. Did you mean \"==\"?\n",
      "<>:1: SyntaxWarning: \"is\" with 'int' literal. Did you mean \"==\"?\n",
      "<>:2: SyntaxWarning: \"is\" with 'str' literal. Did you mean \"==\"?\n",
      "<>:3: SyntaxWarning: \"is\" with 'int' literal. Did you mean \"==\"?\n",
      "<>:4: SyntaxWarning: \"is\" with 'int' literal. Did you mean \"==\"?\n",
      "C:\\Users\\jobal\\AppData\\Local\\Temp\\ipykernel_44636\\1066499794.py:1: SyntaxWarning: \"is\" with 'int' literal. Did you mean \"==\"?\n",
      "  print(True is 1)\n",
      "C:\\Users\\jobal\\AppData\\Local\\Temp\\ipykernel_44636\\1066499794.py:2: SyntaxWarning: \"is\" with 'str' literal. Did you mean \"==\"?\n",
      "  print('' is 1)\n",
      "C:\\Users\\jobal\\AppData\\Local\\Temp\\ipykernel_44636\\1066499794.py:3: SyntaxWarning: \"is\" with 'int' literal. Did you mean \"==\"?\n",
      "  print([] is 1)\n",
      "C:\\Users\\jobal\\AppData\\Local\\Temp\\ipykernel_44636\\1066499794.py:4: SyntaxWarning: \"is\" with 'int' literal. Did you mean \"==\"?\n",
      "  print(10 is 10.0)\n"
     ]
    }
   ],
   "source": [
    "print(True is 1)\n",
    "print('' is 1)\n",
    "print([] is 1)\n",
    "print(10 is 10.0)\n",
    "print([] is [])"
   ]
  },
  {
   "cell_type": "markdown",
   "id": "2ad28f5d-581e-42bb-8ae1-56d8e7defded",
   "metadata": {},
   "source": [
    "# Loops\n",
    "All of these are **iterables** because they can be used in a `for` loop to retrieve items one by one. \n",
    "\n",
    "#### **1. String**\n",
    "- A sequence of characters that can be looped over one character at a time.\n",
    "\n",
    "#### **2. List**\n",
    "- An ordered, mutable collection used to loop through items for processing or modification.\n",
    "\n",
    "#### **3. Tuple**\n",
    "- An ordered, immutable collection used to loop through fixed groups of items.\n",
    "\n",
    "#### **4. Dictionary**\n",
    "- A collection of key-value pairs; you can loop through keys, values, or both.\n",
    "\n",
    "#### **5. Set**\n",
    "- An unordered collection of unique items; used in loops to process distinct values.\n",
    "\n",
    "#### **6. Range**\n",
    "- A sequence of numbers commonly used to control the number of loop iterations.\n",
    "\n",
    "#### **7. File object**\n",
    "- Used to loop through lines in a file, one line at a time.\n",
    "\n",
    "#### **8. Generator**\n",
    "- Produces items one at a time using lazy evaluation, efficient for looping over large or infinite sequences."
   ]
  },
  {
   "cell_type": "code",
   "execution_count": 8,
   "id": "c7ecdad1-c2af-49e9-904c-a97118bc9670",
   "metadata": {},
   "outputs": [
    {
     "name": "stdout",
     "output_type": "stream",
     "text": [
      "Z\n",
      "e\n",
      "r\n",
      "o\n",
      " \n",
      "t\n",
      "o\n",
      " \n",
      "M\n",
      "a\n",
      "s\n",
      "t\n",
      "e\n",
      "r\n",
      "y\n"
     ]
    }
   ],
   "source": [
    "for item in 'Zero to Mastery':\n",
    "    print(item)"
   ]
  },
  {
   "cell_type": "code",
   "execution_count": 9,
   "id": "fb3edff7-c682-4871-8339-d902d1e5b279",
   "metadata": {},
   "outputs": [
    {
     "name": "stdout",
     "output_type": "stream",
     "text": [
      "1 a\n",
      "1 b\n",
      "1 c\n",
      "2 a\n",
      "2 b\n",
      "2 c\n",
      "3 a\n",
      "3 b\n",
      "3 c\n",
      "4 a\n",
      "4 b\n",
      "4 c\n",
      "5 a\n",
      "5 b\n",
      "5 c\n"
     ]
    }
   ],
   "source": [
    "for item in (1,2,3,4,5):\n",
    "    for x in ['a','b','c']:\n",
    "        print(item,x)\n",
    "        "
   ]
  },
  {
   "cell_type": "markdown",
   "id": "41e4fd17-0f89-49e6-92e6-1132defc193d",
   "metadata": {},
   "source": [
    "### Iterables\n",
    "- Iterate one by one check each item in the collection.\n",
    "- Iterable is a colleciton of items"
   ]
  },
  {
   "cell_type": "code",
   "execution_count": 10,
   "id": "d7171c88-e652-44b7-840b-3664a4131181",
   "metadata": {},
   "outputs": [
    {
     "name": "stdout",
     "output_type": "stream",
     "text": [
      "name\n",
      "age\n",
      "can_swim\n"
     ]
    }
   ],
   "source": [
    "user = {\n",
    "    'name': 'Golem',\n",
    "    'age': 5006,\n",
    "    'can_swim': False\n",
    "}\n",
    "\n",
    "for item in user:\n",
    "    print(item)"
   ]
  },
  {
   "cell_type": "code",
   "execution_count": 11,
   "id": "e4d74331-043c-4b86-b471-2161964acc8d",
   "metadata": {},
   "outputs": [
    {
     "name": "stdout",
     "output_type": "stream",
     "text": [
      "('name', 'Golem')\n",
      "('age', 5006)\n",
      "('can_swim', False)\n"
     ]
    }
   ],
   "source": [
    "for item in user.items():\n",
    "    print(item)"
   ]
  },
  {
   "cell_type": "code",
   "execution_count": 12,
   "id": "c44c399f-863e-42f7-9af1-c3429a67c0e5",
   "metadata": {},
   "outputs": [
    {
     "name": "stdout",
     "output_type": "stream",
     "text": [
      "Golem\n",
      "5006\n",
      "False\n"
     ]
    }
   ],
   "source": [
    "for item in user.values():\n",
    "    print(item)"
   ]
  },
  {
   "cell_type": "code",
   "execution_count": 13,
   "id": "3c249f62-758b-4e73-85a5-322e8cadf74e",
   "metadata": {},
   "outputs": [
    {
     "name": "stdout",
     "output_type": "stream",
     "text": [
      "name\n",
      "age\n",
      "can_swim\n"
     ]
    }
   ],
   "source": [
    "for item in user.keys():\n",
    "    print(item)"
   ]
  },
  {
   "cell_type": "code",
   "execution_count": 14,
   "id": "cc859d16-1731-4d50-94ce-ed10b62c2545",
   "metadata": {},
   "outputs": [
    {
     "name": "stdout",
     "output_type": "stream",
     "text": [
      "name Golem\n",
      "age 5006\n",
      "can_swim False\n"
     ]
    }
   ],
   "source": [
    "for item in user.items():\n",
    "    key, value = item\n",
    "    print(key, value)"
   ]
  },
  {
   "cell_type": "code",
   "execution_count": 15,
   "id": "e25d6b2d-04f2-4bf4-b199-fb995f3a6f98",
   "metadata": {},
   "outputs": [
    {
     "name": "stdout",
     "output_type": "stream",
     "text": [
      "name Golem\n",
      "age 5006\n",
      "can_swim False\n"
     ]
    }
   ],
   "source": [
    "for key, value in user.items():\n",
    "    print(key, value)"
   ]
  },
  {
   "cell_type": "markdown",
   "id": "00470447-7c9d-4007-871d-6002485a7e79",
   "metadata": {},
   "source": [
    "### Range()\n",
    "- Range return an object that produces a sequence of integers from start."
   ]
  },
  {
   "cell_type": "code",
   "execution_count": 16,
   "id": "927d5122-e203-4cd7-93ce-0c4e58e154a8",
   "metadata": {},
   "outputs": [
    {
     "name": "stdout",
     "output_type": "stream",
     "text": [
      "range(0, 100)\n"
     ]
    }
   ],
   "source": [
    "print(range(100))"
   ]
  },
  {
   "cell_type": "code",
   "execution_count": 17,
   "id": "8c1d883d-1808-4ebb-83a1-3a737ee118f3",
   "metadata": {},
   "outputs": [
    {
     "name": "stdout",
     "output_type": "stream",
     "text": [
      "range(0, 100)\n"
     ]
    }
   ],
   "source": [
    "print(range(0, 100))"
   ]
  },
  {
   "cell_type": "code",
   "execution_count": 18,
   "id": "505108f3-fca2-4a00-bdca-9a11ab5391de",
   "metadata": {},
   "outputs": [
    {
     "name": "stdout",
     "output_type": "stream",
     "text": [
      "0\n",
      "1\n",
      "2\n",
      "3\n",
      "4\n",
      "5\n",
      "6\n",
      "7\n",
      "8\n",
      "9\n"
     ]
    }
   ],
   "source": [
    "for i in range(10):\n",
    "    print(i)"
   ]
  },
  {
   "cell_type": "code",
   "execution_count": 19,
   "id": "92e637a5-f9f0-40ee-aa76-66b6dc57dd42",
   "metadata": {},
   "outputs": [
    {
     "name": "stdout",
     "output_type": "stream",
     "text": [
      "Hello\n",
      "Hello\n",
      "Hello\n",
      "Hello\n",
      "Hello\n"
     ]
    }
   ],
   "source": [
    "for _ in range(5):\n",
    "    print('Hello')"
   ]
  },
  {
   "cell_type": "code",
   "execution_count": 20,
   "id": "c1dffac6-2449-4a77-be50-e5f452821ab6",
   "metadata": {},
   "outputs": [
    {
     "name": "stdout",
     "output_type": "stream",
     "text": [
      "5\n",
      "4\n",
      "3\n",
      "2\n",
      "1\n"
     ]
    }
   ],
   "source": [
    "for i in range(5,0,-1):\n",
    "    print(i)"
   ]
  },
  {
   "cell_type": "code",
   "execution_count": 21,
   "id": "1ffbb21a-c43f-498e-8d80-56142d775786",
   "metadata": {},
   "outputs": [
    {
     "name": "stdout",
     "output_type": "stream",
     "text": [
      "[0, 1, 2, 3, 4, 5, 6, 7, 8, 9]\n",
      "[0, 1, 2, 3, 4, 5, 6, 7, 8, 9]\n"
     ]
    }
   ],
   "source": [
    "for _ in range(2):\n",
    "    print(list(range(10)))"
   ]
  },
  {
   "cell_type": "markdown",
   "id": "9cfadc84-ae6c-4e48-92d1-fe5b26910f51",
   "metadata": {},
   "source": [
    "### Enumerate()"
   ]
  },
  {
   "cell_type": "code",
   "execution_count": 22,
   "id": "a689abd0-4e0f-4bf4-bb6c-2e0641355925",
   "metadata": {},
   "outputs": [
    {
     "name": "stdout",
     "output_type": "stream",
     "text": [
      "0 H\n",
      "1 e\n",
      "2 l\n",
      "3 l\n",
      "4 o\n",
      "5 o\n"
     ]
    }
   ],
   "source": [
    "for i,char in enumerate('Helloo'):\n",
    "    print(i, char)"
   ]
  },
  {
   "cell_type": "code",
   "execution_count": 23,
   "id": "9d981c27-5196-41af-a357-0deeeb5a2ae2",
   "metadata": {},
   "outputs": [
    {
     "name": "stdout",
     "output_type": "stream",
     "text": [
      "index of 50 is: 50\n"
     ]
    }
   ],
   "source": [
    "for i, char in enumerate(list(range(100))):\n",
    "    if char == 50:\n",
    "        print(f'index of 50 is: {i}')"
   ]
  },
  {
   "cell_type": "markdown",
   "id": "921e92a0-63f1-4de5-9fb5-1376d581ed71",
   "metadata": {},
   "source": [
    "### While Loop\n",
    "- The else will only execute if there is no break"
   ]
  },
  {
   "cell_type": "code",
   "execution_count": 24,
   "id": "cd3e101f-920b-4cf8-a8c6-73f63c896f07",
   "metadata": {},
   "outputs": [
    {
     "name": "stdout",
     "output_type": "stream",
     "text": [
      "0\n"
     ]
    }
   ],
   "source": [
    "# this will cause an infinit loop\n",
    "i = 0\n",
    "while i < 50:\n",
    "    print(i)\n",
    "    break"
   ]
  },
  {
   "cell_type": "code",
   "execution_count": 25,
   "id": "ed6bc0eb-0e24-4af0-94eb-843631f34388",
   "metadata": {},
   "outputs": [
    {
     "name": "stdout",
     "output_type": "stream",
     "text": [
      "0\n",
      "1\n",
      "2\n",
      "3\n",
      "4\n",
      "5\n",
      "6\n",
      "7\n",
      "8\n",
      "9\n"
     ]
    }
   ],
   "source": [
    "i = 0\n",
    "while i < 10:\n",
    "    print(i)\n",
    "    i += 1"
   ]
  },
  {
   "cell_type": "code",
   "execution_count": 26,
   "id": "b1164d8d-af0c-4b53-9a1d-f2ff7d8fc66d",
   "metadata": {},
   "outputs": [
    {
     "name": "stdout",
     "output_type": "stream",
     "text": [
      "0\n",
      "1\n",
      "2\n",
      "3\n",
      "4\n",
      "5\n",
      "6\n",
      "7\n",
      "8\n",
      "9\n",
      "done with all the work\n"
     ]
    }
   ],
   "source": [
    "i = 0\n",
    "while i < 10:\n",
    "    print(i)\n",
    "    i += 1\n",
    "else:\n",
    "    print('done with all the work')"
   ]
  },
  {
   "cell_type": "code",
   "execution_count": 27,
   "id": "4387ad59-bc53-48ec-bd4f-f1f5f3a53156",
   "metadata": {},
   "outputs": [
    {
     "name": "stdin",
     "output_type": "stream",
     "text": [
      "say somthing:  something\n"
     ]
    }
   ],
   "source": [
    "while True:\n",
    "    input('say somthing: ')\n",
    "    break"
   ]
  },
  {
   "cell_type": "code",
   "execution_count": 28,
   "id": "0638a3f9-3421-4e4d-9b11-c4951b0f578d",
   "metadata": {},
   "outputs": [
    {
     "name": "stdin",
     "output_type": "stream",
     "text": [
      "say somthing:  hi\n",
      "say somthing:  bye\n"
     ]
    }
   ],
   "source": [
    "while True:\n",
    "    response = input('say somthing: ')\n",
    "    if response == 'bye':\n",
    "         break\n",
    "   "
   ]
  },
  {
   "cell_type": "markdown",
   "id": "5ab140f9-72dc-476a-9d19-91a2b0344a95",
   "metadata": {},
   "source": [
    "#### break, contines, pass\n",
    "- break breaks out of a look\n",
    "- continue will go back to the look\n",
    "- pass passes throuhg the code withoud an error"
   ]
  },
  {
   "cell_type": "markdown",
   "id": "e19b174e-e302-4412-b041-0f6c2d991b2c",
   "metadata": {},
   "source": [
    "#### Modify elements in a matrics"
   ]
  },
  {
   "cell_type": "code",
   "execution_count": 47,
   "id": "fe583253-06f2-4ee8-876b-ee98bffc064a",
   "metadata": {},
   "outputs": [
    {
     "name": "stdout",
     "output_type": "stream",
     "text": [
      "[[' ', ' ', ' ', '*', ' ', ' ', ' '], [' ', ' ', '*', '*', '*', ' ', ' '], [' ', '*', '*', '*', '*', '*', ' '], ['*', '*', '*', '*', '*', '*', '*'], [' ', ' ', ' ', '*', ' ', ' ', ' '], [' ', ' ', ' ', '*', ' ', ' ', ' ']]\n"
     ]
    }
   ],
   "source": [
    "#1 iterate over picture.\n",
    "    # if 0 -> print ''\n",
    "    # if 1 -> print *\n",
    "\n",
    "picture = [\n",
    "    [0,0,0,1,0,0,0],\n",
    "    [0,0,1,1,1,0,0],\n",
    "    [0,1,1,1,1,1,0],\n",
    "    [1,1,1,1,1,1,1],\n",
    "    [0,0,0,1,0,0,0],\n",
    "    [0,0,0,1,0,0,0]\n",
    "]\n",
    "\n",
    "for x in range(len(picture)):\n",
    "    for y in range(len(picture[x])):\n",
    "        if picture[x][y] == 1:\n",
    "            picture[x][y] = '*'       \n",
    "        else:\n",
    "            picture[x][y] = ' '\n",
    "print(picture)"
   ]
  },
  {
   "cell_type": "code",
   "execution_count": 48,
   "id": "52892526-ef33-49ff-bb0e-9598138dcc93",
   "metadata": {},
   "outputs": [
    {
     "name": "stdout",
     "output_type": "stream",
     "text": [
      "   *   \n",
      "  ***  \n",
      " ***** \n",
      "*******\n",
      "   *   \n",
      "   *   \n"
     ]
    }
   ],
   "source": [
    "picture = [\n",
    "    [0,0,0,1,0,0,0],\n",
    "    [0,0,1,1,1,0,0],\n",
    "    [0,1,1,1,1,1,0],\n",
    "    [1,1,1,1,1,1,1],\n",
    "    [0,0,0,1,0,0,0],\n",
    "    [0,0,0,1,0,0,0]\n",
    "]\n",
    "\n",
    "for image in picture:\n",
    "    for pixel in image:\n",
    "        if pixel == 1:\n",
    "            print('*', end='')       \n",
    "        else:\n",
    "            print(' ', end='')\n",
    "    print('') # need a new line after every row\n"
   ]
  },
  {
   "cell_type": "code",
   "execution_count": 49,
   "id": "eee98111-8d06-4643-8a5b-442d71ef7ac9",
   "metadata": {},
   "outputs": [
    {
     "name": "stdout",
     "output_type": "stream",
     "text": [
      "   *   \n",
      "  ***  \n",
      " ***** \n",
      "*******\n",
      "   *   \n",
      "   *   \n"
     ]
    }
   ],
   "source": [
    "# clean code\n",
    "picture = [\n",
    "    [0,0,0,1,0,0,0],\n",
    "    [0,0,1,1,1,0,0],\n",
    "    [0,1,1,1,1,1,0],\n",
    "    [1,1,1,1,1,1,1],\n",
    "    [0,0,0,1,0,0,0],\n",
    "    [0,0,0,1,0,0,0]\n",
    "]\n",
    "\n",
    "for image in picture:\n",
    "    for pixel in image:\n",
    "        if pixel:\n",
    "            print('*', end='')       \n",
    "        else:\n",
    "            print(' ', end='')\n",
    "    print('') # need a new line after every row\n"
   ]
  },
  {
   "cell_type": "markdown",
   "id": "13161d3d-8e8c-45f2-a1ef-448987be1cd3",
   "metadata": {},
   "source": [
    "# Fundamentals IV\n",
    "**What is good code?**\n",
    "\n",
    "Good code is:\n",
    "\n",
    "1. **Clean** – Follows consistent style and best practices (like using proper spacing and formatting).\n",
    "2. **Readable** – Easy for you and others to understand, even months or years later. Use clear variable names and helpful comments.\n",
    "3. **Predictable** – Avoid clever or confusing tricks. Code should do one thing well and be easy to follow.\n",
    "4. **DRY (Don’t Repeat Yourself)** – Don’t copy-paste code. Reuse logic using variables or functions to keep it short and maintainable.\n",
    "\n",
    "These principles help your code stay clear, flexible, and easy to work with as it grows. You’ll get better with practice!"
   ]
  },
  {
   "cell_type": "markdown",
   "id": "f97ec367-b4d8-438e-bda0-1ad791a370aa",
   "metadata": {},
   "source": [
    "### Find Duplicates"
   ]
  },
  {
   "cell_type": "code",
   "execution_count": 50,
   "id": "bcce77d8-e703-4771-9783-5c5ea03d2677",
   "metadata": {},
   "outputs": [
    {
     "name": "stdout",
     "output_type": "stream",
     "text": [
      "['b', 'n']\n"
     ]
    }
   ],
   "source": [
    "# iterate over a list of characters\n",
    "# if char == same char add to empty list\n",
    "some_list = ['a','b','c','b','d','m','n','n']\n",
    "duplicates = []\n",
    "\n",
    "for char in some_list:\n",
    "    if some_list.count(char) > 1:\n",
    "        if char not in duplicates:\n",
    "            duplicates.append(char)\n",
    "print(duplicates)"
   ]
  },
  {
   "cell_type": "markdown",
   "id": "1bacef9e-90a1-4808-abc0-71d770581c6e",
   "metadata": {},
   "source": [
    "# Functions\n",
    "- functionos are good for reusing code\n",
    "- def name(parameters):\n",
    "- name(argument or invoke)\n",
    "- Function must allways return something if not it will return None"
   ]
  },
  {
   "cell_type": "code",
   "execution_count": 51,
   "id": "26a1edfb-f5b8-4d5e-a475-2d624d84e746",
   "metadata": {},
   "outputs": [
    {
     "name": "stdout",
     "output_type": "stream",
     "text": [
      "hello\n"
     ]
    }
   ],
   "source": [
    "def say_hello():\n",
    "    print('hello')\n",
    "say_hello()"
   ]
  },
  {
   "cell_type": "code",
   "execution_count": 52,
   "id": "4342dda4-99ef-4148-bc3b-2f0c6809f8cb",
   "metadata": {},
   "outputs": [
    {
     "name": "stdout",
     "output_type": "stream",
     "text": [
      "Helllloooo Jobally😊\n"
     ]
    }
   ],
   "source": [
    "def say_hello(name, emoji):\n",
    "    print(f'Helllloooo {name}{emoji}')\n",
    "\n",
    "say_hello('Jobally','😊')"
   ]
  },
  {
   "cell_type": "markdown",
   "id": "1b379554-c336-4d24-9e9e-9c726a55381f",
   "metadata": {},
   "source": [
    "#### Keyword Arguments\n",
    "- this is bad practice should not use"
   ]
  },
  {
   "cell_type": "code",
   "execution_count": 53,
   "id": "2fbbc841-3b73-4548-9522-96f39d9c5d69",
   "metadata": {},
   "outputs": [
    {
     "name": "stdout",
     "output_type": "stream",
     "text": [
      "Helllloooo Jobally😊\n"
     ]
    }
   ],
   "source": [
    "def say_hello(name, emoji):\n",
    "    print(f'Helllloooo {name}{emoji}')\n",
    "\n",
    "say_hello(name='Jobally',emoji='😊')"
   ]
  },
  {
   "cell_type": "markdown",
   "id": "0fbbfd7e-713b-4037-a8d1-34600f512a44",
   "metadata": {},
   "source": [
    "#### Default Parameter"
   ]
  },
  {
   "cell_type": "code",
   "execution_count": 54,
   "id": "5b82e1a4-46d8-4eaa-99d1-6db6c2b43786",
   "metadata": {},
   "outputs": [
    {
     "name": "stdout",
     "output_type": "stream",
     "text": [
      "Helllloooo Jobally😊\n"
     ]
    }
   ],
   "source": [
    "def say_hello(name='Jobally', emoji='😊'):\n",
    "    print(f'Helllloooo {name}{emoji}')\n",
    "\n",
    "say_hello()"
   ]
  },
  {
   "cell_type": "markdown",
   "id": "662b75f4-b440-4fcd-92e2-527799313834",
   "metadata": {},
   "source": [
    "#### Return\n",
    "- A return keyword automaticaly exits the function"
   ]
  },
  {
   "cell_type": "code",
   "execution_count": 55,
   "id": "58658cd0-59b8-40ca-8315-b6f48334e76c",
   "metadata": {},
   "outputs": [
    {
     "name": "stdout",
     "output_type": "stream",
     "text": [
      "None\n"
     ]
    }
   ],
   "source": [
    "def sum1(num1,num2):\n",
    "    num1 + num2\n",
    "\n",
    "print(sum1(1,2))"
   ]
  },
  {
   "cell_type": "code",
   "execution_count": 56,
   "id": "2efaed4b-e8e1-4538-bfcd-3b62c1f3f3d3",
   "metadata": {},
   "outputs": [
    {
     "name": "stdout",
     "output_type": "stream",
     "text": [
      "3\n"
     ]
    }
   ],
   "source": [
    "def sum1(num1,num2):\n",
    "    return num1 + num2\n",
    "\n",
    "total = sum1(1,2)\n",
    "\n",
    "print(total)"
   ]
  },
  {
   "cell_type": "code",
   "execution_count": 57,
   "id": "34110bde-717a-49e4-9a2f-ba666e681c23",
   "metadata": {},
   "outputs": [
    {
     "name": "stdout",
     "output_type": "stream",
     "text": [
      "<function sum1.<locals>.another_function at 0x0000026EFD802660>\n"
     ]
    }
   ],
   "source": [
    "def sum1(num1,num2):\n",
    "    def another_function(num1,num2):\n",
    "        return num1 + num2\n",
    "    return another_function\n",
    "\n",
    "total = sum1(1,2)\n",
    "\n",
    "print(total )"
   ]
  },
  {
   "cell_type": "code",
   "execution_count": 58,
   "id": "e6d7104e-7bcb-4deb-8c49-de9f0d263e60",
   "metadata": {},
   "outputs": [
    {
     "name": "stdout",
     "output_type": "stream",
     "text": [
      "11\n"
     ]
    }
   ],
   "source": [
    "def sum1(num1,num2):\n",
    "    def another_function(num1,num2):\n",
    "        return num1 + num2\n",
    "    return another_function\n",
    "\n",
    "total = sum1(1,2)\n",
    "\n",
    "print(total(3,8))"
   ]
  },
  {
   "cell_type": "code",
   "execution_count": 59,
   "id": "62850b80-4650-48b4-97a2-5e98f99b5c0d",
   "metadata": {},
   "outputs": [
    {
     "name": "stdout",
     "output_type": "stream",
     "text": [
      "3\n"
     ]
    }
   ],
   "source": [
    "def sum1(num1,num2):\n",
    "    def another_function(num1,num2):\n",
    "        return num1 + num2\n",
    "    return another_function(num1,num2)\n",
    "\n",
    "total = sum1(1,2)\n",
    "\n",
    "print(total)"
   ]
  },
  {
   "cell_type": "markdown",
   "id": "2ed9b909-aa25-4e90-ad98-de5c5138fbb0",
   "metadata": {},
   "source": [
    "### Methods vs Functions\n",
    "- A method has to be owned by something (what ever is left of the dot of method) they are owned by an object.\n",
    "\n",
    "##### 🔤 **String Methods** (used with text)\n",
    "| Method | Example | Description |\n",
    "|--------|---------|-------------|\n",
    "| `.lower()` | `\"HELLO\".lower()` → `\"hello\"` | Makes string lowercase |\n",
    "| `.upper()` | `\"hello\".upper()` → `\"HELLO\"` | Makes string uppercase |\n",
    "| `.strip()` | `\"  hi  \".strip()` → `\"hi\"` | Removes spaces from both ends |\n",
    "| `.replace()` | `\"cat\".replace(\"c\", \"b\")` → `\"bat\"` | Replaces parts of a string |\n",
    "| `.split()` | `\"a,b,c\".split(\",\")` → `[\"a\", \"b\", \"c\"]` | Splits string into list |\n",
    "| `.find()` | `\"hello\".find(\"e\")` → `1` | Finds position of character (or -1) |\n",
    "| `.join()` | `\" \".join([\"hi\", \"there\"])` → `\"hi there\"` | Joins list into a string |\n",
    "\n",
    "---\n",
    "\n",
    "##### 📋 **List Methods**\n",
    "| Method | Example | Description |\n",
    "|--------|---------|-------------|\n",
    "| `.append()` | `my_list.append(4)` | Adds item to end |\n",
    "| `.insert()` | `my_list.insert(1, \"a\")` | Inserts at specific index |\n",
    "| `.remove()` | `my_list.remove(\"a\")` | Removes first matching value |\n",
    "| `.pop()` | `my_list.pop()` → removes last item | Removes and returns item |\n",
    "| `.sort()` | `my_list.sort()` | Sorts the list in-place |\n",
    "| `.reverse()` | `my_list.reverse()` | Reverses the list in-place |\n",
    "| `.index()` | `my_list.index(\"a\")` | Finds the index of item |\n",
    "| `.count()` | `my_list.count(\"a\")` | Counts how many times item appears |\n",
    "\n",
    "---\n",
    "\n",
    "##### 📚 **Dictionary Methods**\n",
    "| Method | Example | Description |\n",
    "|--------|---------|-------------|\n",
    "| `.get()` | `my_dict.get(\"key\", default)` | Safer way to access a key |\n",
    "| `.keys()` | `my_dict.keys()` | Returns all keys |\n",
    "| `.values()` | `my_dict.values()` | Returns all values |\n",
    "| `.items()` | `my_dict.items()` | Returns key-value pairs |\n",
    "| `.update()` | `my_dict.update(new_dict)` | Updates with another dict |\n",
    "| `.pop()` | `my_dict.pop(\"key\")` | Removes key and returns value |\n",
    "\n",
    "---\n",
    "\n",
    "##### 🔢 **Number Methods**\n",
    "| Method | Example | Description |\n",
    "|--------|---------|-------------|\n",
    "| `abs()` | `abs(-5)` → `5` | Absolute value |\n",
    "| `round()` | `round(3.456, 2)` → `3.46` | Rounds a number |\n",
    "| `min()` | `min(3, 1, 4)` → `1` | Finds smallest |\n",
    "| `max()` | `max(3, 1, 4)` → `4` | Finds largest |\n",
    "| `sum()` | `sum([1, 2, 3])` → `6` | Adds all items |\n",
    "\n",
    "---\n",
    "\n",
    "##### 🧪 **Useful Built-ins**\n",
    "| Method | Example | Description |\n",
    "|--------|---------|-------------|\n",
    "| `len()` | `len(\"hello\")` → `5` | Length of an item |\n",
    "| `type()` | `type(5)` → `<class 'int'>` | Checks the data type |\n",
    "| `range()` | `range(5)` → `0, 1, 2, 3, 4` | Creates a range of numbers |\n",
    "| `enumerate()` | `enumerate(['a','b'])` | Pairs index with items |\n",
    "| `zip()` | `zip([1,2],[3,4])` | Pairs elements from lists |\n",
    "\n",
    "---"
   ]
  },
  {
   "cell_type": "markdown",
   "id": "64f20ab3-b381-416a-a825-bed253834b54",
   "metadata": {},
   "source": [
    "### Docstrings"
   ]
  },
  {
   "cell_type": "code",
   "execution_count": 60,
   "id": "4abafba2-7dc6-4826-8653-542ca2754fe4",
   "metadata": {},
   "outputs": [
    {
     "name": "stdout",
     "output_type": "stream",
     "text": [
      "!!!\n"
     ]
    }
   ],
   "source": [
    "def test(a):\n",
    "    '''\n",
    "    Info: this funtion tests and prints param a\n",
    "    '''\n",
    "    print(a)\n",
    "\n",
    "test('!!!')"
   ]
  },
  {
   "cell_type": "code",
   "execution_count": 61,
   "id": "a8edea3b-6279-42d4-8259-37fe516e2a1e",
   "metadata": {},
   "outputs": [
    {
     "name": "stdout",
     "output_type": "stream",
     "text": [
      "Help on function test in module __main__:\n",
      "\n",
      "test(a)\n",
      "    Info: this funtion tests and prints param a\n",
      "\n"
     ]
    }
   ],
   "source": [
    "help(test) # help() get test on"
   ]
  },
  {
   "cell_type": "code",
   "execution_count": 62,
   "id": "e4e27a1f-697d-48b4-8452-7e9b27aa6f41",
   "metadata": {},
   "outputs": [
    {
     "name": "stdout",
     "output_type": "stream",
     "text": [
      "\n",
      "Info: this funtion tests and prints param a\n",
      "\n"
     ]
    }
   ],
   "source": [
    "print(test.__doc__)"
   ]
  },
  {
   "cell_type": "markdown",
   "id": "48a963d8-5e5b-47da-ac8b-50497d11c76c",
   "metadata": {},
   "source": [
    "### Clean Code"
   ]
  },
  {
   "cell_type": "code",
   "execution_count": 63,
   "id": "0d0d7e7f-ffaa-4527-a725-41f721e517d5",
   "metadata": {},
   "outputs": [
    {
     "name": "stdout",
     "output_type": "stream",
     "text": [
      "True\n"
     ]
    }
   ],
   "source": [
    "def is_even(num):\n",
    "    return num % 2 == 0 # this is an expression this will return a bool\n",
    "\n",
    "print(is_even(52))"
   ]
  },
  {
   "cell_type": "markdown",
   "id": "b3431f4b-b562-49f1-83e3-a81916a9c68a",
   "metadata": {},
   "source": [
    "### *args and **kwargs\n",
    "- **`*args`** is used to pass a variable number of **positional arguments**, and they are received as a **tuple**.\n",
    "- **`**kwargs`** is used to pass a variable number of **keyword arguments**, and they are received as a **dictionary**.\n",
    "\n",
    "Rules:\n",
    "1. params\n",
    "2. *args\n",
    "3. default parameters\n",
    "4. **kwargs"
   ]
  },
  {
   "cell_type": "code",
   "execution_count": 64,
   "id": "80ad369a-ada1-462e-b414-bc963971a35c",
   "metadata": {},
   "outputs": [
    {
     "ename": "TypeError",
     "evalue": "super_func() takes 1 positional argument but 5 were given",
     "output_type": "error",
     "traceback": [
      "\u001b[31m---------------------------------------------------------------------------\u001b[39m",
      "\u001b[31mTypeError\u001b[39m                                 Traceback (most recent call last)",
      "\u001b[36mCell\u001b[39m\u001b[36m \u001b[39m\u001b[32mIn[64]\u001b[39m\u001b[32m, line 4\u001b[39m\n\u001b[32m      1\u001b[39m \u001b[38;5;28;01mdef\u001b[39;00m\u001b[38;5;250m \u001b[39m\u001b[34msuper_func\u001b[39m(args): \u001b[38;5;66;03m# this args only takes one argument\u001b[39;00m\n\u001b[32m      2\u001b[39m     \u001b[38;5;28;01mreturn\u001b[39;00m \u001b[38;5;28msum\u001b[39m(args) \n\u001b[32m----> \u001b[39m\u001b[32m4\u001b[39m super_func(\u001b[32m1\u001b[39m,\u001b[32m2\u001b[39m,\u001b[32m3\u001b[39m,\u001b[32m4\u001b[39m,\u001b[32m5\u001b[39m)\n",
      "\u001b[31mTypeError\u001b[39m: super_func() takes 1 positional argument but 5 were given"
     ]
    }
   ],
   "source": [
    "def super_func(args): # this args only takes one argument\n",
    "    return sum(args) \n",
    "\n",
    "super_func(1,2,3,4,5)"
   ]
  },
  {
   "cell_type": "code",
   "execution_count": 65,
   "id": "30660f22-c61c-4a5c-8f5a-6916b04b02d3",
   "metadata": {},
   "outputs": [
    {
     "name": "stdout",
     "output_type": "stream",
     "text": [
      "1 2 3 4 5\n"
     ]
    },
    {
     "data": {
      "text/plain": [
       "15"
      ]
     },
     "execution_count": 65,
     "metadata": {},
     "output_type": "execute_result"
    }
   ],
   "source": [
    "def super_func(*args):\n",
    "    print(*args)\n",
    "    return sum(args) \n",
    "\n",
    "super_func(1,2,3,4,5)"
   ]
  },
  {
   "cell_type": "code",
   "execution_count": 66,
   "id": "8f773006-2d94-41ca-98fa-36bf4b252313",
   "metadata": {},
   "outputs": [
    {
     "name": "stdout",
     "output_type": "stream",
     "text": [
      "(1, 2, 3, 4, 5)\n",
      "15\n"
     ]
    }
   ],
   "source": [
    "def super_func(*args):\n",
    "    print(args) # without the * it will return a tupol\n",
    "    return sum(args) \n",
    "\n",
    "print(super_func(1,2,3,4,5))"
   ]
  },
  {
   "cell_type": "code",
   "execution_count": 67,
   "id": "d86f3ad5-0d6e-4ea8-9ae9-8a3f3180ebd4",
   "metadata": {},
   "outputs": [
    {
     "name": "stdout",
     "output_type": "stream",
     "text": [
      "{'num1': 5, 'num2': 10}\n",
      "15\n"
     ]
    }
   ],
   "source": [
    "def super_func(*args, **kwargs):\n",
    "    print(kwargs) # without the * it will return a tupol\n",
    "    return sum(args) \n",
    "\n",
    "print(super_func(1,2,3,4,5, num1=5, num2=10))"
   ]
  },
  {
   "cell_type": "code",
   "execution_count": 68,
   "id": "205533d3-0d29-41eb-a387-fea117cca834",
   "metadata": {},
   "outputs": [
    {
     "name": "stdout",
     "output_type": "stream",
     "text": [
      "30\n"
     ]
    }
   ],
   "source": [
    "def super_func(*args, **kwargs):\n",
    "    total = 0\n",
    "    for items in kwargs.values():\n",
    "        total += items\n",
    "    return sum(args) + total\n",
    "\n",
    "print(super_func(1,2,3,4,5, num1=5, num2=10))"
   ]
  },
  {
   "cell_type": "markdown",
   "id": "8616034f-aff0-4bf2-b0ac-f032e43e378f",
   "metadata": {},
   "source": [
    "### Exercise: Function"
   ]
  },
  {
   "cell_type": "code",
   "execution_count": 75,
   "id": "e132e3c9-3cec-4a42-9253-faeafb9912fa",
   "metadata": {},
   "outputs": [
    {
     "name": "stdout",
     "output_type": "stream",
     "text": [
      "10\n"
     ]
    }
   ],
   "source": [
    "# filter even number\n",
    "# get the highest number\n",
    "\n",
    "def highest_even(li):\n",
    "    high_list = []\n",
    "    for i in li:\n",
    "        if i % 2 == 0:\n",
    "            high_list.append(i)\n",
    "    return max(high_list)\n",
    "print(highest_even([10,2,3,4,8,11]))"
   ]
  },
  {
   "cell_type": "markdown",
   "id": "6ca98138-bc87-440a-b283-2d15a4894473",
   "metadata": {},
   "source": [
    "# Walrus Operator\n",
    "- Walrus operator assingns values to variables as part of a larger expression."
   ]
  },
  {
   "cell_type": "code",
   "execution_count": 78,
   "id": "bdbfe7ef-26d8-4196-9936-76a63627459e",
   "metadata": {},
   "outputs": [
    {
     "name": "stdout",
     "output_type": "stream",
     "text": [
      "too long 14 elements\n",
      "14\n",
      "13\n",
      "12\n",
      "11\n",
      "10\n",
      "9\n",
      "8\n",
      "7\n",
      "6\n",
      "5\n",
      "4\n",
      "3\n",
      "2\n"
     ]
    }
   ],
   "source": [
    "a = 'helloooooooooo'\n",
    "\n",
    "if (n := len(a)) > 10: # im saying that n is = to len(a) it has the value\n",
    "    print(f'too long {n} elements')\n",
    "\n",
    "# The slice `a[:-1]` returns a new list that includes all elements of `a` except the last one.\n",
    "# It does not modify the original list, and the last element is excluded from the new list.\n",
    "\n",
    "while (n := len(a)) > 1:\n",
    "    print(n)\n",
    "    a = a[:-1]"
   ]
  },
  {
   "cell_type": "markdown",
   "id": "a327549c-a665-45a8-8dec-30a60fcefbe7",
   "metadata": {},
   "source": [
    "# Scope\n",
    "- Scope means what variable i have access to?\n",
    "\n",
    "**Scope Rules:**\n",
    "1. Start with local scope (example variable in a function is local)\n",
    "2. If there is no local scope check **parent local scope** (parent is an outer function of a nested function)\n",
    "3. Global\n",
    "4. Built in python functions (sum(), len(), max() ...)"
   ]
  },
  {
   "cell_type": "code",
   "execution_count": 79,
   "id": "ad93b0d7-59a1-4fa0-8c43-a2c4830c330b",
   "metadata": {},
   "outputs": [
    {
     "ename": "UnboundLocalError",
     "evalue": "cannot access local variable 'total' where it is not associated with a value",
     "output_type": "error",
     "traceback": [
      "\u001b[31m---------------------------------------------------------------------------\u001b[39m",
      "\u001b[31mUnboundLocalError\u001b[39m                         Traceback (most recent call last)",
      "\u001b[36mCell\u001b[39m\u001b[36m \u001b[39m\u001b[32mIn[79]\u001b[39m\u001b[32m, line 7\u001b[39m\n\u001b[32m      4\u001b[39m     total += \u001b[32m1\u001b[39m\n\u001b[32m      5\u001b[39m     \u001b[38;5;28;01mreturn\u001b[39;00m total\n\u001b[32m----> \u001b[39m\u001b[32m7\u001b[39m count()\n",
      "\u001b[36mCell\u001b[39m\u001b[36m \u001b[39m\u001b[32mIn[79]\u001b[39m\u001b[32m, line 4\u001b[39m, in \u001b[36mcount\u001b[39m\u001b[34m()\u001b[39m\n\u001b[32m      3\u001b[39m \u001b[38;5;28;01mdef\u001b[39;00m\u001b[38;5;250m \u001b[39m\u001b[34mcount\u001b[39m():\n\u001b[32m----> \u001b[39m\u001b[32m4\u001b[39m     total += \u001b[32m1\u001b[39m\n\u001b[32m      5\u001b[39m     \u001b[38;5;28;01mreturn\u001b[39;00m total\n",
      "\u001b[31mUnboundLocalError\u001b[39m: cannot access local variable 'total' where it is not associated with a value"
     ]
    }
   ],
   "source": [
    "total = 0\n",
    "\n",
    "def count():\n",
    "    total += 1\n",
    "    return total\n",
    "\n",
    "count()"
   ]
  },
  {
   "cell_type": "code",
   "execution_count": 81,
   "id": "716cdaa1-f247-4144-8384-af0a39499df3",
   "metadata": {},
   "outputs": [
    {
     "data": {
      "text/plain": [
       "1"
      ]
     },
     "execution_count": 81,
     "metadata": {},
     "output_type": "execute_result"
    }
   ],
   "source": [
    "total = 0\n",
    "\n",
    "def count():\n",
    "    total = 0\n",
    "    total += 1\n",
    "    return total\n",
    "\n",
    "count()"
   ]
  },
  {
   "cell_type": "code",
   "execution_count": 84,
   "id": "248f6de8-2bb6-4a5e-ae76-4d70b3d27e2c",
   "metadata": {},
   "outputs": [
    {
     "name": "stdout",
     "output_type": "stream",
     "text": [
      "3\n"
     ]
    }
   ],
   "source": [
    "total = 0\n",
    "\n",
    "def count():\n",
    "    global total \n",
    "    total += 1\n",
    "    return total\n",
    "\n",
    "count()\n",
    "count()\n",
    "print(count())"
   ]
  },
  {
   "cell_type": "code",
   "execution_count": 85,
   "id": "4f49d868-e6ee-4079-9fde-0f09d758cdb2",
   "metadata": {},
   "outputs": [
    {
     "name": "stdout",
     "output_type": "stream",
     "text": [
      "1\n"
     ]
    }
   ],
   "source": [
    "total = 0\n",
    "\n",
    "def count(total):\n",
    "    total += 1\n",
    "    return total\n",
    "\n",
    "count(total)\n",
    "count(total)\n",
    "print(count(total))"
   ]
  },
  {
   "cell_type": "code",
   "execution_count": 86,
   "id": "cafd7470-42d8-4f5f-a37f-281140f7901e",
   "metadata": {},
   "outputs": [
    {
     "name": "stdout",
     "output_type": "stream",
     "text": [
      "3\n"
     ]
    }
   ],
   "source": [
    "total = 0\n",
    "\n",
    "def count(total):\n",
    "    total += 1\n",
    "    return total\n",
    "\n",
    "print(count(count(count(total))))\n",
    "#       3     2        1"
   ]
  },
  {
   "cell_type": "markdown",
   "id": "179bc0e0-b6e9-4033-8313-b6334231f1b4",
   "metadata": {},
   "source": [
    "#### nonlocal keyword used for calling the parent scope"
   ]
  },
  {
   "cell_type": "code",
   "execution_count": 87,
   "id": "38c6d789-9050-4851-b9a4-a15648ffe6c3",
   "metadata": {},
   "outputs": [
    {
     "name": "stdout",
     "output_type": "stream",
     "text": [
      "inner: nonlocal\n",
      "outer: nonlocal\n"
     ]
    }
   ],
   "source": [
    "def outer():\n",
    "    x = 'local'\n",
    "    def inner():\n",
    "        nonlocal x\n",
    "        x = 'nonlocal'\n",
    "        print('inner:', x)\n",
    "\n",
    "    inner()\n",
    "    print('outer:', x)\n",
    "\n",
    "outer()"
   ]
  },
  {
   "cell_type": "code",
   "execution_count": 88,
   "id": "6684f5ab-7126-40ae-a604-bd467edbc9bd",
   "metadata": {},
   "outputs": [
    {
     "name": "stdout",
     "output_type": "stream",
     "text": [
      "inner: nonlocal\n",
      "outer: local\n"
     ]
    }
   ],
   "source": [
    "def outer():\n",
    "    x = 'local'\n",
    "    def inner():\n",
    "        #nonlocal x\n",
    "        x = 'nonlocal'\n",
    "        print('inner:', x)\n",
    "\n",
    "    inner()\n",
    "    print('outer:', x)\n",
    "\n",
    "outer()"
   ]
  },
  {
   "cell_type": "markdown",
   "id": "dedf8719-7dd3-4399-b444-78970119a900",
   "metadata": {},
   "source": [
    "# Python Test: \n",
    "https://www.w3schools.com/quiztest/quiztest.asp?qtest=PYTHON&v=9803278"
   ]
  },
  {
   "cell_type": "code",
   "execution_count": null,
   "id": "4e74a9bc-e164-45bc-8aab-bb0e81aa7293",
   "metadata": {},
   "outputs": [],
   "source": []
  },
  {
   "cell_type": "code",
   "execution_count": null,
   "id": "6b00eba5-4172-4399-8b1e-7bc5f2d1e0c8",
   "metadata": {},
   "outputs": [],
   "source": []
  },
  {
   "cell_type": "code",
   "execution_count": null,
   "id": "35fc53ad-e5b9-440d-b20d-e25a2df5d9c6",
   "metadata": {},
   "outputs": [],
   "source": []
  },
  {
   "cell_type": "code",
   "execution_count": null,
   "id": "a56fbd28-142c-4171-8d02-9a6c6fa4ca06",
   "metadata": {},
   "outputs": [],
   "source": []
  },
  {
   "cell_type": "code",
   "execution_count": null,
   "id": "147dfb38-ab85-4bcd-bdee-175e7bae4966",
   "metadata": {},
   "outputs": [],
   "source": []
  }
 ],
 "metadata": {
  "kernelspec": {
   "display_name": "Python 3 (ipykernel)",
   "language": "python",
   "name": "python3"
  },
  "language_info": {
   "codemirror_mode": {
    "name": "ipython",
    "version": 3
   },
   "file_extension": ".py",
   "mimetype": "text/x-python",
   "name": "python",
   "nbconvert_exporter": "python",
   "pygments_lexer": "ipython3",
   "version": "3.13.2"
  }
 },
 "nbformat": 4,
 "nbformat_minor": 5
}
