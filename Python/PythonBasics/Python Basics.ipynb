{
 "cells": [
  {
   "cell_type": "markdown",
   "id": "d61cf30d-bc34-4277-90ae-c3f1b8eb69d7",
   "metadata": {},
   "source": [
    "# Data Types"
   ]
  },
  {
   "cell_type": "markdown",
   "id": "a70a3387-9844-470a-b9ba-2e51051914a9",
   "metadata": {},
   "source": [
    "## Fundamental Data Type:\n",
    "- int\n",
    "- float\n",
    "- bool\n",
    "- srt\n",
    "- list\n",
    "- tuple\n",
    "- set\n",
    "- dict"
   ]
  },
  {
   "cell_type": "code",
   "execution_count": 21,
   "id": "c793aa97-5afc-4e53-9490-c540df8f6f20",
   "metadata": {},
   "outputs": [
    {
     "name": "stdout",
     "output_type": "stream",
     "text": [
      "Integer data type: <class 'int'>\n",
      "Float data type: <class 'float'>\n",
      "Boolian data type: <class 'bool'>\n",
      "String data type: <class 'str'>\n",
      "List data type: <class 'list'>\n",
      "Tuple data type: <class 'tuple'>\n",
      "Sets data type: <class 'set'>\n",
      "Dictionary data type: <class 'dict'>\n"
     ]
    }
   ],
   "source": [
    "print('Integer data type:',type(6))\n",
    "print('Float data type:',type(6.0))\n",
    "print('Boolian data type:',type(True))\n",
    "print('String data type:',type('j'))\n",
    "print('List data type:',type([]))\n",
    "print('Tuple data type:',type(()))\n",
    "print('Sets data type:',type(set()))\n",
    "print('Dictionary data type:',type({}))"
   ]
  },
  {
   "cell_type": "markdown",
   "id": "d56c6aec-4e70-4a60-9bc6-d1ade7099801",
   "metadata": {},
   "source": [
    "## Numbers"
   ]
  },
  {
   "cell_type": "code",
   "execution_count": 27,
   "id": "c236ee2e-c624-4b73-9d54-0651e184c742",
   "metadata": {},
   "outputs": [
    {
     "name": "stdout",
     "output_type": "stream",
     "text": [
      "This is an exponent: 16\n"
     ]
    }
   ],
   "source": [
    "print('This is an exponent:', 4 ** 2)"
   ]
  },
  {
   "cell_type": "code",
   "execution_count": 15,
   "id": "abb99a18-78a6-4d26-80db-2bc43b351369",
   "metadata": {},
   "outputs": [
    {
     "name": "stdout",
     "output_type": "stream",
     "text": [
      "This is floor division will return rounded number: 0\n"
     ]
    }
   ],
   "source": [
    "print('This is floor division will return rounded number 0.5:', 1 // 2)"
   ]
  },
  {
   "cell_type": "code",
   "execution_count": 16,
   "id": "088e7ca6-95d8-4aed-b537-b631b352624e",
   "metadata": {},
   "outputs": [
    {
     "name": "stdout",
     "output_type": "stream",
     "text": [
      "This is modual it will return the remainder: 1\n"
     ]
    }
   ],
   "source": [
    "print('This is modual it will return the remainder:', 5 % 2)"
   ]
  },
  {
   "cell_type": "code",
   "execution_count": 20,
   "id": "5532cc36-9d94-47dc-a5b5-05f546a9108d",
   "metadata": {},
   "outputs": [
    {
     "name": "stdout",
     "output_type": "stream",
     "text": [
      "Rounding: 3\n",
      "Rounding: 4\n",
      "Absolute value: 3\n"
     ]
    }
   ],
   "source": [
    "# Mathe Functions\n",
    "print('Rounding:', round(3.1))\n",
    "print('Rounding:', round(3.5))\n",
    "print('Absolute value:', abs(-3))"
   ]
  },
  {
   "cell_type": "code",
   "execution_count": 22,
   "id": "f979f242-f4cf-4366-b036-0a4c7f2ff424",
   "metadata": {},
   "outputs": [
    {
     "name": "stdout",
     "output_type": "stream",
     "text": [
      "0b101\n"
     ]
    }
   ],
   "source": [
    "# Binary number funtion this will return 5 in binary \n",
    "print(bin(5))"
   ]
  },
  {
   "cell_type": "code",
   "execution_count": 24,
   "id": "39dbbea1-ee68-4bc5-a0e9-b06765a0d755",
   "metadata": {},
   "outputs": [
    {
     "name": "stdout",
     "output_type": "stream",
     "text": [
      "5\n"
     ]
    }
   ],
   "source": [
    "# Converting to int\n",
    "print(int('0b101', 2))#(binary, base number)"
   ]
  },
  {
   "cell_type": "markdown",
   "id": "3b51569b-75a1-456f-9c5e-ae9b5b5126c4",
   "metadata": {},
   "source": [
    "### Variables\n",
    "- snake_case\n",
    "- Start with lowercase or underscore\n",
    "- Can be anything with (Letters, numbers, undersoces)\n",
    "- Case sensitive\n",
    "- Don't overwrite keywords."
   ]
  },
  {
   "cell_type": "code",
   "execution_count": 25,
   "id": "55a55a4b-d991-4792-add5-e03be28bbee6",
   "metadata": {},
   "outputs": [
    {
     "name": "stdout",
     "output_type": "stream",
     "text": [
      "190\n"
     ]
    }
   ],
   "source": [
    "# assining or binding\n",
    "iq = 190\n",
    "print(iq)"
   ]
  },
  {
   "cell_type": "code",
   "execution_count": 26,
   "id": "8ed7bd54-e2f5-4e41-ae87-041d1c6dfd48",
   "metadata": {},
   "outputs": [
    {
     "name": "stdout",
     "output_type": "stream",
     "text": [
      "2\n"
     ]
    }
   ],
   "source": [
    "a,b,c = 1,2,3\n",
    "print(b)"
   ]
  },
  {
   "cell_type": "markdown",
   "id": "20c386b7-1c0e-4b0b-9876-862955fd9794",
   "metadata": {},
   "source": [
    "### Expression vs Statements\n",
    "iq = 100\n",
    "\n",
    "user = iq / 5\n",
    "\n",
    "This is an expression: iq / 5\n",
    "\n",
    "This is a statement: user = iq / 5"
   ]
  },
  {
   "cell_type": "markdown",
   "id": "4d3ac6a2-6cd8-40dd-b339-ff6146222962",
   "metadata": {},
   "source": [
    "### Augmented assingment operator"
   ]
  },
  {
   "cell_type": "code",
   "execution_count": 31,
   "id": "f9fb6de8-3665-41d8-a28e-94de69c0ece3",
   "metadata": {},
   "outputs": [
    {
     "name": "stdout",
     "output_type": "stream",
     "text": [
      "8\n"
     ]
    }
   ],
   "source": [
    "five = 5\n",
    "five += 3 # this is the same as five = five + 3\n",
    "print(five)"
   ]
  },
  {
   "cell_type": "markdown",
   "id": "d017c2a6-e28b-435e-adc3-9e0adf565a84",
   "metadata": {},
   "source": [
    "## String\n",
    "\n",
    "- 'Hello World!'\n",
    "- \"Hello World!\""
   ]
  },
  {
   "cell_type": "code",
   "execution_count": 34,
   "id": "9db375cf-6dd5-4d9e-8ba7-d0e4f9de1166",
   "metadata": {},
   "outputs": [
    {
     "name": "stdout",
     "output_type": "stream",
     "text": [
      "<class 'str'>\n",
      "\n",
      "WwW\n",
      "0 0\n",
      "___\n",
      "\n"
     ]
    }
   ],
   "source": [
    "print(type('Hello World!'))\n",
    "\n",
    "username = 'supercoder'\n",
    "password = 'Syersecret'\n",
    "\n",
    "# for writing long strings\n",
    "long_string = '''\n",
    "WwW\n",
    "0 0\n",
    "___\n",
    "'''\n",
    "print(long_string)"
   ]
  },
  {
   "cell_type": "markdown",
   "id": "f589d007-52c3-4b07-a468-12aa472f4e66",
   "metadata": {},
   "source": [
    "String concatenation only works with strings"
   ]
  },
  {
   "cell_type": "code",
   "execution_count": 37,
   "id": "4886db4d-20f3-46b9-86a5-bf9791a52521",
   "metadata": {},
   "outputs": [
    {
     "name": "stdout",
     "output_type": "stream",
     "text": [
      "Jobally Forde\n"
     ]
    }
   ],
   "source": [
    "first_name = 'Jobally'\n",
    "last_name = 'Forde'\n",
    "full_name = first_name +' '+ last_name\n",
    "print(full_name)"
   ]
  },
  {
   "cell_type": "markdown",
   "id": "d8bb125d-fe5f-4efa-a8bb-48ccbb6fc5be",
   "metadata": {},
   "source": [
    "#### Type Conversion"
   ]
  },
  {
   "cell_type": "code",
   "execution_count": 39,
   "id": "6cd560b7-9804-43b0-b781-ce4374a11939",
   "metadata": {},
   "outputs": [
    {
     "name": "stdout",
     "output_type": "stream",
     "text": [
      "100\n",
      "<class 'str'>\n"
     ]
    }
   ],
   "source": [
    "# string conversion\n",
    "print(str(100))\n",
    "print(type(str(100)))"
   ]
  },
  {
   "cell_type": "markdown",
   "id": "c33aedb6-03d8-4b66-9b21-019062955f52",
   "metadata": {},
   "source": [
    "#### Escape Sequence"
   ]
  },
  {
   "cell_type": "code",
   "execution_count": 41,
   "id": "93b54f88-4764-43fe-87c8-0403ab2725a1",
   "metadata": {},
   "outputs": [
    {
     "name": "stdout",
     "output_type": "stream",
     "text": [
      "It'is \"kind of\" sunny\n"
     ]
    }
   ],
   "source": [
    "weather = \"It\\'is \\\"kind of\\\" sunny\"\n",
    "print(weather)"
   ]
  },
  {
   "cell_type": "markdown",
   "id": "f4b6c726-4526-4330-a506-cd57bc07a4e7",
   "metadata": {},
   "source": [
    "#### Formatting Strings"
   ]
  },
  {
   "cell_type": "code",
   "execution_count": 42,
   "id": "073a40a3-9034-455e-8fac-9d1b9e61396d",
   "metadata": {},
   "outputs": [
    {
     "name": "stdout",
     "output_type": "stream",
     "text": [
      "Hello my name is Jobally.\n"
     ]
    }
   ],
   "source": [
    "name = 'Jobally'\n",
    "print(f\"Hello my name is {name}.\")"
   ]
  },
  {
   "cell_type": "markdown",
   "id": "2f0dac31-3143-4202-8dd1-be6ecc756e96",
   "metadata": {},
   "source": [
    "#### String Indexes"
   ]
  },
  {
   "cell_type": "code",
   "execution_count": 43,
   "id": "11e009b4-fd38-4817-97b2-3da3db97daf6",
   "metadata": {},
   "outputs": [
    {
     "name": "stdout",
     "output_type": "stream",
     "text": [
      "e\n"
     ]
    }
   ],
   "source": [
    "selfish = 'em my mey'\n",
    "         # 123456789         \n",
    "print(selfish[0])"
   ]
  },
  {
   "cell_type": "code",
   "execution_count": 53,
   "id": "5c9faef7-eaf7-440d-abdf-a8c0aecc102e",
   "metadata": {},
   "outputs": [
    {
     "name": "stdout",
     "output_type": "stream",
     "text": [
      "0123456\n",
      "7531\n",
      "86420\n"
     ]
    }
   ],
   "source": [
    "numbers = '012345678'\n",
    "# [start:end:stepover]\n",
    "print(numbers[0:7])\n",
    "print(numbers[7::-2])# odd\n",
    "print(numbers[8::-2])# even"
   ]
  },
  {
   "cell_type": "markdown",
   "id": "e3c1d410-41ad-4505-bfbd-221fbac34f9f",
   "metadata": {},
   "source": [
    "#### Immutability"
   ]
  },
  {
   "cell_type": "code",
   "execution_count": 54,
   "id": "aa5c03bc-42e5-4bf3-902d-b2134f47c6ad",
   "metadata": {},
   "outputs": [
    {
     "ename": "TypeError",
     "evalue": "'str' object does not support item assignment",
     "output_type": "error",
     "traceback": [
      "\u001b[31m---------------------------------------------------------------------------\u001b[39m",
      "\u001b[31mTypeError\u001b[39m                                 Traceback (most recent call last)",
      "\u001b[36mCell\u001b[39m\u001b[36m \u001b[39m\u001b[32mIn[54]\u001b[39m\u001b[32m, line 1\u001b[39m\n\u001b[32m----> \u001b[39m\u001b[32m1\u001b[39m numbers[\u001b[32m0\u001b[39m] = \u001b[32m10\u001b[39m\n\u001b[32m      2\u001b[39m \u001b[38;5;28mprint\u001b[39m(numbers)\n",
      "\u001b[31mTypeError\u001b[39m: 'str' object does not support item assignment"
     ]
    }
   ],
   "source": [
    "# string are immutable they cannot be change\n",
    "# the only way to change is to re-assing a value\n",
    "numbers[0] = 10\n",
    "print(numbers)"
   ]
  },
  {
   "cell_type": "markdown",
   "id": "49d7fcbb-0ed4-43dd-8e3d-f4b4635159de",
   "metadata": {},
   "source": [
    "#### Built in functions + Methods\n",
    "- len() Counts the number of characters in a string from 1 to ...\n",
    "- .upper() Capitalize all strings\n",
    "- .capitalize() Capitalize the first character\n",
    "- .lower() All string in lower case\n",
    "- .fing() Find a specific sreing in a string and returns the first index the character\n",
    "- .replace('string to be replaced', 'replace string') Replaceses strings "
   ]
  },
  {
   "cell_type": "code",
   "execution_count": 55,
   "id": "e6cf9a39-ff19-42e0-b159-373cfda46dd0",
   "metadata": {},
   "outputs": [
    {
     "name": "stdout",
     "output_type": "stream",
     "text": [
      "9\n",
      "HELLLOOOO\n",
      "Hellloooo\n",
      "hellloooo\n",
      "0\n",
      "nooooo\n"
     ]
    }
   ],
   "source": [
    "greet = 'hellloooo'\n",
    "\n",
    "print(len(greet))\n",
    "print(greet.upper())\n",
    "print(greet.capitalize())\n",
    "print(greet.lower())\n",
    "print(greet.find('hell'))\n",
    "print(greet.replace('helll', 'no'))"
   ]
  },
  {
   "cell_type": "code",
   "execution_count": 60,
   "id": "1832891b-1236-474a-bf5a-feccae1adb4c",
   "metadata": {},
   "outputs": [
    {
     "name": "stdout",
     "output_type": "stream",
     "text": [
      "******\n"
     ]
    }
   ],
   "source": [
    "print('*' * 6)"
   ]
  },
  {
   "cell_type": "markdown",
   "id": "37574b6c-7f8b-41a0-8203-83670023be78",
   "metadata": {},
   "source": [
    "## Booleans\n",
    "A boolean can only true or false\n",
    "- True\n",
    "- False"
   ]
  },
  {
   "cell_type": "code",
   "execution_count": 56,
   "id": "a86ff026-be85-4183-9e8d-dc86e266d2df",
   "metadata": {},
   "outputs": [
    {
     "name": "stdout",
     "output_type": "stream",
     "text": [
      "jobally is not cool False\n"
     ]
    }
   ],
   "source": [
    "name = 'Jobally'\n",
    "\n",
    "is_cool = True\n",
    "is_not_cool = False\n",
    "print(f'jobally is not cool {is_not_cool}')"
   ]
  },
  {
   "cell_type": "markdown",
   "id": "7c7f0349-b954-4218-93b7-7086d103133b",
   "metadata": {},
   "source": [
    "input() "
   ]
  },
  {
   "cell_type": "code",
   "execution_count": 59,
   "id": "ef0f0b9d-6c16-4f0b-af72-bf215c4f6484",
   "metadata": {},
   "outputs": [
    {
     "name": "stdin",
     "output_type": "stream",
     "text": [
      "what year were you born? 1950\n"
     ]
    },
    {
     "name": "stdout",
     "output_type": "stream",
     "text": [
      "you age is: 75\n"
     ]
    }
   ],
   "source": [
    "birth_year = input('what year were you born?')\n",
    "age = 2025 - int(birth_year)\n",
    "print(f'you age is: {age}')"
   ]
  },
  {
   "cell_type": "markdown",
   "id": "b825d825-1978-4583-9bee-2e71b2c8f3a5",
   "metadata": {},
   "source": [
    "# Fundamental Part II\n",
    "- \\# This is for commenting in python\n",
    "- when commenting a code it is for adding valuable comments"
   ]
  },
  {
   "cell_type": "markdown",
   "id": "ada4ce6e-fa98-4586-9f2e-9176f4140a43",
   "metadata": {},
   "source": [
    "#### Password Checker"
   ]
  },
  {
   "cell_type": "code",
   "execution_count": 63,
   "id": "b32ec316-add9-4850-9ee0-71729e4dc63b",
   "metadata": {},
   "outputs": [
    {
     "name": "stdin",
     "output_type": "stream",
     "text": [
      "username jobaking\n",
      "password 1234kingman\n"
     ]
    },
    {
     "name": "stdout",
     "output_type": "stream",
     "text": [
      "\n",
      "username jobaking, your password *********** is 11\n"
     ]
    }
   ],
   "source": [
    "user = input('username')\n",
    "password = input('password')\n",
    "\n",
    "print(f'\\nusername {user}, your password {'*' * len(password)} is {len(password)}')"
   ]
  },
  {
   "cell_type": "markdown",
   "id": "ca3811bd-53d1-40d6-8159-4ea2a9e9382c",
   "metadata": {},
   "source": [
    "## List\n",
    "A list is ordered in memory\n",
    "\n",
    "list is a Data Structure\n",
    "\n",
    "list are mutable it can be changed"
   ]
  },
  {
   "cell_type": "code",
   "execution_count": null,
   "id": "2ce04d45-4bd4-487c-8adf-a14f6027154d",
   "metadata": {},
   "outputs": [],
   "source": [
    "li = [1,2,3,4,5]\n",
    "li2 = ['a','b','c','d']\n",
    "li3 = [1,2,'a',True]"
   ]
  },
  {
   "cell_type": "markdown",
   "id": "c8c90f69-625b-45b6-8a05-6bb98cdca856",
   "metadata": {},
   "source": [
    "#### List Slicing"
   ]
  },
  {
   "cell_type": "code",
   "execution_count": 65,
   "id": "97ff2006-bcd9-48e5-96e1-5d6ac1fe5d2f",
   "metadata": {},
   "outputs": [
    {
     "name": "stdout",
     "output_type": "stream",
     "text": [
      "['lapton', 'sunglasses', 'toys']\n",
      "['lapton', 'sunglasses', 'toys', 'grapes']\n"
     ]
    }
   ],
   "source": [
    "amazon_cart = [\n",
    "    'notebooks',\n",
    "    'sunglasses',\n",
    "    'toys',\n",
    "    'grapes'\n",
    "]\n",
    "\n",
    "amazon_cart[0] = 'lapton' # this list will create a new list evethime it is updated\n",
    "\n",
    "print(amazon_cart[0:3]) # this will modify the list\n",
    "print(amazon_cart)"
   ]
  },
  {
   "cell_type": "code",
   "execution_count": 66,
   "id": "7d6b3e62-2abe-413e-8343-58355dbc50ea",
   "metadata": {},
   "outputs": [
    {
     "name": "stdout",
     "output_type": "stream",
     "text": [
      "['gum', 'sunglasses', 'toys', 'grapes']\n",
      "['gum', 'sunglasses', 'toys', 'grapes']\n"
     ]
    }
   ],
   "source": [
    "amazon_cart[0] = 'lapton'\n",
    "new_cart = amazon_cart[0:3]\n",
    "new_cart[0] = 'gum'\n",
    "print(new_cart)\n",
    "print(amazon_cart)"
   ]
  },
  {
   "cell_type": "code",
   "execution_count": 67,
   "id": "b5653430-1313-404c-a74a-5519e6ba61c7",
   "metadata": {},
   "outputs": [
    {
     "name": "stdout",
     "output_type": "stream",
     "text": [
      "['gum', 'sunglasses', 'toys', 'grapes']\n",
      "['lapton', 'sunglasses', 'toys', 'grapes']\n"
     ]
    }
   ],
   "source": [
    "amazon_cart[0] = 'lapton'\n",
    "new_cart = amazon_cart[:] # this will copy the list\n",
    "new_cart[0] = 'gum'\n",
    "print(new_cart)\n",
    "print(amazon_cart)"
   ]
  },
  {
   "cell_type": "markdown",
   "id": "3b6327f3-1d1d-47a7-84f5-ff0c70e1445c",
   "metadata": {},
   "source": [
    "#### Matrices"
   ]
  },
  {
   "cell_type": "code",
   "execution_count": 68,
   "id": "dface74d-1d19-47a7-92db-eff86d2feaaa",
   "metadata": {},
   "outputs": [
    {
     "name": "stdout",
     "output_type": "stream",
     "text": [
      "4\n"
     ]
    }
   ],
   "source": [
    "matrix = [[1,2,3],\n",
    "          [2,4,6],\n",
    "          [7,8,9]]\n",
    "\n",
    "print(matrix[1][1])"
   ]
  },
  {
   "cell_type": "markdown",
   "id": "90a87d49-801c-4dd1-8c77-64d3261a3a07",
   "metadata": {},
   "source": [
    "#### List Methods\n",
    "##### Adding:\n",
    "- .append() Adding item to the end of a list\n",
    "- .insert() Insert an item to a spefic index in a list\n",
    "- .extend([start, end]) Adding an extended item in a list 100 to 102\n",
    "##### Removing:\n",
    "- .pop() Remove item at the end of a list. Items can also be remove at a selectec index .pop(index)\n",
    "- .remove(value) Remove item at a selected value in a list\n",
    "- .clear() Remove everything in a list\n",
    "##### Other:\n",
    "- .index(value, start, stop) this will return value location(index) in a list\n",
    "- .count() Counts how many time the value is repeated in a list\n",
    "- .sort() Sourts a list this will modify the list\n",
    "- sorted() Sourts a list by producing a new list\n",
    "- .copy() Copy a list\n",
    "- reverse() Reverse a list"
   ]
  },
  {
   "cell_type": "code",
   "execution_count": 71,
   "id": "40b76a52-9cff-41cd-8a4f-6f3884d8c030",
   "metadata": {},
   "outputs": [
    {
     "ename": "ValueError",
     "evalue": "'d' is not in list",
     "output_type": "error",
     "traceback": [
      "\u001b[31m---------------------------------------------------------------------------\u001b[39m",
      "\u001b[31mValueError\u001b[39m                                Traceback (most recent call last)",
      "\u001b[36mCell\u001b[39m\u001b[36m \u001b[39m\u001b[32mIn[71]\u001b[39m\u001b[32m, line 3\u001b[39m\n\u001b[32m      1\u001b[39m characters = [\u001b[33m'\u001b[39m\u001b[33ma\u001b[39m\u001b[33m'\u001b[39m,\u001b[33m'\u001b[39m\u001b[33mb\u001b[39m\u001b[33m'\u001b[39m,\u001b[33m'\u001b[39m\u001b[33mc\u001b[39m\u001b[33m'\u001b[39m,\u001b[33m'\u001b[39m\u001b[33md\u001b[39m\u001b[33m'\u001b[39m,\u001b[33m'\u001b[39m\u001b[33me\u001b[39m\u001b[33m'\u001b[39m]\n\u001b[32m----> \u001b[39m\u001b[32m3\u001b[39m \u001b[38;5;28mprint\u001b[39m(characters.index(\u001b[33m'\u001b[39m\u001b[33md\u001b[39m\u001b[33m'\u001b[39m,\u001b[32m0\u001b[39m,\u001b[32m3\u001b[39m))\n",
      "\u001b[31mValueError\u001b[39m: 'd' is not in list"
     ]
    }
   ],
   "source": [
    "characters = ['a','b','c','d','e']\n",
    "\n",
    "print(characters.index('d',0,3))# was not in range"
   ]
  },
  {
   "cell_type": "code",
   "execution_count": 72,
   "id": "5483835a-ea34-4d63-af6a-e4432727e116",
   "metadata": {},
   "outputs": [
    {
     "name": "stdout",
     "output_type": "stream",
     "text": [
      "3\n"
     ]
    }
   ],
   "source": [
    "print(characters.index('d',0,4))# was in range"
   ]
  },
  {
   "cell_type": "markdown",
   "id": "204f574e-d517-4c20-8ffa-ba804facd376",
   "metadata": {},
   "source": [
    "#### Keywords\n",
    "- in Checks if value is in a list\n",
    "- range(staret, end,) Creates a new list by generating a list of numbers\n",
    "- ''.join([]) Joins elements of a list into a single string, using the empty string `''` as the separator."
   ]
  },
  {
   "cell_type": "code",
   "execution_count": 73,
   "id": "11e2b650-5c22-48c8-9a10-ea77367b5ecc",
   "metadata": {},
   "outputs": [
    {
     "name": "stdout",
     "output_type": "stream",
     "text": [
      "True\n"
     ]
    }
   ],
   "source": [
    "print('d' in characters)"
   ]
  },
  {
   "cell_type": "code",
   "execution_count": 75,
   "id": "2f6b11c2-2a0e-4850-9381-c9c7b60d55c6",
   "metadata": {},
   "outputs": [
    {
     "name": "stdout",
     "output_type": "stream",
     "text": [
      "[1, 2, 3, 4, 5, 6, 7, 8, 9, 10, 11, 12, 13, 14, 15, 16, 17, 18, 19, 20, 21, 22, 23, 24, 25, 26, 27, 28, 29, 30, 31, 32, 33, 34, 35, 36, 37, 38, 39, 40, 41, 42, 43, 44, 45, 46, 47, 48, 49, 50, 51, 52, 53, 54, 55, 56, 57, 58, 59, 60, 61, 62, 63, 64, 65, 66, 67, 68, 69, 70, 71, 72, 73, 74, 75, 76, 77, 78, 79, 80, 81, 82, 83, 84, 85, 86, 87, 88, 89, 90, 91, 92, 93, 94, 95, 96, 97, 98, 99] \n",
      "\n",
      "[0, 1, 2, 3, 4, 5, 6, 7, 8, 9, 10, 11, 12, 13, 14, 15, 16, 17, 18, 19, 20, 21, 22, 23, 24, 25, 26, 27, 28, 29, 30, 31, 32, 33, 34, 35, 36, 37, 38, 39, 40, 41, 42, 43, 44, 45, 46, 47, 48, 49, 50, 51, 52, 53, 54, 55, 56, 57, 58, 59, 60, 61, 62, 63, 64, 65, 66, 67, 68, 69, 70, 71, 72, 73, 74, 75, 76, 77, 78, 79, 80, 81, 82, 83, 84, 85, 86, 87, 88, 89, 90, 91, 92, 93, 94, 95, 96, 97, 98, 99]\n"
     ]
    }
   ],
   "source": [
    "print(list(range(1,100)),'\\n')\n",
    "print(list(range(100)))"
   ]
  },
  {
   "cell_type": "code",
   "execution_count": 78,
   "id": "bda94206-9986-4bef-b3e2-b425fd6e5363",
   "metadata": {},
   "outputs": [
    {
     "name": "stdout",
     "output_type": "stream",
     "text": [
      "Hi me i am king\n"
     ]
    }
   ],
   "source": [
    "value = ' '\n",
    "new_sentence = value.join(['Hi', 'me', 'i', 'am', 'king'])\n",
    "print(new_sentence)"
   ]
  },
  {
   "cell_type": "code",
   "execution_count": 79,
   "id": "858bde40-9be3-4d7b-8eae-935cab7300f1",
   "metadata": {},
   "outputs": [
    {
     "name": "stdout",
     "output_type": "stream",
     "text": [
      "Hi me i am king\n"
     ]
    }
   ],
   "source": [
    "# another way of doing the samething\n",
    "new_sentence = ' '.join(['Hi', 'me', 'i', 'am', 'king'])\n",
    "print(new_sentence)"
   ]
  },
  {
   "cell_type": "markdown",
   "id": "0fd27a6c-1230-4736-9626-6cfe72995255",
   "metadata": {},
   "source": [
    "#### List Unpacking"
   ]
  },
  {
   "cell_type": "code",
   "execution_count": 80,
   "id": "c75f0166-0496-4ec5-8dc7-d69833101f4d",
   "metadata": {},
   "outputs": [
    {
     "name": "stdout",
     "output_type": "stream",
     "text": [
      "1\n",
      "2\n",
      "3\n"
     ]
    }
   ],
   "source": [
    "a,b,c = [1,2,3]\n",
    "\n",
    "print(a)\n",
    "print(b)\n",
    "print(c)"
   ]
  },
  {
   "cell_type": "code",
   "execution_count": 81,
   "id": "22c1cd9f-a05b-4a26-a035-05d2e23a3b23",
   "metadata": {},
   "outputs": [
    {
     "name": "stdout",
     "output_type": "stream",
     "text": [
      "1\n",
      "2\n",
      "3\n",
      "[4, 5, 6, 7, 8, 9]\n"
     ]
    }
   ],
   "source": [
    "a,b,c, *other = [1,2,3,4,5,6,7,8,9]\n",
    "\n",
    "print(a)\n",
    "print(b)\n",
    "print(c)\n",
    "print(other)"
   ]
  },
  {
   "cell_type": "code",
   "execution_count": 82,
   "id": "33ffc7b3-0620-4ecd-bb2e-a9279274f1cf",
   "metadata": {},
   "outputs": [
    {
     "name": "stdout",
     "output_type": "stream",
     "text": [
      "1\n",
      "2\n",
      "3\n",
      "[4, 5, 6, 7, 8]\n",
      "9\n"
     ]
    }
   ],
   "source": [
    "a,b,c, *other, d = [1,2,3,4,5,6,7,8,9]\n",
    "\n",
    "print(a)\n",
    "print(b)\n",
    "print(c)\n",
    "print(other)\n",
    "print(d)"
   ]
  },
  {
   "cell_type": "markdown",
   "id": "d1cd0895-2756-453d-82c4-6fd39b5468b3",
   "metadata": {},
   "source": [
    "#### None\n",
    "None is a specialized data type"
   ]
  },
  {
   "cell_type": "code",
   "execution_count": 83,
   "id": "64038793-c4cc-426f-adb9-c87d8b1d1776",
   "metadata": {},
   "outputs": [
    {
     "name": "stdout",
     "output_type": "stream",
     "text": [
      "None\n"
     ]
    }
   ],
   "source": [
    "weapons = None\n",
    "print(weapons)"
   ]
  },
  {
   "cell_type": "markdown",
   "id": "ad05fa0d-1b40-46fd-a148-bc7267d5caa7",
   "metadata": {},
   "source": [
    "### Dictionaries\n",
    "A dictionary is an unordered key value pare\n",
    "\n",
    "Unordered mean they are not next to each other in memory\n",
    "\n",
    "Dictionary key needs to be immutable the key cannot change\n",
    "\n",
    "Keys in dictionary must be unique"
   ]
  },
  {
   "cell_type": "code",
   "execution_count": 85,
   "id": "122057c2-948f-48c0-8ff5-51908b4acfc8",
   "metadata": {},
   "outputs": [
    {
     "name": "stdout",
     "output_type": "stream",
     "text": [
      "2\n"
     ]
    }
   ],
   "source": [
    "dictionary = {\n",
    "    'a': 1,\n",
    "    'b': 2\n",
    "}\n",
    "\n",
    "print(dictionary['b'])"
   ]
  },
  {
   "cell_type": "code",
   "execution_count": 87,
   "id": "6ac8aa81-e5ec-413c-a037-368e543e98b4",
   "metadata": {},
   "outputs": [
    {
     "name": "stdout",
     "output_type": "stream",
     "text": [
      "2\n"
     ]
    }
   ],
   "source": [
    "dictionary = {\n",
    "    'a': [1,2,3],\n",
    "    'b': 'hello',\n",
    "    'x': True\n",
    "}\n",
    "\n",
    "print(dictionary['a'][1])"
   ]
  },
  {
   "cell_type": "code",
   "execution_count": 88,
   "id": "3d6bf7d1-8226-4321-b056-6eb1bf4ab5f6",
   "metadata": {},
   "outputs": [
    {
     "name": "stdout",
     "output_type": "stream",
     "text": [
      "2\n"
     ]
    }
   ],
   "source": [
    "my_list = [{\n",
    "    'a': [1,2,3],\n",
    "    'b': 'hello',\n",
    "    'x': True\n",
    "},{\n",
    "    'a': [4,5,6],\n",
    "    'b': 'hello',\n",
    "    'x': True\n",
    "}]\n",
    "\n",
    "print(my_list[0]['a'][1])"
   ]
  },
  {
   "cell_type": "markdown",
   "id": "dc44f082-0dd5-4b2e-bb3a-4296c2900978",
   "metadata": {},
   "source": [
    "# Fundamental Part III"
   ]
  },
  {
   "cell_type": "code",
   "execution_count": 89,
   "id": "554156c8-67fc-4b72-9784-3f0a32cdf8c3",
   "metadata": {},
   "outputs": [
    {
     "name": "stdout",
     "output_type": "stream",
     "text": [
      "[1, 2, 3]\n"
     ]
    }
   ],
   "source": [
    "dictionary = {\n",
    "    123: [1,2,3],\n",
    "    True: 'hello',\n",
    "    'is Magic': True\n",
    "}\n",
    "\n",
    "print(dictionary[123])"
   ]
  },
  {
   "cell_type": "code",
   "execution_count": 90,
   "id": "0e79a2c7-cdee-406a-ba92-255313f0225a",
   "metadata": {},
   "outputs": [
    {
     "name": "stdout",
     "output_type": "stream",
     "text": [
      "hello\n"
     ]
    }
   ],
   "source": [
    "dictionary = {\n",
    "    123: [1,2,3],\n",
    "    True: 'hello',\n",
    "    'is Magic': True\n",
    "}\n",
    "\n",
    "print(dictionary[True])"
   ]
  },
  {
   "cell_type": "code",
   "execution_count": 91,
   "id": "91a05e19-3497-414e-9bb4-e2517ce31f0e",
   "metadata": {},
   "outputs": [
    {
     "name": "stdout",
     "output_type": "stream",
     "text": [
      "True\n"
     ]
    }
   ],
   "source": [
    "dictionary = {\n",
    "    123: [1,2,3],\n",
    "    True: 'hello',\n",
    "    'is Magic': True\n",
    "}\n",
    "\n",
    "print(dictionary['is Magic'])"
   ]
  },
  {
   "cell_type": "code",
   "execution_count": 93,
   "id": "c4745b4d-985f-4687-b412-481907ee4a64",
   "metadata": {},
   "outputs": [
    {
     "ename": "TypeError",
     "evalue": "unhashable type: 'list'",
     "output_type": "error",
     "traceback": [
      "\u001b[31m---------------------------------------------------------------------------\u001b[39m",
      "\u001b[31mTypeError\u001b[39m                                 Traceback (most recent call last)",
      "\u001b[36mCell\u001b[39m\u001b[36m \u001b[39m\u001b[32mIn[93]\u001b[39m\u001b[32m, line 1\u001b[39m\n\u001b[32m----> \u001b[39m\u001b[32m1\u001b[39m dictionary = {\n\u001b[32m      2\u001b[39m     \u001b[32m123\u001b[39m: [\u001b[32m1\u001b[39m,\u001b[32m2\u001b[39m,\u001b[32m3\u001b[39m],\n\u001b[32m      3\u001b[39m     \u001b[38;5;28;01mTrue\u001b[39;00m: \u001b[33m'\u001b[39m\u001b[33mhello\u001b[39m\u001b[33m'\u001b[39m,\n\u001b[32m      4\u001b[39m     [\u001b[32m100\u001b[39m]: \u001b[38;5;28;01mTrue\u001b[39;00m\n\u001b[32m      5\u001b[39m }\n\u001b[32m      7\u001b[39m \u001b[38;5;28mprint\u001b[39m(dictionary[[\u001b[32m100\u001b[39m]])\n",
      "\u001b[31mTypeError\u001b[39m: unhashable type: 'list'"
     ]
    }
   ],
   "source": [
    "dictionary = {\n",
    "    123: [1,2,3],\n",
    "    True: 'hello',\n",
    "    [100]: True\n",
    "}\n",
    "\n",
    "print(dictionary[100])# a list is mutable cannot be a key"
   ]
  },
  {
   "cell_type": "code",
   "execution_count": 94,
   "id": "9fcafc8f-4cdc-415e-b94d-2d40731cadad",
   "metadata": {},
   "outputs": [
    {
     "name": "stdout",
     "output_type": "stream",
     "text": [
      "hello\n"
     ]
    }
   ],
   "source": [
    "dictionary = {\n",
    "    '123': [1,2,3],\n",
    "    '123': 'hello',\n",
    "}\n",
    "\n",
    "print(dictionary['123'])# it will use the last key "
   ]
  },
  {
   "cell_type": "markdown",
   "id": "21461958-ac8d-4c5d-879b-9dde33f9c50c",
   "metadata": {},
   "source": [
    "#### Dictionary Methods\n",
    "- .get() Check if a key exist\n",
    "- .get(if key doesnt exist, add this value)\n",
    "- dict(key=value) Another way to create a dictionary not recommended\n",
    "- .keys() Get keys\n",
    "- .values() Get values\n",
    "- .items() Get keys and values\n",
    "- .popitem() Will remove the last key value that was added to the dictionary\n",
    "- .update({})"
   ]
  },
  {
   "cell_type": "code",
   "execution_count": 95,
   "id": "6d9e51cf-1d22-4f92-90c5-6bf1fe1922f0",
   "metadata": {},
   "outputs": [
    {
     "name": "stdout",
     "output_type": "stream",
     "text": [
      "None\n"
     ]
    }
   ],
   "source": [
    "user = {\n",
    "    'basket': [1,2,3],\n",
    "    'greet': 'hello',\n",
    "}\n",
    "\n",
    "print(user.get('age'))"
   ]
  },
  {
   "cell_type": "code",
   "execution_count": 96,
   "id": "556ba565-5014-4506-941c-d0f2b4b2a4f9",
   "metadata": {},
   "outputs": [
    {
     "name": "stdout",
     "output_type": "stream",
     "text": [
      "55\n"
     ]
    }
   ],
   "source": [
    "user = {\n",
    "    'basket': [1,2,3],\n",
    "    'greet': 'hello',\n",
    "}\n",
    "\n",
    "print(user.get('age', 55)) # if the index doesnt exis add 'age' and give 55 as a value"
   ]
  },
  {
   "cell_type": "code",
   "execution_count": 97,
   "id": "00a7e040-06ae-410e-b303-a6857cc4e7b7",
   "metadata": {},
   "outputs": [
    {
     "name": "stdout",
     "output_type": "stream",
     "text": [
      "22\n"
     ]
    }
   ],
   "source": [
    "user = {\n",
    "    'basket': [1,2,3],\n",
    "    'greet': 'hello',\n",
    "    'age': 22\n",
    "}\n",
    "\n",
    "print(user.get('age'))# age exist it will print 22"
   ]
  },
  {
   "cell_type": "code",
   "execution_count": 99,
   "id": "5870a898-ab6f-40b7-8d4e-d089e6ded579",
   "metadata": {},
   "outputs": [
    {
     "name": "stdout",
     "output_type": "stream",
     "text": [
      "{'name': 'Joba'}\n"
     ]
    }
   ],
   "source": [
    "user2 = dict(name='Joba')\n",
    "print(user2)"
   ]
  },
  {
   "cell_type": "code",
   "execution_count": 100,
   "id": "ddeb9d52-6cc9-4d1a-acba-2f58df45e1c5",
   "metadata": {},
   "outputs": [
    {
     "name": "stdout",
     "output_type": "stream",
     "text": [
      "True\n"
     ]
    }
   ],
   "source": [
    "# another way to check if a key exist\n",
    "print('basket' in user)"
   ]
  },
  {
   "cell_type": "code",
   "execution_count": 107,
   "id": "bc8c72f8-162c-46d8-bfbc-7ac2e555bfa7",
   "metadata": {},
   "outputs": [
    {
     "name": "stdout",
     "output_type": "stream",
     "text": [
      "True\n",
      "dict_keys(['basket', 'greet', 'age'])\n",
      "True\n",
      "dict_values([[1, 2, 3], 'hello', 22])\n"
     ]
    }
   ],
   "source": [
    "user = {\n",
    "    'basket': [1,2,3],\n",
    "    'greet': 'hello',\n",
    "    'age': 22\n",
    "}\n",
    "\n",
    "print('age' in user.keys())\n",
    "print(user.keys())\n",
    "print('hello' in user.values())\n",
    "print(user.values())"
   ]
  },
  {
   "cell_type": "code",
   "execution_count": 106,
   "id": "42968c6f-2733-4d36-aa5e-0d30233f8df5",
   "metadata": {},
   "outputs": [
    {
     "name": "stdout",
     "output_type": "stream",
     "text": [
      "dict_items([('basket', [1, 2, 3]), ('greet', 'hello'), ('age', 22)])\n"
     ]
    }
   ],
   "source": [
    "print(user.items())"
   ]
  },
  {
   "cell_type": "code",
   "execution_count": 108,
   "id": "97fdf3d5-08a5-47f8-8469-f45f43f0fa92",
   "metadata": {},
   "outputs": [
    {
     "name": "stdout",
     "output_type": "stream",
     "text": [
      "None\n",
      "{'basket': [1, 2, 3], 'greet': 'hello', 'age': 55}\n"
     ]
    }
   ],
   "source": [
    "print(user.update({'age': 55}))\n",
    "print(user)"
   ]
  },
  {
   "cell_type": "markdown",
   "id": "cb2b15c8-5039-470c-ada6-76a0b66ec8f5",
   "metadata": {},
   "source": [
    "### Tuple\n",
    "- tuples are immutable they cannot be change\n",
    "- tuples are faster then list"
   ]
  },
  {
   "cell_type": "code",
   "execution_count": 110,
   "id": "c8daae65-c70c-4466-abc4-12f8621bc4f8",
   "metadata": {},
   "outputs": [
    {
     "name": "stdout",
     "output_type": "stream",
     "text": [
      "2\n"
     ]
    }
   ],
   "source": [
    "my_tuple = (1,2,3,4,5)\n",
    "print(my_tuple[1])"
   ]
  },
  {
   "cell_type": "code",
   "execution_count": 111,
   "id": "049c8b4d-c3c1-4f01-8157-1fd9d0cad07a",
   "metadata": {},
   "outputs": [
    {
     "name": "stdout",
     "output_type": "stream",
     "text": [
      "(2,)\n"
     ]
    }
   ],
   "source": [
    "new_tuple = my_tuple[1:2] \n",
    "print(new_tuple)"
   ]
  },
  {
   "cell_type": "markdown",
   "id": "7ebb753b-0fe3-4f77-9232-0c6fa8df7357",
   "metadata": {},
   "source": [
    "#### Tuple Methods\n",
    "- .count() Retruns the number of times a specified value occures in a tuple\n",
    "- index() Seaches the tuple for a specified vlaue and returns the position of where it was found"
   ]
  },
  {
   "cell_type": "markdown",
   "id": "224b8426-3265-4d4e-94ff-3fe76ed72677",
   "metadata": {},
   "source": [
    "### Sets\n",
    "- Sets are unorderd collection of unique objects\n",
    "- In a set there are no duplicats"
   ]
  },
  {
   "cell_type": "code",
   "execution_count": 112,
   "id": "433dc86b-5f74-46d6-9e0f-92298ba7412e",
   "metadata": {},
   "outputs": [
    {
     "name": "stdout",
     "output_type": "stream",
     "text": [
      "{1, 2, 3, 4, 5}\n"
     ]
    }
   ],
   "source": [
    "my_set = {1,2,3,4,5}\n",
    "print(my_set)"
   ]
  },
  {
   "cell_type": "code",
   "execution_count": 113,
   "id": "7db867be-ae84-41c1-b10e-6b712222386e",
   "metadata": {},
   "outputs": [
    {
     "name": "stdout",
     "output_type": "stream",
     "text": [
      "{1, 2, 3, 4, 5}\n"
     ]
    }
   ],
   "source": [
    "my_set = {1,2,3,4,5,5}\n",
    "print(my_set)"
   ]
  },
  {
   "cell_type": "code",
   "execution_count": 114,
   "id": "9bf4eef4-2359-49ff-a953-c2e168c7552e",
   "metadata": {},
   "outputs": [
    {
     "name": "stdout",
     "output_type": "stream",
     "text": [
      "{1, 2, 3, 4, 5, 100}\n"
     ]
    }
   ],
   "source": [
    "my_set.add(100)\n",
    "my_set.add(2)\n",
    "print(my_set)"
   ]
  },
  {
   "cell_type": "markdown",
   "id": "292b7645-4c7b-470d-bb7f-b0a250235c2d",
   "metadata": {},
   "source": [
    "#### Set Methods\n",
    "- .difference() Any dupplicate betwee two sets get ignored\n",
    "- .dicard() Removes specific a value from set\n",
    "- .difference_update() Modifies the set \n",
    "- .intersection() Check values that repeats in the two sets will return the values that repeat\n",
    "- .isdisjoint() Check values that repeats in the two sets will return true or false\n",
    "- .issubset() Checks if one set is in another set retruns a bool\n",
    "- .issuperset() Same as issubset() but revers\n",
    "- .union() combine both set without dupplicats and will return new set"
   ]
  },
  {
   "cell_type": "code",
   "execution_count": 126,
   "id": "dc62680d-b793-42ef-8605-9882e0ab7e4d",
   "metadata": {},
   "outputs": [
    {
     "name": "stdout",
     "output_type": "stream",
     "text": [
      "{1, 2, 3}\n"
     ]
    }
   ],
   "source": [
    "my_set = {1,2,3,4,5}\n",
    "your_set = {4,5,6,7,8,9,10}\n",
    "\n",
    "print(my_set.difference(your_set))"
   ]
  },
  {
   "cell_type": "code",
   "execution_count": 116,
   "id": "6a781122-32e0-4404-aee2-e442119832fa",
   "metadata": {},
   "outputs": [
    {
     "name": "stdout",
     "output_type": "stream",
     "text": [
      "None\n"
     ]
    }
   ],
   "source": [
    "print(my_set.discard(5))"
   ]
  },
  {
   "cell_type": "code",
   "execution_count": 117,
   "id": "836d88d9-10b6-49bc-91a3-1c0e22bb9a4f",
   "metadata": {},
   "outputs": [
    {
     "name": "stdout",
     "output_type": "stream",
     "text": [
      "{1, 2, 3, 4}\n"
     ]
    }
   ],
   "source": [
    "print(my_set)"
   ]
  },
  {
   "cell_type": "code",
   "execution_count": 119,
   "id": "b3eb41c4-e080-453e-9781-2dc9f7ea6317",
   "metadata": {},
   "outputs": [
    {
     "name": "stdout",
     "output_type": "stream",
     "text": [
      "None\n"
     ]
    }
   ],
   "source": [
    "print(my_set.difference_update(your_set))"
   ]
  },
  {
   "cell_type": "code",
   "execution_count": 120,
   "id": "ed6e073c-57b4-4bb2-8d6f-237a9a18b0d4",
   "metadata": {},
   "outputs": [
    {
     "name": "stdout",
     "output_type": "stream",
     "text": [
      "{1, 2, 3}\n"
     ]
    }
   ],
   "source": [
    "print(my_set)"
   ]
  },
  {
   "cell_type": "code",
   "execution_count": 123,
   "id": "171ad0ba-7a52-4d53-a3eb-20fb62556656",
   "metadata": {},
   "outputs": [
    {
     "name": "stdout",
     "output_type": "stream",
     "text": [
      "{4, 5}\n"
     ]
    }
   ],
   "source": [
    "print(my_set.intersection(your_set))"
   ]
  },
  {
   "cell_type": "code",
   "execution_count": 127,
   "id": "5ac060fc-be50-4ac6-ac3b-967122215b6d",
   "metadata": {},
   "outputs": [
    {
     "name": "stdout",
     "output_type": "stream",
     "text": [
      "{4, 5}\n"
     ]
    }
   ],
   "source": [
    "print(my_set & (your_set))# do the same as intersection"
   ]
  },
  {
   "cell_type": "code",
   "execution_count": 124,
   "id": "a36d965b-e724-42a8-853a-9256378417cf",
   "metadata": {},
   "outputs": [
    {
     "name": "stdout",
     "output_type": "stream",
     "text": [
      "False\n"
     ]
    }
   ],
   "source": [
    "print(my_set.isdisjoint(your_set))"
   ]
  },
  {
   "cell_type": "code",
   "execution_count": 125,
   "id": "df95e23b-af4d-4397-8222-8430fd3dc437",
   "metadata": {},
   "outputs": [
    {
     "name": "stdout",
     "output_type": "stream",
     "text": [
      "{1, 2, 3, 4, 5, 6, 7, 8, 9, 10}\n"
     ]
    }
   ],
   "source": [
    "print(my_set.union(your_set))"
   ]
  },
  {
   "cell_type": "code",
   "execution_count": 128,
   "id": "790d6bb5-a5f5-4b90-b2c7-92fe7f901551",
   "metadata": {},
   "outputs": [
    {
     "name": "stdout",
     "output_type": "stream",
     "text": [
      "{1, 2, 3, 4, 5, 6, 7, 8, 9, 10}\n"
     ]
    }
   ],
   "source": [
    "print(my_set | (your_set)) # do the same as union"
   ]
  },
  {
   "cell_type": "code",
   "execution_count": 130,
   "id": "f1b87152-9f4b-418d-89f8-403823e2209f",
   "metadata": {},
   "outputs": [
    {
     "name": "stdout",
     "output_type": "stream",
     "text": [
      "True\n"
     ]
    }
   ],
   "source": [
    "my_set = {4,5}\n",
    "your_set = {4,5,6,7,8,9,10}\n",
    "\n",
    "print(my_set.issubset(your_set))"
   ]
  },
  {
   "cell_type": "code",
   "execution_count": 132,
   "id": "7c80f2c2-34d2-48eb-994d-89388a778c47",
   "metadata": {},
   "outputs": [
    {
     "name": "stdout",
     "output_type": "stream",
     "text": [
      "True\n"
     ]
    }
   ],
   "source": [
    "print(your_set.issuperset(my_set))"
   ]
  }
 ],
 "metadata": {
  "kernelspec": {
   "display_name": "Python 3 (ipykernel)",
   "language": "python",
   "name": "python3"
  },
  "language_info": {
   "codemirror_mode": {
    "name": "ipython",
    "version": 3
   },
   "file_extension": ".py",
   "mimetype": "text/x-python",
   "name": "python",
   "nbconvert_exporter": "python",
   "pygments_lexer": "ipython3",
   "version": "3.13.2"
  }
 },
 "nbformat": 4,
 "nbformat_minor": 5
}
