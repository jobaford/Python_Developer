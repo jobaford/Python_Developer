{
 "cells": [
  {
   "cell_type": "markdown",
   "id": "79ab1d5c-3aa4-4768-9255-64d56ae53008",
   "metadata": {},
   "source": [
    "# Functional Programming\n",
    "\n",
    "\n",
    "### What is Functional Programming?\n",
    "\n",
    "**Functional programming** is a way of writing code where:\n",
    "\n",
    "* You **separate data** (the information) from the **functions** (the actions).\n",
    "* You **organize your code** into small, focused pieces — each doing **one thing well**.\n",
    "* You don’t mix data and behavior together like you do in **object-oriented programming (OOP)**.\n",
    "\n",
    "---\n",
    "\n",
    "### How Is It Different from OOP?\n",
    "\n",
    "| Concept                | Object-Oriented Programming | Functional Programming |\n",
    "| ---------------------- | --------------------------- | ---------------------- |\n",
    "| Code is organized into | **Classes/objects**         | **Functions**          |\n",
    "| Data + behavior        | Combined (inside objects)   | Kept separate          |\n",
    "| Example                | `wizard.cast_spell()`       | `cast_spell(wizard)`   |\n",
    "\n",
    "In OOP, the data and the behavior are bundled inside objects.\n",
    "In functional programming, the **data is just data**, and **functions work on the data** separately.\n",
    "\n",
    "---\n",
    "\n",
    "### Why Use Functional Programming?\n",
    "\n",
    "* Keeps code **clean and simple**\n",
    "* Easier to **understand and test**\n",
    "* Encourages **reusable, small functions**\n",
    "* Helps avoid bugs by not changing data (we’ll talk about **pure functions** next)\n",
    "\n",
    "---\n",
    "\n",
    "### Big Idea: Separation of Concerns\n",
    "\n",
    "Each function or part of your program should **only care about one thing** — just like in OOP.\n",
    "\n",
    "But in functional programming:\n",
    "\n",
    "* **Data stays simple**\n",
    "* **Functions do the work**\n",
    "\n",
    "---\n",
    "\n",
    "### Key Concept: Pure Functions\n",
    "\n",
    "A **pure function**:\n",
    "\n",
    "* Always gives the **same output** for the **same input**\n",
    "* Doesn’t **change anything outside** of itself (no side effects)\n",
    "\n",
    "---"
   ]
  },
  {
   "cell_type": "markdown",
   "id": "9270b763-0672-4de5-b850-4fcd0488ba32",
   "metadata": {},
   "source": [
    "# Pure Function\n",
    "\n",
    "##### What is a Pure Function?\n",
    "\n",
    "A **pure function** is a type of function in programming that follows **two important rules**:\n",
    "\n",
    "---\n",
    "\n",
    "##### Rule 1: **Same Input → Same Output**\n",
    "\n",
    "If you give the function the same input, it will always give you the same output.\n",
    "For example, if you give it the numbers 1, 2, and 3, and ask it to double them, it will always give you 2, 4, and 6. Every time. No surprises.\n",
    "\n",
    "---\n",
    "\n",
    "##### Rule 2: **No Side Effects**\n",
    "\n",
    "A pure function **doesn’t touch anything outside of itself**.\n",
    "It doesn't:\n",
    "\n",
    "* Print to the screen\n",
    "* Change a file\n",
    "* Update a global variable\n",
    "* Send a message\n",
    "* Read a sensor\n",
    "  It just looks at what it was given and gives back a result.\n",
    "\n",
    "Think of it like a calculator:\n",
    "You type in numbers, and it shows the result. It doesn't change your TV channel, send a text, or open an app. It just calculates.\n",
    "\n",
    "---\n",
    "\n",
    "##### Why Pure Functions Matter\n",
    "\n",
    "* They’re **easy to understand**.\n",
    "* They’re **easy to test** because you don’t need to worry about outside stuff.\n",
    "* They’re **less likely to have bugs** because nothing unexpected happens.\n",
    "* They’re **reliable** – they always behave the same way.\n",
    "\n",
    "---\n",
    "\n",
    "##### When Can’t You Use Pure Functions?\n",
    "\n",
    "In real programs, we often **need** to interact with the outside world:\n",
    "\n",
    "* Showing a result on screen\n",
    "* Saving progress in a game\n",
    "* Sending data online\n",
    "\n",
    "These things are **side effects** — and they’re necessary. So not every function can be pure.\n",
    "\n",
    "But if you **keep most of your functions pure**, your code becomes much **cleaner and easier to manage**. You’ll know exactly where bugs are most likely to happen — in the few functions that do have side effects.\n",
    "\n",
    "---\n",
    "\n",
    "##### The Big Idea:\n",
    "\n",
    "Pure functions = **predictable, simple, safe.**\n",
    "Use them **whenever you can**. When you can’t, just be clear that the function is doing something with the outside world.\n",
    "\n",
    "Let me know if you’d like a real-world analogy to go with this!\n"
   ]
  },
  {
   "cell_type": "markdown",
   "id": "1e3e60bd-a1f2-4497-a6c3-45dd5c5beba8",
   "metadata": {},
   "source": [
    "# map()\n",
    "\n",
    "syntax: **map(action, iterable)**\n",
    "\n",
    "`map()` applies a function to **each item** in a list (or other collection) and gives you a **new list** with the results.\n",
    "\n",
    "### Example (in words):\n",
    "\n",
    "If you have numbers `[1, 2, 3]` and a rule \"multiply by 2\", `map()` gives you `[2, 4, 6]`.\n",
    "\n",
    "Think of it like a machine:\n",
    "Input list → rule applied to each item → output list."
   ]
  },
  {
   "cell_type": "code",
   "execution_count": 6,
   "id": "d5e06e26-35a5-488b-a079-29120930774d",
   "metadata": {},
   "outputs": [
    {
     "name": "stdout",
     "output_type": "stream",
     "text": [
      "[2, 4, 6]\n"
     ]
    }
   ],
   "source": [
    "# without map()\n",
    "def multiply_by2(li):\n",
    "    new_list = []\n",
    "    for item in li:\n",
    "        new_list.append(item*2)\n",
    "    return new_list\n",
    "\n",
    "print(multiply_by2([1,2,3]))"
   ]
  },
  {
   "cell_type": "code",
   "execution_count": 5,
   "id": "408afa41-499a-4650-8a75-a7fc9f17421d",
   "metadata": {},
   "outputs": [
    {
     "name": "stdout",
     "output_type": "stream",
     "text": [
      "[2, 4, 6]\n"
     ]
    }
   ],
   "source": [
    "# with map()\n",
    "def multiply_by2(item):\n",
    "    return item*2\n",
    "\n",
    "print(list(map(multiply_by2, [1,2,3])))"
   ]
  },
  {
   "cell_type": "code",
   "execution_count": 7,
   "id": "c21d1d69-c829-42dd-a0ce-ae0a004a086b",
   "metadata": {},
   "outputs": [
    {
     "name": "stdout",
     "output_type": "stream",
     "text": [
      "[2, 4, 6]\n",
      "[1, 2, 3]\n"
     ]
    }
   ],
   "source": [
    "# there is no side effects in using map\n",
    "my_list = [1,2,3]\n",
    "def multiply_by2(item):\n",
    "    return item*2\n",
    "\n",
    "print(list(map(multiply_by2, my_list)))\n",
    "print(my_list)"
   ]
  },
  {
   "cell_type": "markdown",
   "id": "523d8ed3-2ef1-4e6c-bfa9-db745a464c2d",
   "metadata": {},
   "source": [
    "# filter()\n",
    "\n",
    "`filter()` checks each item in a list with a **condition** and keeps only the items that **pass** the test.\n",
    "\n",
    "### Example (in words):\n",
    "\n",
    "If you have `[1, 2, 3, 4]` and want only even numbers, `filter()` gives you `[2, 4]`.\n",
    "\n",
    "Think of it like a strainer:\n",
    "Input list → test each item → keep the ones that pass.\n"
   ]
  },
  {
   "cell_type": "code",
   "execution_count": 8,
   "id": "7cf3c5dd-4019-4b97-937b-673d083c7455",
   "metadata": {},
   "outputs": [
    {
     "name": "stdout",
     "output_type": "stream",
     "text": [
      "[1, 3]\n",
      "[1, 2, 3]\n"
     ]
    }
   ],
   "source": [
    "my_list = [1,2,3]\n",
    "def only_odd(item):\n",
    "    return item % 2 != 0\n",
    "\n",
    "print(list(filter(only_odd, my_list)))\n",
    "print(my_list)"
   ]
  },
  {
   "cell_type": "markdown",
   "id": "482ad67f-9f03-4640-9509-bd2ce588c78f",
   "metadata": {},
   "source": [
    "# zip()\n",
    "\n",
    "`zip()` pairs items from two or more lists **by position**.\n",
    "\n",
    "### Example (in words):\n",
    "\n",
    "If you have `[1, 2, 3]` and `['a', 'b', 'c']`, `zip()` gives you `[(1, 'a'), (2, 'b'), (3, 'c')]`.\n",
    "\n",
    "Think of it like zipping two jackets together—matching parts go side by side.\n"
   ]
  },
  {
   "cell_type": "code",
   "execution_count": 11,
   "id": "38cfd882-ca71-4676-bdde-4a5a6c761ef2",
   "metadata": {},
   "outputs": [
    {
     "name": "stdout",
     "output_type": "stream",
     "text": [
      "[(1, 10), (2, 20), (3, 30)]\n",
      "[1, 2, 3]\n"
     ]
    }
   ],
   "source": [
    "my_list = [1,2,3]\n",
    "your_list = [10,20,30]\n",
    "\n",
    "print(list(zip(my_list, your_list)))\n",
    "print(my_list)"
   ]
  },
  {
   "cell_type": "code",
   "execution_count": 12,
   "id": "d8e75e88-1ab6-4658-b383-c408dac8c20d",
   "metadata": {},
   "outputs": [
    {
     "name": "stdout",
     "output_type": "stream",
     "text": [
      "[(1, 10, 5), (2, 20, 4), (3, 30, 3)]\n",
      "[1, 2, 3]\n"
     ]
    }
   ],
   "source": [
    "my_list = [1,2,3]\n",
    "your_list = [10,20,30]\n",
    "their_list = [5,4,3]\n",
    "\n",
    "print(list(zip(my_list, your_list, their_list)))\n",
    "print(my_list)"
   ]
  },
  {
   "cell_type": "markdown",
   "id": "994c084f-1dc7-4d37-9bc6-3055fd06cc52",
   "metadata": {},
   "source": [
    "# reduce()\n",
    "\n",
    "syntax: **reduce(function, iterable, initializer)**\n",
    "\n",
    "`reduce()` applies a function **repeatedly** to items in a list, combining them into a **single value**.\n",
    "\n",
    "### Example (in words):\n",
    "\n",
    "To add `[1, 2, 3, 4]`, `reduce()` does:\n",
    "1 + 2 → 3\n",
    "3 + 3 → 6\n",
    "6 + 4 → **10**\n",
    "\n",
    "It “reduces” the list to one result.\n"
   ]
  },
  {
   "cell_type": "code",
   "execution_count": 15,
   "id": "470e2026-6642-428a-a247-58b31192117d",
   "metadata": {},
   "outputs": [
    {
     "name": "stdout",
     "output_type": "stream",
     "text": [
      "0 1\n",
      "1 2\n",
      "3 3\n",
      "6\n",
      "[1, 2, 3]\n"
     ]
    }
   ],
   "source": [
    "from functools import reduce\n",
    "my_list = [1,2,3]\n",
    "\n",
    "def accumulator(acc, item):\n",
    "    print(acc, item)\n",
    "    return acc + item\n",
    "    \n",
    "print(reduce(accumulator, my_list, 0))\n",
    "print(my_list)"
   ]
  },
  {
   "cell_type": "code",
   "execution_count": 16,
   "id": "a2d81e76-2346-46a8-ad4c-fcf11672bab1",
   "metadata": {},
   "outputs": [
    {
     "name": "stdout",
     "output_type": "stream",
     "text": [
      "10 1\n",
      "11 2\n",
      "13 3\n",
      "16\n",
      "[1, 2, 3]\n"
     ]
    }
   ],
   "source": [
    "from functools import reduce\n",
    "my_list = [1,2,3]\n",
    "\n",
    "def accumulator(acc, item):\n",
    "    print(acc, item)\n",
    "    return acc + item\n",
    "    \n",
    "print(reduce(accumulator, my_list, 10))\n",
    "print(my_list)"
   ]
  },
  {
   "cell_type": "markdown",
   "id": "c1df9277-c07b-4af2-806b-7566f9be9394",
   "metadata": {},
   "source": [
    "# Lambda Expressions\n",
    "\n",
    "syntax: **lambda arguments: expression**\n",
    "\n",
    "A **lambda expression** is a quick way to create a small, one-time-use function. It’s often used when you need a simple function for a short period, especially with tools like `map`, `filter`, or `reduce`. It’s written in a single line and doesn’t need a name.\n"
   ]
  },
  {
   "cell_type": "code",
   "execution_count": 18,
   "id": "8ce215b0-2b43-4e86-83a6-7c1fa2249471",
   "metadata": {},
   "outputs": [
    {
     "name": "stdout",
     "output_type": "stream",
     "text": [
      "[2, 4, 6]\n",
      "[1, 2, 3]\n"
     ]
    }
   ],
   "source": [
    "my_list = [1,2,3]\n",
    "\n",
    "print(list(map(lambda item: item*2, my_list)))\n",
    "print(my_list)"
   ]
  },
  {
   "cell_type": "code",
   "execution_count": 22,
   "id": "5c8ac449-2350-4eba-81b7-7eca35b73fa6",
   "metadata": {},
   "outputs": [
    {
     "name": "stdout",
     "output_type": "stream",
     "text": [
      "[1, 3]\n",
      "[1, 2, 3]\n"
     ]
    }
   ],
   "source": [
    "my_list = [1,2,3]\n",
    "\n",
    "print(list(filter(lambda item: item % 2 != 0, my_list)))\n",
    "print(my_list)"
   ]
  },
  {
   "cell_type": "code",
   "execution_count": 26,
   "id": "ac6daa6d-25bc-40c3-bf0e-67b191733e9c",
   "metadata": {},
   "outputs": [
    {
     "name": "stdout",
     "output_type": "stream",
     "text": [
      "[25, 16, 9]\n"
     ]
    }
   ],
   "source": [
    "# Squere\n",
    "my_list = [5,4,3]\n",
    "\n",
    "print(list(map(lambda item: item ** 2, my_list)))"
   ]
  },
  {
   "cell_type": "code",
   "execution_count": 37,
   "id": "fa2b6fc9-ad08-47ed-b2c4-0bc866860bfa",
   "metadata": {},
   "outputs": [
    {
     "name": "stdout",
     "output_type": "stream",
     "text": [
      "[(10, -1), (0, 2), (4, 3), (9, 9)]\n"
     ]
    }
   ],
   "source": [
    "#List Sorting\n",
    "a = [(0,2),(4,3),(9,9),(10,-1)]\n",
    "\n",
    "a.sort(key=lambda x: x[1])\n",
    "print(a)"
   ]
  },
  {
   "cell_type": "code",
   "execution_count": 42,
   "id": "a0894c5a-6de3-4527-852e-beb051d8ad91",
   "metadata": {},
   "outputs": [
    {
     "name": "stdout",
     "output_type": "stream",
     "text": [
      "(4, 3)\n"
     ]
    }
   ],
   "source": [
    "a = [(0,2),(4,3),(9,9),(10,-1)]\n",
    "\n",
    "print((lambda x: x[1])(a))"
   ]
  },
  {
   "cell_type": "markdown",
   "id": "491af8ce-0583-4c43-b268-c9c62955cd2d",
   "metadata": {},
   "source": [
    "# List Comprehensions\n",
    "\n",
    "List comprehensions are a short and simple way to create new lists by looping through existing data, all in one line.\n",
    "\n",
    "syntax: **[expression for item in iterable if condition]**\n",
    "\n",
    "**Explanation:**\n",
    "\n",
    "* `expression`: what to do with each `item`\n",
    "* `for item in iterable`: loop through a sequence (like a list)\n",
    "* `if condition` (optional): filter items\n",
    "\n",
    "It's like a compact version of a `for` loop that builds a new list.\n"
   ]
  },
  {
   "cell_type": "code",
   "execution_count": 43,
   "id": "6db94128-5f61-4b57-a8c1-8f51ad81bded",
   "metadata": {},
   "outputs": [
    {
     "name": "stdout",
     "output_type": "stream",
     "text": [
      "['h', 'e', 'l', 'l', 'o']\n"
     ]
    }
   ],
   "source": [
    "my_list = []\n",
    "\n",
    "for char in 'hello':\n",
    "    my_list.append(char)\n",
    "\n",
    "print(my_list)"
   ]
  },
  {
   "cell_type": "code",
   "execution_count": 45,
   "id": "a6a950a1-863d-4ce8-be38-3506adff7dd0",
   "metadata": {},
   "outputs": [
    {
     "name": "stdout",
     "output_type": "stream",
     "text": [
      "['h', 'e', 'l', 'l', 'o']\n"
     ]
    }
   ],
   "source": [
    "my_list = [char for char in 'hello']\n",
    "\n",
    "print(my_list)"
   ]
  },
  {
   "cell_type": "code",
   "execution_count": 48,
   "id": "79e908c3-db25-4dcb-9b7a-c10404b88b5c",
   "metadata": {},
   "outputs": [
    {
     "name": "stdout",
     "output_type": "stream",
     "text": [
      "[1, 2, 3, 4, 5, 6, 7, 8, 9]\n"
     ]
    }
   ],
   "source": [
    "my_list2 = [num for num in range(1,10)]\n",
    "\n",
    "print(my_list2)"
   ]
  },
  {
   "cell_type": "code",
   "execution_count": 50,
   "id": "045eee10-3199-40ed-bc32-65d3f5b81a60",
   "metadata": {},
   "outputs": [
    {
     "name": "stdout",
     "output_type": "stream",
     "text": [
      "[2, 4, 6, 8, 10, 12, 14, 16, 18]\n"
     ]
    }
   ],
   "source": [
    "my_list3 = [num * 2 for num in range(1,10)]\n",
    "\n",
    "print(my_list3)"
   ]
  },
  {
   "cell_type": "code",
   "execution_count": 51,
   "id": "54226ceb-ee56-4818-8dfe-ab9e0efd7a2c",
   "metadata": {},
   "outputs": [
    {
     "name": "stdout",
     "output_type": "stream",
     "text": [
      "[4, 16, 36, 64]\n"
     ]
    }
   ],
   "source": [
    "my_list4 = [num ** 2 for num in range(1,10) if num % 2 == 0]\n",
    "\n",
    "print(my_list4)"
   ]
  },
  {
   "cell_type": "markdown",
   "id": "4890c921-5a30-4987-a297-e85de7417fb9",
   "metadata": {},
   "source": [
    "# Set and Dictionary Comprehension"
   ]
  },
  {
   "cell_type": "markdown",
   "id": "27bed81b-1576-4231-89f3-2de1bb89a066",
   "metadata": {},
   "source": [
    "#### Set Comprehension"
   ]
  },
  {
   "cell_type": "code",
   "execution_count": 53,
   "id": "a71b8600-8f64-4055-abcf-e2a78b1e22ed",
   "metadata": {},
   "outputs": [
    {
     "name": "stdout",
     "output_type": "stream",
     "text": [
      "{'h', 'o', 'e', 'l'}\n"
     ]
    }
   ],
   "source": [
    "my_list = {char for char in 'hello'}\n",
    "\n",
    "print(my_list)"
   ]
  },
  {
   "cell_type": "code",
   "execution_count": 54,
   "id": "61dffe4a-7267-4979-991a-21f0e90da90f",
   "metadata": {},
   "outputs": [
    {
     "name": "stdout",
     "output_type": "stream",
     "text": [
      "{16, 64, 4, 36}\n"
     ]
    }
   ],
   "source": [
    "my_list2 = {num ** 2 for num in range(1,10) if num % 2 == 0}\n",
    "\n",
    "print(my_list2)"
   ]
  },
  {
   "cell_type": "markdown",
   "id": "29b30028-9176-44af-b2f2-a1b5c3561227",
   "metadata": {},
   "source": [
    "#### Dictionary Comprehension"
   ]
  },
  {
   "cell_type": "code",
   "execution_count": 57,
   "id": "3db7124c-baa2-4b97-a6ad-121b4638501b",
   "metadata": {},
   "outputs": [
    {
     "name": "stdout",
     "output_type": "stream",
     "text": [
      "{'a': 1, 'b': 4}\n"
     ]
    }
   ],
   "source": [
    "simple_dict = {\n",
    "    'a': 1,\n",
    "    'b': 2\n",
    "}\n",
    "\n",
    "my_dict = {key:value**2 for key, value in simple_dict.items()}\n",
    "\n",
    "print(my_dict)"
   ]
  },
  {
   "cell_type": "code",
   "execution_count": 58,
   "id": "7c586e3b-c556-45fc-bc2c-d9a5c208b826",
   "metadata": {},
   "outputs": [
    {
     "name": "stdout",
     "output_type": "stream",
     "text": [
      "{1: 1, 2: 4, 3: 9, 4: 16, 5: 25}\n"
     ]
    }
   ],
   "source": [
    "my_dict = {num:num**2 for num in [1,2,3,4,5]}\n",
    "\n",
    "print(my_dict)"
   ]
  },
  {
   "cell_type": "code",
   "execution_count": 60,
   "id": "85f735dd-83ab-497a-a49d-bd3bde2367f9",
   "metadata": {},
   "outputs": [
    {
     "name": "stdout",
     "output_type": "stream",
     "text": [
      "['b', 'b', 'n', 'n']\n"
     ]
    }
   ],
   "source": [
    "# exercise\n",
    "some_list = ['a','b','c','b','d','m','n','n']\n",
    "\n",
    "duplicates = []\n",
    "for value in some_list:\n",
    "    if some_list.count(value) > 1:\n",
    "        duplicates.append(value)\n",
    "\n",
    "print(duplicates)"
   ]
  },
  {
   "cell_type": "code",
   "execution_count": 65,
   "id": "00cf18d0-caa2-4e36-89f3-d392d14a6c1b",
   "metadata": {},
   "outputs": [
    {
     "name": "stdout",
     "output_type": "stream",
     "text": [
      "['n', 'b']\n"
     ]
    }
   ],
   "source": [
    "# solution \n",
    "some_list = ['a','b','c','b','d','m','n','n']\n",
    "\n",
    "duplicates = list({x for x in some_list if some_list.count(x) > 1})\n",
    "\n",
    "print(duplicates)"
   ]
  },
  {
   "cell_type": "code",
   "execution_count": null,
   "id": "98538e5d-8036-444c-83b0-1a7fd36cdbf1",
   "metadata": {},
   "outputs": [],
   "source": []
  }
 ],
 "metadata": {
  "kernelspec": {
   "display_name": "Python 3 (ipykernel)",
   "language": "python",
   "name": "python3"
  },
  "language_info": {
   "codemirror_mode": {
    "name": "ipython",
    "version": 3
   },
   "file_extension": ".py",
   "mimetype": "text/x-python",
   "name": "python",
   "nbconvert_exporter": "python",
   "pygments_lexer": "ipython3",
   "version": "3.13.2"
  }
 },
 "nbformat": 4,
 "nbformat_minor": 5
}
