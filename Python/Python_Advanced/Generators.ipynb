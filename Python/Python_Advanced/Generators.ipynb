{
 "cells": [
  {
   "cell_type": "markdown",
   "id": "dcbebd90-bc3a-471c-bbcd-bba8ffbea845",
   "metadata": {},
   "source": [
    "# Generators\n",
    "\n",
    "**Generators** are a way in Python to produce values **one at a time**, instead of creating a whole list at once.\n",
    "\n",
    "They’re useful because they **save memory**—especially when dealing with large amounts of data.\n",
    "\n",
    "Instead of building and storing everything upfront, generators **pause and resume** as needed, using a special keyword called **`yield`**.\n",
    "\n",
    "For example, `range()` is a generator—it doesn’t create all the numbers at once. It gives them to you **one by one**, only when you ask.\n",
    "\n",
    "This makes your programs **faster and more efficient**.\n",
    "\n",
    "It’s like a playlist that streams songs one at a time instead of downloading the entire album.\n"
   ]
  },
  {
   "cell_type": "markdown",
   "id": "fccd46c0-785b-446a-b10c-8b568647c0f9",
   "metadata": {},
   "source": [
    "# Generators 2\n",
    "\n",
    "A **list** holds all items in memory at once.\n",
    "A **generator** gives you one item at a time—only when you ask for it.\n",
    "\n",
    "Both **lists** and **generators** are *iterables*, meaning you can loop over them.\n",
    "\n",
    "But not all iterables are generators.\n",
    "For example:\n",
    "\n",
    "* A **list** is iterable, but not a generator.\n",
    "* A **range** is a generator, and also iterable.\n",
    "\n",
    "Generators use the `yield` keyword, which **pauses** the function and **remembers** where it left off.\n",
    "Each time you ask for the next value (with a `for` loop or `next()`), it resumes from where it stopped.\n",
    "\n",
    "Generators are memory-efficient because they don't store all items—just the current one.\n",
    "\n",
    "If you go past the end, you get a **StopIteration** error, but `for` loops handle that for you.\n"
   ]
  },
  {
   "cell_type": "code",
   "execution_count": 6,
   "id": "fa48c4cf-f6da-4232-800d-5953822f3802",
   "metadata": {},
   "outputs": [
    {
     "name": "stdout",
     "output_type": "stream",
     "text": [
      "4\n"
     ]
    }
   ],
   "source": [
    "def generator_function(num):\n",
    "    for i in range(num):\n",
    "        yield i*2\n",
    "\n",
    "g = generator_function(20)\n",
    "next(g)\n",
    "next(g)\n",
    "print(next(g))\n",
    "\n",
    "# for item in generator_function(20):\n",
    "#     print(item)"
   ]
  },
  {
   "cell_type": "markdown",
   "id": "74028b29-4a5c-43c6-8e6e-e255c4b28280",
   "metadata": {},
   "source": [
    "# Generators Performance\n",
    "\n",
    "Generators in Python are special functions that **don’t store everything in memory**. Instead, they **yield one item at a time**, which makes them **faster and use less memory**, especially with big data.\n",
    "\n",
    "Example:\n",
    "\n",
    "* `range()` is a generator — it gives one number at a time.\n",
    "* `list(range())` creates and stores all numbers in memory — slower and heavier.\n",
    "\n",
    "Generators are great when:\n",
    "\n",
    "* You're looping over large data.\n",
    "* You don’t need all results at once.\n",
    "* You want better performance.\n",
    "\n",
    "To make one:\n",
    "\n",
    "```python\n",
    "def gen(n):\n",
    "    for i in range(n):\n",
    "        yield i * 5\n",
    "```\n",
    "\n",
    "Use it like:\n",
    "\n",
    "```python\n",
    "for item in gen(1000):\n",
    "    print(item)\n",
    "```\n",
    "\n",
    "- **Faster**\n",
    "- **Less memory**\n",
    "- **Used by many Python libraries**\n"
   ]
  },
  {
   "cell_type": "markdown",
   "id": "ef1e82af-7fef-4aaa-8ee3-9837fe93ca4d",
   "metadata": {},
   "source": [
    "# Under the Hood of Generators\n",
    "\n",
    "**`iter()`** in Python turns an **iterable** (like a list) into an **iterator**, which lets you manually get items one by one using `next()`.\n",
    "\n",
    "### Example:\n",
    "\n",
    "```python\n",
    "nums = [1, 2, 3]     # This is an iterable\n",
    "it = iter(nums)      # Now 'it' is an iterator\n",
    "\n",
    "print(next(it))      # 1\n",
    "print(next(it))      # 2\n",
    "```\n",
    "\n",
    "### But wait — aren’t lists already iterables?\n",
    "\n",
    "✅ Yes! Lists **are iterables**, meaning you can loop over them.\n",
    "❌ But they are **not iterators** — they don’t remember where they left off.\n",
    "👉 `iter()` turns the iterable into an iterator so you can use `next()` to go step by step.\n"
   ]
  },
  {
   "cell_type": "code",
   "execution_count": 7,
   "id": "dbcfa198-84d5-4837-a598-629d1b22785b",
   "metadata": {},
   "outputs": [
    {
     "name": "stdout",
     "output_type": "stream",
     "text": [
      "<list_iterator object at 0x000001B2AD1A3640>\n",
      "1\n",
      "<list_iterator object at 0x000001B2AD1A3640>\n",
      "2\n",
      "<list_iterator object at 0x000001B2AD1A3640>\n",
      "3\n",
      "<list_iterator object at 0x000001B2AD1A3640>\n"
     ]
    }
   ],
   "source": [
    "def special_for(iterable):\n",
    "    iterator = iter(iterable)\n",
    "    while True:\n",
    "        try:\n",
    "            print(iterator)\n",
    "            print(next(iterator))\n",
    "        except StopIteration:\n",
    "            break\n",
    "\n",
    "special_for([1,2,3])"
   ]
  },
  {
   "cell_type": "code",
   "execution_count": 9,
   "id": "a3169f3c-72d1-4049-8ec0-c50fe2c21f8d",
   "metadata": {},
   "outputs": [
    {
     "name": "stdout",
     "output_type": "stream",
     "text": [
      "0\n",
      "1\n",
      "2\n",
      "3\n",
      "4\n",
      "5\n",
      "6\n",
      "7\n",
      "8\n",
      "9\n",
      "10\n",
      "11\n",
      "12\n",
      "13\n",
      "14\n",
      "15\n",
      "16\n",
      "17\n",
      "18\n",
      "19\n"
     ]
    }
   ],
   "source": [
    "class MyGen():\n",
    "    current = 0\n",
    "    def __init__(self, first, last):\n",
    "        self.first = first\n",
    "        self.last = last\n",
    "\n",
    "    def __iter__(self):\n",
    "        return self\n",
    "\n",
    "    def __next__(self):\n",
    "        if MyGen.current < self.last:\n",
    "            num = MyGen.current\n",
    "            MyGen.current += 1\n",
    "            return num\n",
    "        raise StopIteration\n",
    "\n",
    "gen = MyGen(0, 20)\n",
    "for i in gen:\n",
    "    print(i)"
   ]
  },
  {
   "cell_type": "code",
   "execution_count": 12,
   "id": "6a640662-8912-4c75-b8db-1f2ee4a10649",
   "metadata": {},
   "outputs": [
    {
     "name": "stdout",
     "output_type": "stream",
     "text": [
      "0\n",
      "1\n",
      "1\n",
      "2\n",
      "3\n",
      "5\n",
      "8\n",
      "13\n",
      "21\n",
      "34\n",
      "55\n",
      "89\n",
      "144\n",
      "233\n",
      "377\n",
      "610\n",
      "987\n",
      "1597\n",
      "2584\n",
      "4181\n"
     ]
    }
   ],
   "source": [
    "def fib(number):\n",
    "    a = 0\n",
    "    b = 1\n",
    "\n",
    "    for i in range(number):\n",
    "        yield a\n",
    "        temp = a\n",
    "        a = b\n",
    "        b = temp + b\n",
    "\n",
    "for x in fib(20):\n",
    "    print(x)"
   ]
  },
  {
   "cell_type": "code",
   "execution_count": 14,
   "id": "3ae842e6-1584-4432-a995-160d36072474",
   "metadata": {},
   "outputs": [
    {
     "name": "stdout",
     "output_type": "stream",
     "text": [
      "[0, 1, 1, 2, 3, 5, 8, 13, 21, 34, 55, 89, 144, 233, 377, 610, 987, 1597, 2584, 4181]\n"
     ]
    }
   ],
   "source": [
    "def fib2(number):\n",
    "    a = 0\n",
    "    b = 1\n",
    "    result = []\n",
    "    for i in range(number):\n",
    "        result.append(a)\n",
    "        temp = a\n",
    "        a = b\n",
    "        b = temp + b\n",
    "    return result\n",
    "\n",
    "print(fib2(20))\n",
    " "
   ]
  },
  {
   "cell_type": "code",
   "execution_count": null,
   "id": "ea4b6af0-c9ce-4206-8ba8-94dd1467f7e5",
   "metadata": {},
   "outputs": [],
   "source": []
  }
 ],
 "metadata": {
  "kernelspec": {
   "display_name": "Python 3 (ipykernel)",
   "language": "python",
   "name": "python3"
  },
  "language_info": {
   "codemirror_mode": {
    "name": "ipython",
    "version": 3
   },
   "file_extension": ".py",
   "mimetype": "text/x-python",
   "name": "python",
   "nbconvert_exporter": "python",
   "pygments_lexer": "ipython3",
   "version": "3.13.2"
  }
 },
 "nbformat": 4,
 "nbformat_minor": 5
}
