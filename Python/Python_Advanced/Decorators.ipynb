{
 "cells": [
  {
   "cell_type": "markdown",
   "id": "ce31f300-5e4d-4cbf-88c6-4769ae095f47",
   "metadata": {},
   "source": [
    "# **Decorators**\n",
    "\n",
    "* A **decorator** is a way to **add extra features** to a function **without changing its code**.\n",
    "* They look like this: `@decorator_name` before a function.\n",
    "\n",
    "### Why decorators work:\n",
    "\n",
    "* In Python, **functions are first-class citizens** — they can be:\n",
    "\n",
    "  * Stored in variables,\n",
    "  * Passed as arguments,\n",
    "  * Returned from other functions.\n",
    "* This means we can treat functions like data.\n",
    "\n",
    "### Example:\n",
    "\n",
    "```python\n",
    "def greet():\n",
    "    print(\"Hello!\")\n",
    "\n",
    "hello = greet\n",
    "del greet  # Removes the name 'greet'\n",
    "\n",
    "hello()  # Still works, because 'hello' still points to the function\n",
    "```\n",
    "\n",
    "### So…\n",
    "\n",
    "Decorators work **because functions can be passed around**.\n",
    "They let us **“wrap” a function** to give it **new behavior**.\n",
    "\n",
    "---"
   ]
  },
  {
   "cell_type": "markdown",
   "id": "aad49c91-c6ef-4f59-82f7-4f14e8d56a9e",
   "metadata": {},
   "source": [
    "# Higher Order Function\n",
    "\n",
    "**Higher-Order Functions (HOFs) in Python:**\n",
    "\n",
    "A **higher-order function** is **any function that:**\n",
    "\n",
    "1. **Takes another function as input**, or\n",
    "2. **Returns a function as output**.\n",
    "\n",
    "#### Examples:\n",
    "\n",
    "```python\n",
    "# Takes a function → HOF\n",
    "def greet(func):\n",
    "    func()\n",
    "\n",
    "# Returns a function → HOF\n",
    "def greet():\n",
    "    def say_hi():\n",
    "        return 5\n",
    "    return say_hi\n",
    "```\n",
    "\n",
    "#### Common HOFs:\n",
    "\n",
    "* `map()`, `filter()`, and `reduce()` are all higher-order functions.\n",
    "\n",
    "---\n",
    "\n",
    "We need to understand HOFs because **decorators use this idea** to add functionality to functions.\n"
   ]
  },
  {
   "cell_type": "markdown",
   "id": "c9045c2c-0d47-445b-a5b9-04dbdd89ca34",
   "metadata": {},
   "source": [
    "# Decorator 2\n",
    "\n",
    "A **decorator** is a **function that wraps another function** to **add or change what it does** —\n",
    "like giving it superpowers without changing its original code.\n",
    "\n",
    "Think of a **decorator like a phone case**.\n",
    "\n",
    "* Your **phone** (function) still works the same.\n",
    "* But the **case** (decorator) can **add features** — like protection, a stand, or style — **without changing the phone itself**.\n",
    "\n",
    "So, a **decorator adds something extra** to a function, just like a case adds something extra to your phone.\n"
   ]
  },
  {
   "cell_type": "code",
   "execution_count": 10,
   "id": "8b2b9622-3865-4a6a-96c3-adb7b76d9c1e",
   "metadata": {},
   "outputs": [
    {
     "name": "stdout",
     "output_type": "stream",
     "text": [
      "********\n",
      "see ya later\n",
      "********\n"
     ]
    }
   ],
   "source": [
    "def my_decorator(func):\n",
    "    def wrap_func():\n",
    "        print('********')\n",
    "        func()\n",
    "        print('********')\n",
    "    return wrap_func\n",
    "\n",
    "@my_decorator\n",
    "def hello():\n",
    "     print('hellloooo')\n",
    "\n",
    "@my_decorator\n",
    "def bye():\n",
    "    print('see ya later')\n",
    "\n",
    "bye()"
   ]
  },
  {
   "cell_type": "code",
   "execution_count": 8,
   "id": "1aeb8b6a-4a38-4fa1-b827-6354e8591df1",
   "metadata": {},
   "outputs": [
    {
     "name": "stdout",
     "output_type": "stream",
     "text": [
      "********\n",
      "********\n",
      "hellloooo\n",
      "********\n",
      "********\n"
     ]
    }
   ],
   "source": [
    "def my_decorator(func):\n",
    "    def wrap_func():\n",
    "        print('********')\n",
    "        func()\n",
    "        print('********')\n",
    "    return wrap_func\n",
    "\n",
    "@my_decorator\n",
    "def hello():\n",
    "     print('hellloooo')\n",
    "\n",
    "@my_decorator\n",
    "def bye():\n",
    "    print('see ya later')\n",
    "\n",
    "hello2 = my_decorator(hello)\n",
    "hello2()"
   ]
  },
  {
   "cell_type": "code",
   "execution_count": 9,
   "id": "b0c60def-9a5f-4cd9-b519-82a4a792191a",
   "metadata": {},
   "outputs": [
    {
     "name": "stdout",
     "output_type": "stream",
     "text": [
      "********\n",
      "********\n",
      "hellloooo\n",
      "********\n",
      "********\n"
     ]
    }
   ],
   "source": [
    "def my_decorator(func):\n",
    "    def wrap_func():\n",
    "        print('********')\n",
    "        func()\n",
    "        print('********')\n",
    "    return wrap_func\n",
    "\n",
    "@my_decorator\n",
    "def hello():\n",
    "     print('hellloooo')\n",
    "\n",
    "@my_decorator\n",
    "def bye():\n",
    "    print('see ya later')\n",
    "\n",
    "my_decorator(hello)()"
   ]
  },
  {
   "cell_type": "markdown",
   "id": "13bc0d15-0193-4468-8acb-c725b0f42464",
   "metadata": {},
   "source": [
    "# Decorators 3"
   ]
  },
  {
   "cell_type": "code",
   "execution_count": 11,
   "id": "70bd0905-b936-416a-ad1c-8b4b4ab9783e",
   "metadata": {},
   "outputs": [
    {
     "name": "stdout",
     "output_type": "stream",
     "text": [
      "********\n"
     ]
    },
    {
     "ename": "TypeError",
     "evalue": "hello() missing 1 required positional argument: 'greeting'",
     "output_type": "error",
     "traceback": [
      "\u001b[31m---------------------------------------------------------------------------\u001b[39m",
      "\u001b[31mTypeError\u001b[39m                                 Traceback (most recent call last)",
      "\u001b[36mCell\u001b[39m\u001b[36m \u001b[39m\u001b[32mIn[11]\u001b[39m\u001b[32m, line 12\u001b[39m\n\u001b[32m      8\u001b[39m \u001b[38;5;129m@my_decorator\u001b[39m\n\u001b[32m      9\u001b[39m \u001b[38;5;28;01mdef\u001b[39;00m\u001b[38;5;250m \u001b[39m\u001b[34mhello\u001b[39m(greeting):\n\u001b[32m     10\u001b[39m     \u001b[38;5;28mprint\u001b[39m(greeting)\n\u001b[32m---> \u001b[39m\u001b[32m12\u001b[39m hello()\n",
      "\u001b[36mCell\u001b[39m\u001b[36m \u001b[39m\u001b[32mIn[11]\u001b[39m\u001b[32m, line 4\u001b[39m, in \u001b[36mmy_decorator.<locals>.wrap_func\u001b[39m\u001b[34m()\u001b[39m\n\u001b[32m      2\u001b[39m \u001b[38;5;28;01mdef\u001b[39;00m\u001b[38;5;250m \u001b[39m\u001b[34mwrap_func\u001b[39m():\n\u001b[32m      3\u001b[39m     \u001b[38;5;28mprint\u001b[39m(\u001b[33m'\u001b[39m\u001b[33m********\u001b[39m\u001b[33m'\u001b[39m)\n\u001b[32m----> \u001b[39m\u001b[32m4\u001b[39m     func()\n\u001b[32m      5\u001b[39m     \u001b[38;5;28mprint\u001b[39m(\u001b[33m'\u001b[39m\u001b[33m********\u001b[39m\u001b[33m'\u001b[39m)\n",
      "\u001b[31mTypeError\u001b[39m: hello() missing 1 required positional argument: 'greeting'"
     ]
    }
   ],
   "source": [
    "def my_decorator(func):\n",
    "    def wrap_func():\n",
    "        print('********')\n",
    "        func()\n",
    "        print('********')\n",
    "    return wrap_func\n",
    "\n",
    "@my_decorator\n",
    "def hello(greeting):\n",
    "    print(greeting)\n",
    "\n",
    "hello()"
   ]
  },
  {
   "cell_type": "code",
   "execution_count": 13,
   "id": "d1231eaa-6595-4380-8d8c-f56c3d9f3bf9",
   "metadata": {},
   "outputs": [
    {
     "name": "stdout",
     "output_type": "stream",
     "text": [
      "********\n",
      "hiiii\n",
      "********\n"
     ]
    }
   ],
   "source": [
    "def my_decorator(func):\n",
    "    def wrap_func(greeting):\n",
    "        print('********')\n",
    "        func(greeting)\n",
    "        print('********')\n",
    "    return wrap_func\n",
    "\n",
    "@my_decorator\n",
    "def hello(greeting):\n",
    "    print(greeting)\n",
    "\n",
    "hello('hiiii')"
   ]
  },
  {
   "cell_type": "code",
   "execution_count": 15,
   "id": "4e696b15-72ed-4d24-9b17-a0b413316f93",
   "metadata": {},
   "outputs": [
    {
     "name": "stdout",
     "output_type": "stream",
     "text": [
      "********\n",
      "hiiii :)\n",
      "********\n"
     ]
    }
   ],
   "source": [
    "def my_decorator(func):\n",
    "    def wrap_func(x,y):\n",
    "        print('********')\n",
    "        func(x,y)\n",
    "        print('********')\n",
    "    return wrap_func\n",
    "\n",
    "@my_decorator\n",
    "def hello(greeting,emoji):\n",
    "    print(greeting,emoji)\n",
    "\n",
    "hello('hiiii',':)')"
   ]
  },
  {
   "cell_type": "code",
   "execution_count": 17,
   "id": "7047bcf0-6217-422b-bb66-0073003dc17c",
   "metadata": {},
   "outputs": [
    {
     "name": "stdout",
     "output_type": "stream",
     "text": [
      "********\n",
      "hiiii :(\n",
      "********\n"
     ]
    }
   ],
   "source": [
    "def my_decorator(func):\n",
    "    def wrap_func(*args,**kwargs):\n",
    "        print('********')\n",
    "        func(*args,**kwargs)\n",
    "        print('********')\n",
    "    return wrap_func\n",
    "\n",
    "@my_decorator\n",
    "def hello(greeting,emoji=':('):\n",
    "    print(greeting,emoji)\n",
    "\n",
    "hello('hiiii')"
   ]
  },
  {
   "cell_type": "markdown",
   "id": "9b9e7a49-535b-4b9e-8fa4-e1c62d909644",
   "metadata": {},
   "source": [
    "# Why do we need decorators?"
   ]
  },
  {
   "cell_type": "markdown",
   "id": "4b3c017c-9aaa-4310-afd6-5128a67e0252",
   "metadata": {},
   "source": [
    "**Decorators** in Python let you add extra behavior to a function without changing how the function is written.\n",
    "\n",
    "A **performance decorator** is a tool you can create to measure how long a function takes to run. It records the time before and after the function runs, then shows the time difference.\n",
    "\n",
    "This is helpful when testing your code, so you can see which parts are slow and need improvement.\n",
    "\n",
    "Decorators can also be used for things like logging actions, checking if a user is logged in, or tracking events. They're common in web frameworks like Django and Flask.\n"
   ]
  },
  {
   "cell_type": "code",
   "execution_count": 21,
   "id": "b9bc44b8-bb46-4c76-9c91-95b545540320",
   "metadata": {},
   "outputs": [
    {
     "name": "stdout",
     "output_type": "stream",
     "text": [
      "took 0.07294678688049316s\n"
     ]
    }
   ],
   "source": [
    "from time import time\n",
    "\n",
    "def performance(fn):\n",
    "    def wrapper(*args, **kwargs):\n",
    "        t1 = time()\n",
    "        result = fn(*args, **kwargs)\n",
    "        t2 = time()\n",
    "        print(f'took {t2-t1}s')\n",
    "        return result\n",
    "    return wrapper\n",
    "\n",
    "@performance\n",
    "def long_time():\n",
    "    for i in range(1000000):\n",
    "        i*5\n",
    "long_time()"
   ]
  },
  {
   "cell_type": "code",
   "execution_count": null,
   "id": "cdcf0989-2b02-43d9-be68-af825d46b1a0",
   "metadata": {},
   "outputs": [],
   "source": []
  },
  {
   "cell_type": "code",
   "execution_count": null,
   "id": "a19b6a7d-7867-43a0-819b-809b59820641",
   "metadata": {},
   "outputs": [],
   "source": []
  },
  {
   "cell_type": "code",
   "execution_count": null,
   "id": "e9836284-702f-4362-93c6-c00b32a507fe",
   "metadata": {},
   "outputs": [],
   "source": []
  },
  {
   "cell_type": "code",
   "execution_count": null,
   "id": "fbfe1ceb-c30d-49a1-8122-b4da468dd6f8",
   "metadata": {},
   "outputs": [],
   "source": []
  }
 ],
 "metadata": {
  "kernelspec": {
   "display_name": "Python 3 (ipykernel)",
   "language": "python",
   "name": "python3"
  },
  "language_info": {
   "codemirror_mode": {
    "name": "ipython",
    "version": 3
   },
   "file_extension": ".py",
   "mimetype": "text/x-python",
   "name": "python",
   "nbconvert_exporter": "python",
   "pygments_lexer": "ipython3",
   "version": "3.13.2"
  }
 },
 "nbformat": 4,
 "nbformat_minor": 5
}
