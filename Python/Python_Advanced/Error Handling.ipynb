{
 "cells": [
  {
   "cell_type": "markdown",
   "id": "6d952030-93f8-4a1a-aa6a-a23beb0db724",
   "metadata": {},
   "source": [
    "# Errors in Python\n",
    "\n",
    "**Errors (or exceptions)** happen all the time in programming — it's normal!\n",
    "Python shows these errors when it doesn't understand what you’re trying to do.\n",
    "\n",
    "For example:\n",
    "\n",
    "* Trying to add a number and a word → **TypeError**\n",
    "* Using a name that doesn’t exist → **NameError**\n",
    "* Asking for a list item that isn’t there → **IndexError**\n",
    "* Dividing by zero → **ZeroDivisionError**\n",
    "* Using a missing key in a dictionary → **KeyError**\n",
    "\n",
    "If we don’t **handle** these errors, our program **crashes**.\n",
    "That’s why good programmers use **error handling** — so programs can keep running, even when something goes wrong.\n"
   ]
  },
  {
   "cell_type": "markdown",
   "id": "07d7661a-cbf7-4cb4-9662-13791a1fbb11",
   "metadata": {},
   "source": [
    "# Error Handling\n",
    "\n",
    "Error handling in Python lets your program keep running if something goes wrong. You use a `try` block to run code, and if it fails, `except` catches the error and shows a message instead of crashing. You can handle different errors (like `ValueError` or `ZeroDivisionError`) with different `except` blocks.\n",
    "\n",
    "If no error happens, an `else` block runs. To keep asking until input is valid, use a loop like `while True`, and `break` when input is correct. Only one `except` runs per error.\n",
    "\n",
    "**common built-in Python error types (exceptions)** that you might want to handle using `try` and `except` blocks:\n",
    "\n",
    "---\n",
    "\n",
    "#### ✅ **Common Python Error Types**\n",
    "\n",
    "| **Error**             | **When It Happens**                                                                  |\n",
    "| --------------------- | ------------------------------------------------------------------------------------ |\n",
    "| `ValueError`          | When a function gets the right type, but an inappropriate value (e.g. `int(\"abc\")`). |\n",
    "| `TypeError`           | When an operation is applied to the wrong type (e.g. `\"2\" + 2`).                     |\n",
    "| `ZeroDivisionError`   | When dividing by zero.                                                               |\n",
    "| `IndexError`          | When a list index is out of range.                                                   |\n",
    "| `KeyError`            | When a dictionary key doesn’t exist.                                                 |\n",
    "| `AttributeError`      | When an object doesn’t have a requested attribute or method.                         |\n",
    "| `NameError`           | When a variable or function name isn’t defined.                                      |\n",
    "| `ImportError`         | When an import fails.                                                                |\n",
    "| `ModuleNotFoundError` | A specific type of ImportError — module not found.                                   |\n",
    "| `FileNotFoundError`   | When trying to open a file that doesn’t exist.                                       |\n",
    "| `IOError`             | General input/output error (e.g. file read/write issues).                            |\n",
    "| `RuntimeError`        | When something goes wrong, but it doesn’t fit other categories.                      |\n",
    "| `IndentationError`    | When indentation is incorrect.                                                       |\n",
    "| `SyntaxError`         | When Python can’t parse the code (usually a typo or missing symbol).                 |\n",
    "| `StopIteration`       | When an iterator has no more items.                                                  |\n",
    "| `MemoryError`         | When the program runs out of memory.                                                 |\n",
    "| `OverflowError`       | When a number is too large to be represented.                                        |\n",
    "| `AssertionError`      | When an `assert` statement fails.                                                    |\n",
    "| `NotImplementedError` | When a feature or method is declared but not yet written.                            |\n",
    "| `KeyboardInterrupt`   | When the user stops the program manually (Ctrl + C).                                 |\n",
    "\n",
    "---\n"
   ]
  },
  {
   "cell_type": "code",
   "execution_count": 3,
   "id": "58be37a3-9221-4b3e-b0e2-d81bb518c92f",
   "metadata": {},
   "outputs": [
    {
     "name": "stdin",
     "output_type": "stream",
     "text": [
      "What is your ages 25t\n"
     ]
    },
    {
     "ename": "ValueError",
     "evalue": "invalid literal for int() with base 10: '25t'",
     "output_type": "error",
     "traceback": [
      "\u001b[31m---------------------------------------------------------------------------\u001b[39m",
      "\u001b[31mValueError\u001b[39m                                Traceback (most recent call last)",
      "\u001b[36mCell\u001b[39m\u001b[36m \u001b[39m\u001b[32mIn[3]\u001b[39m\u001b[32m, line 1\u001b[39m\n\u001b[32m----> \u001b[39m\u001b[32m1\u001b[39m age = \u001b[38;5;28mint\u001b[39m(\u001b[38;5;28minput\u001b[39m(\u001b[33m'\u001b[39m\u001b[33mWhat is your ages\u001b[39m\u001b[33m'\u001b[39m))\n\u001b[32m      2\u001b[39m \u001b[38;5;28mprint\u001b[39m(age)\n",
      "\u001b[31mValueError\u001b[39m: invalid literal for int() with base 10: '25t'"
     ]
    }
   ],
   "source": [
    "age = int(input('What is your ages'))\n",
    "print(age)"
   ]
  },
  {
   "cell_type": "code",
   "execution_count": 4,
   "id": "3ac12dde-a72d-4a1f-b8ce-8a2828815a69",
   "metadata": {},
   "outputs": [
    {
     "name": "stdin",
     "output_type": "stream",
     "text": [
      "What is your ages 25t\n"
     ]
    },
    {
     "name": "stdout",
     "output_type": "stream",
     "text": [
      "please enter a number\n"
     ]
    }
   ],
   "source": [
    "try:\n",
    "    age = int(input('What is your ages'))\n",
    "    print(age)\n",
    "except: # this caches the error\n",
    "    print('please enter a number')"
   ]
  },
  {
   "cell_type": "code",
   "execution_count": 5,
   "id": "07d1ee17-fba1-4ec4-a1a3-6d7d659ef83d",
   "metadata": {},
   "outputs": [
    {
     "name": "stdin",
     "output_type": "stream",
     "text": [
      "What is your ages ds\n"
     ]
    },
    {
     "name": "stdout",
     "output_type": "stream",
     "text": [
      "please enter a number\n"
     ]
    },
    {
     "name": "stdin",
     "output_type": "stream",
     "text": [
      "What is your ages g\n"
     ]
    },
    {
     "name": "stdout",
     "output_type": "stream",
     "text": [
      "please enter a number\n"
     ]
    },
    {
     "name": "stdin",
     "output_type": "stream",
     "text": [
      "What is your ages 23\n"
     ]
    },
    {
     "name": "stdout",
     "output_type": "stream",
     "text": [
      "23\n",
      "thank you\n"
     ]
    }
   ],
   "source": [
    "while True:\n",
    "    try:\n",
    "        age = int(input('What is your ages'))\n",
    "        print(age)\n",
    "    except:\n",
    "        print('please enter a number \\n')\n",
    "    else:\n",
    "        print('thank you')\n",
    "        break"
   ]
  },
  {
   "cell_type": "code",
   "execution_count": 7,
   "id": "a531daf2-e059-4e6d-ac4d-0a50af997672",
   "metadata": {},
   "outputs": [
    {
     "name": "stdin",
     "output_type": "stream",
     "text": [
      "What is your ages 0\n"
     ]
    },
    {
     "name": "stdout",
     "output_type": "stream",
     "text": [
      "please enter age higher than zero\n"
     ]
    },
    {
     "name": "stdin",
     "output_type": "stream",
     "text": [
      "What is your ages 0\n"
     ]
    },
    {
     "name": "stdout",
     "output_type": "stream",
     "text": [
      "please enter age higher than zero\n"
     ]
    },
    {
     "name": "stdin",
     "output_type": "stream",
     "text": [
      "What is your ages tg\n"
     ]
    },
    {
     "name": "stdout",
     "output_type": "stream",
     "text": [
      "please enter a number \n",
      "\n"
     ]
    },
    {
     "name": "stdin",
     "output_type": "stream",
     "text": [
      "What is your ages 7\n"
     ]
    },
    {
     "name": "stdout",
     "output_type": "stream",
     "text": [
      "thank you\n"
     ]
    }
   ],
   "source": [
    "while True:\n",
    "    try:\n",
    "        age = int(input('What is your ages'))\n",
    "        10/age\n",
    "    except ValueError:\n",
    "        print('please enter a number\\n')\n",
    "    except ZeroDivisionError:\n",
    "        print('please enter age higher than zero\\n')\n",
    "    else:\n",
    "        print('thank you')\n",
    "        break"
   ]
  },
  {
   "cell_type": "code",
   "execution_count": 9,
   "id": "9b21b1c6-fb1f-4ca3-a6fd-942e6e7611ae",
   "metadata": {},
   "outputs": [
    {
     "name": "stdin",
     "output_type": "stream",
     "text": [
      "What is your age dfthfd\n"
     ]
    },
    {
     "name": "stdout",
     "output_type": "stream",
     "text": [
      "please enter a number\n",
      "\n"
     ]
    },
    {
     "name": "stdin",
     "output_type": "stream",
     "text": [
      "What is your age 7\n"
     ]
    },
    {
     "name": "stdout",
     "output_type": "stream",
     "text": [
      "thank you\n"
     ]
    }
   ],
   "source": [
    "while True:\n",
    "    try:\n",
    "        age = int(input('What is your age'))\n",
    "        10/age\n",
    "    except ValueError:\n",
    "        print('please enter a number\\n')\n",
    "    except ValueError: # except only runs onece this wont run because of the first value error:\n",
    "        print('please enter a number\\n')\n",
    "        print('!!!!\\n')\n",
    "    except ZeroDivisionError:\n",
    "        print('please enter age higher than zero\\n')\n",
    "    else:\n",
    "        print('thank you')\n",
    "        break"
   ]
  },
  {
   "cell_type": "markdown",
   "id": "19700edf-1730-4f77-a0e8-89382f55b30e",
   "metadata": {},
   "source": [
    "# Error Handling 2"
   ]
  },
  {
   "cell_type": "code",
   "execution_count": 15,
   "id": "84f7ac07-a8f4-44bc-bc01-5067468bd204",
   "metadata": {},
   "outputs": [
    {
     "name": "stdout",
     "output_type": "stream",
     "text": [
      "please enter number\n"
     ]
    }
   ],
   "source": [
    "def sum(num1, num2):\n",
    "    try:\n",
    "        return num1+num2\n",
    "    except TypeError:\n",
    "        return 'please enter number'\n",
    "\n",
    "print(sum('7',8))"
   ]
  },
  {
   "cell_type": "code",
   "execution_count": 19,
   "id": "160dfe09-142b-45c0-9980-2dcd87a47ce1",
   "metadata": {},
   "outputs": [
    {
     "name": "stdout",
     "output_type": "stream",
     "text": [
      "please enter number can only concatenate str (not \"int\") to str\n",
      "None\n"
     ]
    }
   ],
   "source": [
    "def sum(num1, num2):\n",
    "    try:\n",
    "        return num1+num2\n",
    "    except TypeError as err:\n",
    "        print(f'please enter number {err}')\n",
    "\n",
    "print(sum('7',8))"
   ]
  },
  {
   "cell_type": "code",
   "execution_count": 22,
   "id": "886e1de2-0595-4a49-9bd0-e3cb4b06dff7",
   "metadata": {},
   "outputs": [
    {
     "name": "stdout",
     "output_type": "stream",
     "text": [
      "oops\n"
     ]
    }
   ],
   "source": [
    "def sum(num1, num2):\n",
    "    try:\n",
    "        return num1/num2\n",
    "    except (TypeError, ZeroDivisionError):\n",
    "        return 'oops'\n",
    "\n",
    "print(sum('7',8))"
   ]
  },
  {
   "cell_type": "code",
   "execution_count": 26,
   "id": "067096b9-c4d6-42bb-8ecf-fc34ae43fe0d",
   "metadata": {},
   "outputs": [
    {
     "name": "stdout",
     "output_type": "stream",
     "text": [
      "oops division by zero\n"
     ]
    }
   ],
   "source": [
    "def sum(num1, num2):\n",
    "    try:\n",
    "        return num1/num2\n",
    "    except (TypeError, ZeroDivisionError) as err: \n",
    "        return f'oops {err}'\n",
    "\n",
    "print(sum(7,0))"
   ]
  },
  {
   "cell_type": "markdown",
   "id": "af65f24e-4060-49b7-bf2a-f36a01d8cee2",
   "metadata": {},
   "source": [
    "# Exercises: Error Handling"
   ]
  },
  {
   "cell_type": "code",
   "execution_count": 28,
   "id": "dca83367-bb25-4599-a1d7-9b8e39c22511",
   "metadata": {},
   "outputs": [
    {
     "name": "stdin",
     "output_type": "stream",
     "text": [
      "what is you age? 0\n"
     ]
    },
    {
     "name": "stdout",
     "output_type": "stream",
     "text": [
      "please enter age higher than 0\n",
      "ok, i am finally done\n"
     ]
    }
   ],
   "source": [
    "while True:\n",
    "    try:\n",
    "        age = int(input('what is you age?'))\n",
    "        10/age\n",
    "    except ValueError:\n",
    "        print('please enter a number')\n",
    "        continue\n",
    "    except ZeroDivisionError:\n",
    "        print('please enter age higher than 0')\n",
    "        break\n",
    "    else:\n",
    "        print('thank you!')\n",
    "        break\n",
    "    finally: # this will appere always\n",
    "        print('ok, i am finally done')\n",
    "    print('can you hear me?')    "
   ]
  },
  {
   "cell_type": "markdown",
   "id": "fa08b70c-07a7-4088-8b3f-9e924f9c27b1",
   "metadata": {},
   "source": [
    "# Error Handling 3\n",
    "\n",
    "In simple terms:\n",
    "\n",
    "Errors will always happen in programming.\n",
    "Your job is to **catch** them and **handle** them properly.\n",
    "\n",
    "If an error is too serious, you can **raise** it yourself to stop the program.\n",
    "This is useful when you want to **warn the user** and stop bad behavior.\n",
    "\n",
    "Good programs don’t avoid all errors — they **expect** and **manage** them gracefully.\n"
   ]
  },
  {
   "cell_type": "code",
   "execution_count": 31,
   "id": "6463ad77-8d92-4083-b072-de5589790493",
   "metadata": {},
   "outputs": [
    {
     "name": "stdin",
     "output_type": "stream",
     "text": [
      "what is you age? 9\n"
     ]
    },
    {
     "name": "stdout",
     "output_type": "stream",
     "text": [
      "ok, i am finally done\n"
     ]
    },
    {
     "ename": "ValueError",
     "evalue": "hey cut it out",
     "output_type": "error",
     "traceback": [
      "\u001b[31m---------------------------------------------------------------------------\u001b[39m",
      "\u001b[31mValueError\u001b[39m                                Traceback (most recent call last)",
      "\u001b[36mCell\u001b[39m\u001b[36m \u001b[39m\u001b[32mIn[31]\u001b[39m\u001b[32m, line 5\u001b[39m\n\u001b[32m      3\u001b[39m     age = \u001b[38;5;28mint\u001b[39m(\u001b[38;5;28minput\u001b[39m(\u001b[33m'\u001b[39m\u001b[33mwhat is you age?\u001b[39m\u001b[33m'\u001b[39m))\n\u001b[32m      4\u001b[39m     \u001b[32m10\u001b[39m/age\n\u001b[32m----> \u001b[39m\u001b[32m5\u001b[39m     \u001b[38;5;28;01mraise\u001b[39;00m \u001b[38;5;167;01mValueError\u001b[39;00m(\u001b[33m\"\u001b[39m\u001b[33mhey cut it out\u001b[39m\u001b[33m\"\u001b[39m)\n\u001b[32m      6\u001b[39m \u001b[38;5;28;01mexcept\u001b[39;00m \u001b[38;5;167;01mZeroDivisionError\u001b[39;00m:\n\u001b[32m      7\u001b[39m     \u001b[38;5;28mprint\u001b[39m(\u001b[33m'\u001b[39m\u001b[33mplease enter age higher than 0\u001b[39m\u001b[33m'\u001b[39m)\n",
      "\u001b[31mValueError\u001b[39m: hey cut it out"
     ]
    }
   ],
   "source": [
    "while True:\n",
    "    try:\n",
    "        age = int(input('what is you age?'))\n",
    "        10/age\n",
    "        raise ValueError(\"hey cut it out\")\n",
    "    except ZeroDivisionError:\n",
    "        print('please enter age higher than 0')\n",
    "        break\n",
    "    else:\n",
    "        print('thank you!')\n",
    "        break\n",
    "    finally: # this will appere always\n",
    "        print('ok, i am finally done')\n",
    "    print('can you hear me?') "
   ]
  },
  {
   "cell_type": "code",
   "execution_count": 32,
   "id": "1f3cff5f-b4d6-4297-a240-c864e401897c",
   "metadata": {},
   "outputs": [
    {
     "name": "stdin",
     "output_type": "stream",
     "text": [
      "what is you age? 3\n"
     ]
    },
    {
     "name": "stdout",
     "output_type": "stream",
     "text": [
      "ok, i am finally done\n"
     ]
    },
    {
     "ename": "Exception",
     "evalue": "hey cut it out",
     "output_type": "error",
     "traceback": [
      "\u001b[31m---------------------------------------------------------------------------\u001b[39m",
      "\u001b[31mException\u001b[39m                                 Traceback (most recent call last)",
      "\u001b[36mCell\u001b[39m\u001b[36m \u001b[39m\u001b[32mIn[32]\u001b[39m\u001b[32m, line 5\u001b[39m\n\u001b[32m      3\u001b[39m     age = \u001b[38;5;28mint\u001b[39m(\u001b[38;5;28minput\u001b[39m(\u001b[33m'\u001b[39m\u001b[33mwhat is you age?\u001b[39m\u001b[33m'\u001b[39m))\n\u001b[32m      4\u001b[39m     \u001b[32m10\u001b[39m/age\n\u001b[32m----> \u001b[39m\u001b[32m5\u001b[39m     \u001b[38;5;28;01mraise\u001b[39;00m \u001b[38;5;167;01mException\u001b[39;00m(\u001b[33m\"\u001b[39m\u001b[33mhey cut it out\u001b[39m\u001b[33m\"\u001b[39m)\n\u001b[32m      6\u001b[39m \u001b[38;5;28;01mexcept\u001b[39;00m \u001b[38;5;167;01mZeroDivisionError\u001b[39;00m:\n\u001b[32m      7\u001b[39m     \u001b[38;5;28mprint\u001b[39m(\u001b[33m'\u001b[39m\u001b[33mplease enter age higher than 0\u001b[39m\u001b[33m'\u001b[39m)\n",
      "\u001b[31mException\u001b[39m: hey cut it out"
     ]
    }
   ],
   "source": [
    "while True:\n",
    "    try:\n",
    "        age = int(input('what is you age?'))\n",
    "        10/age\n",
    "        raise Exception(\"hey cut it out\")\n",
    "    except ZeroDivisionError:\n",
    "        print('please enter age higher than 0')\n",
    "        break\n",
    "    else:\n",
    "        print('thank you!')\n",
    "        break\n",
    "    finally: # this will appere always\n",
    "        print('ok, i am finally done')\n",
    "    print('can you hear me?') "
   ]
  },
  {
   "cell_type": "code",
   "execution_count": null,
   "id": "e91384c6-c7c4-48ea-9f89-f5143c945480",
   "metadata": {},
   "outputs": [],
   "source": []
  }
 ],
 "metadata": {
  "kernelspec": {
   "display_name": "Python 3 (ipykernel)",
   "language": "python",
   "name": "python3"
  },
  "language_info": {
   "codemirror_mode": {
    "name": "ipython",
    "version": 3
   },
   "file_extension": ".py",
   "mimetype": "text/x-python",
   "name": "python",
   "nbconvert_exporter": "python",
   "pygments_lexer": "ipython3",
   "version": "3.13.2"
  }
 },
 "nbformat": 4,
 "nbformat_minor": 5
}
