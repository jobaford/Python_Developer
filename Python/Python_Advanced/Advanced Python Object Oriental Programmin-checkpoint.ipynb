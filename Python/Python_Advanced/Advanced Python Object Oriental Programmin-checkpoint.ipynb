{
 "cells": [
  {
   "cell_type": "markdown",
   "id": "ed4974d4-bc7f-499e-9b50-d139a547beda",
   "metadata": {},
   "source": [
    "# OOP"
   ]
  },
  {
   "cell_type": "markdown",
   "id": "25abdb30-d9b4-4ff7-99c8-e609538f40a6",
   "metadata": {},
   "source": [
    "In Python, everything is an object.\n",
    "Objects have data (attributes) and actions (methods).\n",
    "\n",
    "Object-Oriented Programming (OOP) lets us create our own objects and organize complex code into smaller, reusable parts.\n",
    "\n",
    "For example, if we code a delivery drone, we can create objects for propellers, camera, or signal system. This makes the code easier to manage, reuse, and extend—like swapping the propellers for wheels in a delivery robot.\n",
    "\n",
    "OOP helps teams work together and keep big projects organized.\n",
    "\n",
    "We'll learn more about how to do this using the `class` keyword in the next videos.\n"
   ]
  },
  {
   "cell_type": "markdown",
   "id": "50b5e15a-ff89-4f6c-9a97-d72d0c3ca365",
   "metadata": {},
   "source": [
    "# OOP Part 2"
   ]
  },
  {
   "cell_type": "markdown",
   "id": "154d8519-930b-4d35-8dcf-022fc5bf05f6",
   "metadata": {},
   "source": [
    "OOP is a way to structure code by thinking in terms of real-world objects.\n",
    "We create **classes**, like blueprints, that describe things and what they can do.\n",
    "From these blueprints, we make **objects**, which are usable versions of those things.\n",
    "This helps us organize code better and reuse it without rewriting everything."
   ]
  },
  {
   "cell_type": "code",
   "execution_count": 1,
   "id": "e8c18d27-3201-45f1-b4ae-9ea57d1658e9",
   "metadata": {},
   "outputs": [
    {
     "name": "stdout",
     "output_type": "stream",
     "text": [
      "<class '__main__.BigObject'>\n"
     ]
    }
   ],
   "source": [
    "class BigObject: # Class\n",
    "    pass\n",
    "\n",
    "obj1 = BigObject() # Instanciete\n",
    "\n",
    "print(type(obj1)) # obj1 is the object created"
   ]
  },
  {
   "cell_type": "markdown",
   "id": "564e1dbc-6d65-4ba7-9fc2-d6468ff340db",
   "metadata": {},
   "source": [
    "# Creating our own object"
   ]
  },
  {
   "cell_type": "markdown",
   "id": "25b01e21-4a47-41ea-bb27-9477361f0e06",
   "metadata": {},
   "source": [
    "**What is `self`?**\n",
    "It refers to the current object created from the class.\n",
    "It lets the object keep its own data and actions.\n",
    "\n",
    "When you write `self.name = name`:\n",
    "You tell the object to store the `name` value as its own.\n",
    "\n",
    "When you use `self.run()`:\n",
    "You tell the object to use its own `run` method.\n",
    "\n",
    "* A **class** is a blueprint to create many objects.\n",
    "* The **`__init__` method** is a special method inside the class that runs automatically when we create an object; it’s used to set up the object's starting data (like name or age).\n",
    "* The **`self` keyword** inside the class refers to the specific object being created or used, allowing each object to store its own unique data.\n",
    "* By using classes, `__init__`, and `self`, we can create multiple different objects with their own data and actions, using the same class code.\n",
    "* Objects created from the same class live separately in memory, so they don’t affect each other.\n",
    "* Objects created from the same class live in different places in memory, making each one separate and independent with its own unique data.\n",
    "\n",
    "\n"
   ]
  },
  {
   "cell_type": "code",
   "execution_count": 2,
   "id": "a08a577a-d5d9-493b-871c-7a13e8e1b56b",
   "metadata": {},
   "outputs": [
    {
     "name": "stdout",
     "output_type": "stream",
     "text": [
      "<__main__.PlayerCharacter object at 0x000002060CBB3E00>\n",
      "run\n",
      "21\n",
      "50\n"
     ]
    }
   ],
   "source": [
    "class PlayerCharacter:\n",
    "    def __init__(self, name, age): # constructor\n",
    "        self.name = name # Attributes\n",
    "        self.age = age\n",
    "\n",
    "    def run(self):\n",
    "        return'run'\n",
    "\n",
    "player1 = PlayerCharacter('Cindy', 44)\n",
    "player2 = PlayerCharacter('Tom', 21)\n",
    "player2.attack = 50\n",
    "\n",
    "print(player1)\n",
    "print(player1.run())\n",
    "print(player2.age)\n",
    "print(player2.attack)"
   ]
  },
  {
   "cell_type": "markdown",
   "id": "b81f0ec0-cb55-48ab-9671-f9a4d05d635a",
   "metadata": {},
   "source": [
    "# Attributes and Methods"
   ]
  },
  {
   "cell_type": "markdown",
   "id": "7c735b87-ea48-47d2-a60a-da3a978b3441",
   "metadata": {},
   "source": [
    "### Instance Attribute:\n",
    "\n",
    "* Belongs to each object separately\n",
    "* Can have different values for each object\n",
    "* Created using `self` inside the constructor (`__init__`)\n",
    "\n",
    "---\n",
    "\n",
    "### Class Attribute:\n",
    "\n",
    "* Belongs to the class itself\n",
    "* Shared by all objects\n",
    "* Defined outside the constructor, without using `self`\n",
    "\n",
    "---\n",
    "\n",
    "### Key Point:\n",
    "\n",
    "Use `self` for **object-specific data**.\n",
    "Don’t use `self` for **shared class-level data**.\n",
    "\n",
    "---\n",
    "\n",
    "* **Class attributes** are shared by all objects of the class.\n",
    "* Inside class methods, you **can’t use just the attribute name alone** because it’s not a local variable.\n",
    "* You **must** use either:\n",
    "\n",
    "  * The **class name** plus attribute (e.g., ClassName.attribute), or\n",
    "  * `self.attribute` to access it via the instance.\n",
    "\n",
    "* Outside the class, always use the **class name** to access class attributes.\n",
    "\n",
    "---"
   ]
  },
  {
   "cell_type": "code",
   "execution_count": 3,
   "id": "8e2f6351-7705-4325-a3b9-b9483d9e6638",
   "metadata": {},
   "outputs": [
    {
     "name": "stdout",
     "output_type": "stream",
     "text": [
      "Help on PlayerCharacter in module __main__ object:\n",
      "\n",
      "class PlayerCharacter(builtins.object)\n",
      " |  PlayerCharacter(name, age)\n",
      " |\n",
      " |  Methods defined here:\n",
      " |\n",
      " |  __init__(self, name, age)\n",
      " |      Initialize self.  See help(type(self)) for accurate signature.\n",
      " |\n",
      " |  run(self)\n",
      " |\n",
      " |  ----------------------------------------------------------------------\n",
      " |  Data descriptors defined here:\n",
      " |\n",
      " |  __dict__\n",
      " |      dictionary for instance variables\n",
      " |\n",
      " |  __weakref__\n",
      " |      list of weak references to the object\n",
      "\n"
     ]
    }
   ],
   "source": [
    "help(player1)"
   ]
  },
  {
   "cell_type": "code",
   "execution_count": 4,
   "id": "037410b8-24f0-4692-9b3c-341280517626",
   "metadata": {},
   "outputs": [
    {
     "name": "stdout",
     "output_type": "stream",
     "text": [
      "Help on class list in module builtins:\n",
      "\n",
      "class list(object)\n",
      " |  list(iterable=(), /)\n",
      " |\n",
      " |  Built-in mutable sequence.\n",
      " |\n",
      " |  If no argument is given, the constructor creates a new empty list.\n",
      " |  The argument must be an iterable if specified.\n",
      " |\n",
      " |  Methods defined here:\n",
      " |\n",
      " |  __add__(self, value, /)\n",
      " |      Return self+value.\n",
      " |\n",
      " |  __contains__(self, key, /)\n",
      " |      Return bool(key in self).\n",
      " |\n",
      " |  __delitem__(self, key, /)\n",
      " |      Delete self[key].\n",
      " |\n",
      " |  __eq__(self, value, /)\n",
      " |      Return self==value.\n",
      " |\n",
      " |  __ge__(self, value, /)\n",
      " |      Return self>=value.\n",
      " |\n",
      " |  __getattribute__(self, name, /)\n",
      " |      Return getattr(self, name).\n",
      " |\n",
      " |  __getitem__(self, index, /)\n",
      " |      Return self[index].\n",
      " |\n",
      " |  __gt__(self, value, /)\n",
      " |      Return self>value.\n",
      " |\n",
      " |  __iadd__(self, value, /)\n",
      " |      Implement self+=value.\n",
      " |\n",
      " |  __imul__(self, value, /)\n",
      " |      Implement self*=value.\n",
      " |\n",
      " |  __init__(self, /, *args, **kwargs)\n",
      " |      Initialize self.  See help(type(self)) for accurate signature.\n",
      " |\n",
      " |  __iter__(self, /)\n",
      " |      Implement iter(self).\n",
      " |\n",
      " |  __le__(self, value, /)\n",
      " |      Return self<=value.\n",
      " |\n",
      " |  __len__(self, /)\n",
      " |      Return len(self).\n",
      " |\n",
      " |  __lt__(self, value, /)\n",
      " |      Return self<value.\n",
      " |\n",
      " |  __mul__(self, value, /)\n",
      " |      Return self*value.\n",
      " |\n",
      " |  __ne__(self, value, /)\n",
      " |      Return self!=value.\n",
      " |\n",
      " |  __repr__(self, /)\n",
      " |      Return repr(self).\n",
      " |\n",
      " |  __reversed__(self, /)\n",
      " |      Return a reverse iterator over the list.\n",
      " |\n",
      " |  __rmul__(self, value, /)\n",
      " |      Return value*self.\n",
      " |\n",
      " |  __setitem__(self, key, value, /)\n",
      " |      Set self[key] to value.\n",
      " |\n",
      " |  __sizeof__(self, /)\n",
      " |      Return the size of the list in memory, in bytes.\n",
      " |\n",
      " |  append(self, object, /)\n",
      " |      Append object to the end of the list.\n",
      " |\n",
      " |  clear(self, /)\n",
      " |      Remove all items from list.\n",
      " |\n",
      " |  copy(self, /)\n",
      " |      Return a shallow copy of the list.\n",
      " |\n",
      " |  count(self, value, /)\n",
      " |      Return number of occurrences of value.\n",
      " |\n",
      " |  extend(self, iterable, /)\n",
      " |      Extend list by appending elements from the iterable.\n",
      " |\n",
      " |  index(self, value, start=0, stop=9223372036854775807, /)\n",
      " |      Return first index of value.\n",
      " |\n",
      " |      Raises ValueError if the value is not present.\n",
      " |\n",
      " |  insert(self, index, object, /)\n",
      " |      Insert object before index.\n",
      " |\n",
      " |  pop(self, index=-1, /)\n",
      " |      Remove and return item at index (default last).\n",
      " |\n",
      " |      Raises IndexError if list is empty or index is out of range.\n",
      " |\n",
      " |  remove(self, value, /)\n",
      " |      Remove first occurrence of value.\n",
      " |\n",
      " |      Raises ValueError if the value is not present.\n",
      " |\n",
      " |  reverse(self, /)\n",
      " |      Reverse *IN PLACE*.\n",
      " |\n",
      " |  sort(self, /, *, key=None, reverse=False)\n",
      " |      Sort the list in ascending order and return None.\n",
      " |\n",
      " |      The sort is in-place (i.e. the list itself is modified) and stable (i.e. the\n",
      " |      order of two equal elements is maintained).\n",
      " |\n",
      " |      If a key function is given, apply it once to each list item and sort them,\n",
      " |      ascending or descending, according to their function values.\n",
      " |\n",
      " |      The reverse flag can be set to sort in descending order.\n",
      " |\n",
      " |  ----------------------------------------------------------------------\n",
      " |  Class methods defined here:\n",
      " |\n",
      " |  __class_getitem__(object, /)\n",
      " |      See PEP 585\n",
      " |\n",
      " |  ----------------------------------------------------------------------\n",
      " |  Static methods defined here:\n",
      " |\n",
      " |  __new__(*args, **kwargs)\n",
      " |      Create and return a new object.  See help(type) for accurate signature.\n",
      " |\n",
      " |  ----------------------------------------------------------------------\n",
      " |  Data and other attributes defined here:\n",
      " |\n",
      " |  __hash__ = None\n",
      "\n"
     ]
    }
   ],
   "source": [
    "help(list)"
   ]
  },
  {
   "cell_type": "code",
   "execution_count": 5,
   "id": "47086952-341b-4f6c-92cd-6d185ad51f4f",
   "metadata": {},
   "outputs": [
    {
     "name": "stdout",
     "output_type": "stream",
     "text": [
      "True\n"
     ]
    },
    {
     "ename": "NameError",
     "evalue": "name 'name' is not defined",
     "output_type": "error",
     "traceback": [
      "\u001b[31m---------------------------------------------------------------------------\u001b[39m",
      "\u001b[31mNameError\u001b[39m                                 Traceback (most recent call last)",
      "\u001b[36mCell\u001b[39m\u001b[36m \u001b[39m\u001b[32mIn[5]\u001b[39m\u001b[32m, line 20\u001b[39m\n\u001b[32m     17\u001b[39m player2 = PlayerCharacter(\u001b[33m'\u001b[39m\u001b[33mTom\u001b[39m\u001b[33m'\u001b[39m, \u001b[32m21\u001b[39m)\n\u001b[32m     19\u001b[39m \u001b[38;5;28mprint\u001b[39m(player2.membership)\n\u001b[32m---> \u001b[39m\u001b[32m20\u001b[39m \u001b[38;5;28mprint\u001b[39m(player1.shout())\n\u001b[32m     21\u001b[39m \u001b[38;5;28mprint\u001b[39m(player2.shout())\n",
      "\u001b[36mCell\u001b[39m\u001b[36m \u001b[39m\u001b[32mIn[5]\u001b[39m\u001b[32m, line 14\u001b[39m, in \u001b[36mPlayerCharacter.shout\u001b[39m\u001b[34m(self)\u001b[39m\n\u001b[32m     13\u001b[39m \u001b[38;5;28;01mdef\u001b[39;00m\u001b[38;5;250m \u001b[39m\u001b[34mshout\u001b[39m(\u001b[38;5;28mself\u001b[39m):\n\u001b[32m---> \u001b[39m\u001b[32m14\u001b[39m     \u001b[38;5;28mprint\u001b[39m(\u001b[33mf\u001b[39m\u001b[33m'\u001b[39m\u001b[33mmy name is \u001b[39m\u001b[38;5;132;01m{\u001b[39;00mname\u001b[38;5;132;01m}\u001b[39;00m\u001b[33m'\u001b[39m)\n",
      "\u001b[31mNameError\u001b[39m: name 'name' is not defined"
     ]
    }
   ],
   "source": [
    "class PlayerCharacter:\n",
    "    # Class Object Attribute\n",
    "    membership = True\n",
    "    def __init__(self, name, age): # constructor\n",
    "        if PlayerCharacter.membership: # this belongs to the class PlayerCharacter.membership\n",
    "            self.name = name # Attributes\n",
    "            self.age = age\n",
    "\n",
    "    def run(self):\n",
    "        print('run')\n",
    "        return 'done'\n",
    "\n",
    "    def shout(self):\n",
    "        print(f'my name is {name}') # trying to access name without self\n",
    "\n",
    "player1 = PlayerCharacter('Cindy', 44)\n",
    "player2 = PlayerCharacter('Tom', 21)\n",
    "\n",
    "print(player2.membership)\n",
    "print(player1.shout())\n",
    "print(player2.shout())"
   ]
  },
  {
   "cell_type": "code",
   "execution_count": 6,
   "id": "55cecb57-9e0e-488b-9295-da4f6c651ef1",
   "metadata": {},
   "outputs": [
    {
     "name": "stdout",
     "output_type": "stream",
     "text": [
      "True\n",
      "my name is Cindy\n",
      "None\n",
      "my name is Tom\n",
      "None\n"
     ]
    }
   ],
   "source": [
    "class PlayerCharacter:\n",
    "    # Class Object Attribute\n",
    "    membership = True\n",
    "    def __init__(self, name, age): # constructor\n",
    "        if PlayerCharacter.membership: # this belongs to the class PlayerCharacter.membership\n",
    "            self.name = name # Attributes\n",
    "            self.age = age\n",
    "\n",
    "    def run(self):\n",
    "        print('run')\n",
    "        return 'done'\n",
    "\n",
    "    def shout(self):\n",
    "        print(f'my name is {self.name}')\n",
    "\n",
    "player1 = PlayerCharacter('Cindy', 44)\n",
    "player2 = PlayerCharacter('Tom', 21)\n",
    "\n",
    "print(player2.membership)\n",
    "print(player1.shout())\n",
    "print(player2.shout())"
   ]
  },
  {
   "cell_type": "markdown",
   "id": "e53db503-de42-417e-b510-05b85cbebdc8",
   "metadata": {},
   "source": [
    "# \\__init\\__"
   ]
  },
  {
   "cell_type": "markdown",
   "id": "91f3e264-daef-4ec2-b3de-c2a832f42a22",
   "metadata": {},
   "source": [
    "### Constructor (`__init__`):\n",
    "\n",
    "* The constructor runs **every time** you create (instantiate) a new object.\n",
    "* It lets you **customize** how the object is created.\n",
    "\n",
    "---\n",
    "\n",
    "### Why it's powerful:\n",
    "\n",
    "* You can **add rules** inside the constructor, like:\n",
    "\n",
    "  * Only allow users over 18.\n",
    "  * Set **default values** (like name = \"Anonymous\", age = 0).\n",
    "  * Prevent object creation if something is missing or incorrect.\n",
    "\n",
    "---\n",
    "\n",
    "### What can go wrong:\n",
    "\n",
    "* If you skip required info (like name or age), the object might not be created properly.\n",
    "* You can add checks to **stop or warn** the user if something's wrong (like age too low).\n",
    "\n",
    "---\n",
    "\n",
    "### Bottom line:\n",
    "\n",
    "The constructor gives you **control** to make sure your objects are created **correctly and safely**.\n",
    "\n",
    "---"
   ]
  },
  {
   "cell_type": "markdown",
   "id": "60fdd446-dded-4f4d-91ad-63282e5f18a3",
   "metadata": {},
   "source": [
    "# @classmethod and @staticmethod"
   ]
  },
  {
   "cell_type": "markdown",
   "id": "8bc0b231-c3f2-4482-93ec-a1599855f041",
   "metadata": {},
   "source": [
    "### `@classmethod`\n",
    "\n",
    "* Belongs to the **class**, not the object.\n",
    "* Uses `cls` to access or change **class-level data** or create objects.\n",
    "* Good for **creating objects** in special ways or working with **class attributes**.\n",
    "\n",
    "Big idea:\n",
    "**\"I need to work with the class itself.\"**\n",
    "\n",
    "---\n",
    "\n",
    "### `@staticmethod`\n",
    "\n",
    "* Belongs to the **class**, but doesn’t use `self` or `cls`.\n",
    "* Like a regular function placed inside a class for better organization.\n",
    "\n",
    "Big idea:\n",
    "**\"I don’t need anything from the class or object, I just live here.\"**\n",
    "\n",
    "---\n",
    "\n",
    "### What is `cls()`?\n",
    "\n",
    "* `cls()` is used inside a **class method** to create a **new object**.\n",
    "* It calls the class's **constructor** (`__init__`) behind the scenes.\n",
    "* It works like: “Make a new thing using this class.”\n",
    "\n",
    "---\n",
    "\n",
    "### Why use it?\n",
    "\n",
    "* It lets you build new objects **from inside the class**.\n",
    "* You can do extra work (like calculations or checks) before creating the object.\n",
    "* It’s better than hardcoding the class name — more flexible.\n",
    "\n",
    "---\n",
    "\n",
    "### Big idea:\n",
    "\n",
    "**`cls()` means: “Use this class to create something new.”**\n",
    "It gives you control over **how** and **when** objects are made.\n"
   ]
  },
  {
   "cell_type": "code",
   "execution_count": 7,
   "id": "b8ca2169-c203-4c3c-912c-e030add7d705",
   "metadata": {},
   "outputs": [
    {
     "ename": "TypeError",
     "evalue": "PlayerCharacter.adding_things() takes 2 positional arguments but 3 were given",
     "output_type": "error",
     "traceback": [
      "\u001b[31m---------------------------------------------------------------------------\u001b[39m",
      "\u001b[31mTypeError\u001b[39m                                 Traceback (most recent call last)",
      "\u001b[36mCell\u001b[39m\u001b[36m \u001b[39m\u001b[32mIn[7]\u001b[39m\u001b[32m, line 22\u001b[39m\n\u001b[32m     18\u001b[39m         \u001b[38;5;28;01mreturn\u001b[39;00m num1 + num2\n\u001b[32m     20\u001b[39m player1 = PlayerCharacter(\u001b[33m'\u001b[39m\u001b[33mTom\u001b[39m\u001b[33m'\u001b[39m, \u001b[32m21\u001b[39m)\n\u001b[32m---> \u001b[39m\u001b[32m22\u001b[39m \u001b[38;5;28mprint\u001b[39m(player1.adding_things(\u001b[32m2\u001b[39m,\u001b[32m3\u001b[39m))\n",
      "\u001b[31mTypeError\u001b[39m: PlayerCharacter.adding_things() takes 2 positional arguments but 3 were given"
     ]
    }
   ],
   "source": [
    "class PlayerCharacter:\n",
    "    # Class Object Attribute\n",
    "    membership = True\n",
    "    def __init__(self, name, age): # constructor\n",
    "        if PlayerCharacter.membership: # this belongs to the class PlayerCharacter.membership\n",
    "            self.name = name # Attributes\n",
    "            self.age = age\n",
    "\n",
    "    def run(self):\n",
    "        print('run')\n",
    "        return 'done'\n",
    "\n",
    "    def shout(self):\n",
    "        print(f'my name is {self.name}')\n",
    "\n",
    "    @classmethod\n",
    "    def adding_things(num1,num2): # expecting cls this is like self\n",
    "        return num1 + num2\n",
    "\n",
    "player1 = PlayerCharacter('Tom', 21)\n",
    "\n",
    "print(player1.adding_things(2,3))"
   ]
  },
  {
   "cell_type": "code",
   "execution_count": 8,
   "id": "b8799859-534c-4b1a-ac1e-be1d63b3814c",
   "metadata": {},
   "outputs": [
    {
     "name": "stdout",
     "output_type": "stream",
     "text": [
      "5\n"
     ]
    }
   ],
   "source": [
    "class PlayerCharacter:\n",
    "    # Class Object Attribute\n",
    "    membership = True\n",
    "    def __init__(self, name, age): # constructor\n",
    "        if PlayerCharacter.membership: # this belongs to the class PlayerCharacter.membership\n",
    "            self.name = name # Attributes\n",
    "            self.age = age\n",
    "\n",
    "    def run(self):\n",
    "        print('run')\n",
    "        return 'done'\n",
    "\n",
    "    def shout(self):\n",
    "        print(f'my name is {self.name}')\n",
    "\n",
    "    @classmethod\n",
    "    def adding_things(cls,num1,num2):\n",
    "        return num1 + num2\n",
    "\n",
    "player1 = PlayerCharacter('Tom', 21)\n",
    "\n",
    "print(player1.adding_things(2,3))"
   ]
  },
  {
   "cell_type": "code",
   "execution_count": 9,
   "id": "89275666-fe7c-4bfe-9437-d8eeaaad5c3a",
   "metadata": {},
   "outputs": [
    {
     "name": "stdout",
     "output_type": "stream",
     "text": [
      "5\n"
     ]
    }
   ],
   "source": [
    "class PlayerCharacter:\n",
    "    # Class Object Attribute\n",
    "    membership = True\n",
    "    def __init__(self, name, age): # constructor\n",
    "        if PlayerCharacter.membership: # this belongs to the class PlayerCharacter.membership\n",
    "            self.name = name # Attributes\n",
    "            self.age = age\n",
    "\n",
    "    def run(self):\n",
    "        print('run')\n",
    "        return 'done'\n",
    "\n",
    "    def shout(self):\n",
    "        print(f'my name is {self.name}')\n",
    "\n",
    "    @classmethod\n",
    "    def adding_things(cls,num1,num2):\n",
    "        return num1 + num2\n",
    "\n",
    "# player1 = PlayerCharacter('Tom', 21) withoud an object\n",
    "\n",
    "print(PlayerCharacter.adding_things(2,3))"
   ]
  },
  {
   "cell_type": "markdown",
   "id": "998edb63-f118-4915-87cc-0e47b21352e2",
   "metadata": {},
   "source": [
    "# Fundamental Part V"
   ]
  },
  {
   "cell_type": "code",
   "execution_count": 10,
   "id": "a2cda8ed-0ebd-4cad-8b62-28a6953b7f73",
   "metadata": {},
   "outputs": [
    {
     "name": "stdout",
     "output_type": "stream",
     "text": [
      "<__main__.PlayerCharacter object at 0x000002060CF31550>\n"
     ]
    }
   ],
   "source": [
    "class PlayerCharacter:\n",
    "\n",
    "    membership = True\n",
    "    def __init__(self, name, age):\n",
    "        self.name = name \n",
    "        self.age = age\n",
    "\n",
    "    def run(self):\n",
    "        return self\n",
    "\n",
    "player1 = PlayerCharacter('Tom',55)\n",
    "\n",
    "print(player1.run())"
   ]
  },
  {
   "cell_type": "markdown",
   "id": "5c226f59-41a2-41e6-855b-0d60ea1435dc",
   "metadata": {},
   "source": [
    "# 4 Pillars of OOP"
   ]
  },
  {
   "cell_type": "markdown",
   "id": "098fd191-42ab-4534-ad3d-31145b45f4f8",
   "metadata": {},
   "source": [
    "## **Encapsulation**\n",
    "#### **Encapsulation (1st Pillar of Object-Oriented Programming)**\n",
    "\n",
    "* **Encapsulation** means **bundling data (attributes)** and **functions (methods)** that work on that data **into a single unit** — a class.\n",
    "\n",
    "* Think of it like a **toolbox**:\n",
    "  Everything needed to **describe and use** an object (like a player or a tree) is **inside one box**.\n",
    "\n",
    "---\n",
    "\n",
    "#### Why it matters:\n",
    "\n",
    "* It helps **organize code clearly**.\n",
    "* Makes objects **self-contained** and easier to understand.\n",
    "* Lets others **interact with the object** without needing to know how it works inside.\n",
    "* It’s **better than using plain variables or dictionaries**, because you can also include **actions** the object can do.\n",
    "\n",
    "---\n",
    "\n",
    "#### Real-world example:\n",
    "\n",
    "A `Tree` object:\n",
    "\n",
    "* Data: type, height, number of leaves.\n",
    "* Actions: grow, drop leaves, photosynthesize.\n",
    "\n",
    "This mimics **real-world things** in code.\n",
    "\n",
    "---"
   ]
  },
  {
   "cell_type": "markdown",
   "id": "e57d9079-f39e-495c-84a2-c1e34f8bb031",
   "metadata": {},
   "source": [
    "## **Abstraction**"
   ]
  },
  {
   "cell_type": "markdown",
   "id": "2033a9c0-772e-4686-a05a-97b039e2eac7",
   "metadata": {},
   "source": [
    "#### **Abstraction (2nd Pillar of OOP)**\n",
    "\n",
    "---\n",
    "\n",
    "#### **Simple Terms**\n",
    "\n",
    "* **Abstraction** means **showing only what’s necessary** and **hiding the messy details**.\n",
    "* It’s like using a **TV remote**:\n",
    "  You press a button to change the channel you don’t need to know how the electronics inside work.\n",
    "\n",
    "---\n",
    "\n",
    "#### **In Programming**\n",
    "\n",
    "* You use things like `.speak()` or `.count()` without needing to know **how** they work inside.\n",
    "* You just trust that when you call `.speak()`, the object will say something and that’s all you care about.\n",
    "\n",
    "---\n",
    "\n",
    "#### Example from the lesson:\n",
    "\n",
    "```python\n",
    "player1.speak()\n",
    "```\n",
    "\n",
    "You don't care how `.speak()` is written inside the class.\n",
    "You just care that it **works** and gives you output like:\n",
    "\n",
    "> My name is Andre and I am 100 years old.\n",
    "\n",
    "Same idea with built-in methods like:\n",
    "\n",
    "```python\n",
    "len([1, 2, 3])\n",
    "```\n",
    "\n",
    "You get `3`, but you don’t need to understand how Python calculates it internally.\n",
    "\n",
    "---\n",
    "\n",
    "#### Real-life Example:\n",
    "\n",
    "Imagine you’re building an app that takes photos using a phone’s camera.\n",
    "You just call something like:\n",
    "\n",
    "```python\n",
    "camera.take_picture()\n",
    "```\n",
    "\n",
    "You don’t need to know **how the camera hardware or software works** behind the scenes.\n",
    "That’s abstraction.\n",
    "\n",
    "---\n",
    "\n",
    "#### What can go wrong?\n",
    "\n",
    "If a programmer **overwrites an important method** (like replacing `.speak` with a string), then the abstraction **breaks**.\n",
    "\n",
    "That’s why advanced OOP languages let us **protect parts of our code** so others can’t break the abstraction accidentally — a topic that leads into **encapsulation** and **access control** (e.g. private, protected).\n",
    "\n",
    "---"
   ]
  },
  {
   "cell_type": "markdown",
   "id": "093cb0b0-6e97-4e24-a965-708feecf9204",
   "metadata": {},
   "source": [
    "### Privacy & Abstraction in Python\n",
    "\n",
    "In Python, **abstraction** means hiding complex details and only showing what the user needs.\n",
    "\n",
    "To protect parts of a class (like `name` or `age`) from being changed, we use **privacy**.\n",
    "\n",
    "Python doesn’t have true private variables like other languages, so we use a **naming convention**:\n",
    "\n",
    "* `_variable` → “Private. Please don’t touch.”\n",
    "* `__method__` → Built-in “dunder” method. Don’t overwrite it.\n",
    "\n",
    "Example:\n",
    "\n",
    "```python\n",
    "self._name = \"Andre\"\n",
    "```\n",
    "\n",
    "This won’t stop others from changing it, but it **warns them not to**.\n",
    "\n",
    "This helps keep the code safe and working as expected.\n",
    "\n",
    "---\n"
   ]
  },
  {
   "cell_type": "markdown",
   "id": "503085ab-dbef-4f35-8fab-536ff041f819",
   "metadata": {},
   "source": [
    "## **Inheritance**"
   ]
  },
  {
   "cell_type": "markdown",
   "id": "e2a50bcd-eb6b-45ad-9fa4-dbae92e48fe2",
   "metadata": {},
   "source": [
    "#### Inheritance (3rd Pillar of OOP)\n",
    "\n",
    "**Inheritance** lets us create new classes that **reuse code** from existing ones.\n",
    "\n",
    "Think of it like this:\n",
    "If we have a **User** class with a `sign_in()` method, and we want to create new types of users like **Wizards** and **Archers**, they can **inherit** from the User class — so they don’t have to rewrite the `sign_in()` method.\n",
    "\n",
    "---\n",
    "\n",
    "#### Why Use Inheritance?\n",
    "\n",
    "* Avoid writing the same code again and again.\n",
    "* Keep shared features (like `sign_in`) in one place.\n",
    "* Make code easier to manage and extend.\n",
    "\n",
    "---\n"
   ]
  },
  {
   "cell_type": "code",
   "execution_count": 11,
   "id": "7e39ea5e-3e53-4763-8146-5a3bf534566d",
   "metadata": {},
   "outputs": [
    {
     "name": "stdout",
     "output_type": "stream",
     "text": [
      "attacking with power of 50\n",
      "None\n",
      "attacking with arrows: left- 100\n",
      "None\n"
     ]
    }
   ],
   "source": [
    "class User():\n",
    "    def sign_in(self):\n",
    "        print('logged in')\n",
    "\n",
    "class Wizard(User):\n",
    "    def __init__(self, name,  power):\n",
    "        self.name = name\n",
    "        self.power = power\n",
    "\n",
    "    def attack(self):\n",
    "        print(f'attacking with power of {self.power}')\n",
    "\n",
    "class Archer(User):\n",
    "    def __init__(self, name,  num_arrows):\n",
    "        self.name = name\n",
    "        self.num_arrows = num_arrows\n",
    "\n",
    "    def attack(self):\n",
    "        print(f'attacking with arrows: left- {self.num_arrows}')\n",
    "\n",
    "wizard1 = Wizard('Merlin', 50)\n",
    "archer1 = Archer('Robin', 100)\n",
    "\n",
    "print(wizard1.attack())\n",
    "print(archer1.attack())"
   ]
  },
  {
   "cell_type": "code",
   "execution_count": 12,
   "id": "b82db507-d896-4745-a69b-ebaf06bf0975",
   "metadata": {},
   "outputs": [
    {
     "name": "stdout",
     "output_type": "stream",
     "text": [
      "True\n",
      "True\n",
      "True\n"
     ]
    }
   ],
   "source": [
    "print(isinstance(wizard1, Wizard))\n",
    "print(isinstance(wizard1, User))\n",
    "print(isinstance(wizard1, object))"
   ]
  },
  {
   "cell_type": "markdown",
   "id": "68577f14-700e-429a-beca-183c33a8b0e3",
   "metadata": {},
   "source": [
    "In Python, `isinstance()` checks if something was made from a certain class. If `Wizard` inherits from `User`, then a `Wizard` object is also a `User`.\n",
    "\n",
    "All classes in Python ultimately come from a base class called `object`. That’s why all Python objects have built-in methods, even if you didn’t add them yourself.\n"
   ]
  },
  {
   "cell_type": "markdown",
   "id": "e8129ffd-752c-4408-bf83-b119fe8ce8e9",
   "metadata": {},
   "source": [
    "## **Polymorphism**"
   ]
  },
  {
   "cell_type": "markdown",
   "id": "cee4331f-82e8-498a-b025-46c6805c0e71",
   "metadata": {},
   "source": [
    "#### **Polymorphism (4th Pillar of OOP)**\n",
    "\n",
    "**Polymorphism** is the fourth main pillar of Object-Oriented Programming (OOP), after **Encapsulation**, **Abstraction**, and **Inheritance**. The word itself means **“many forms.”**\n",
    "\n",
    "In programming, polymorphism means that **different objects can respond to the same action or message in their own unique way**.\n",
    "\n",
    "---\n",
    "\n",
    "#### **Real-Life Analogy**\n",
    "\n",
    "Think about a **\"play\" button** on a remote control:\n",
    "\n",
    "* Pressing it on a **TV** plays a show.\n",
    "* Pressing it on a **speaker** plays music.\n",
    "* Pressing it on a **gaming console** starts a game.\n",
    "\n",
    "Same button, different outcomes depending on the device — this is **polymorphism** in action.\n",
    "\n",
    "---\n",
    "\n",
    "#### **In OOP Terms**\n",
    "\n",
    "Imagine you have different types of characters in a game, like a **wizard**, an **archer**, and a **knight**.\n",
    "They all have an action called **“attack.”**\n",
    "\n",
    "* The wizard uses magic.\n",
    "* The archer uses arrows.\n",
    "* The knight uses a sword.\n",
    "\n",
    "Even though you’re calling the same action — “attack” — each character does it **their own way**.\n",
    "\n",
    "---\n",
    "\n",
    "#### **Why Polymorphism Matters**\n",
    "\n",
    "* You can write **one general instruction** like “make the character attack.”\n",
    "* The **right action happens automatically** based on which character is doing it.\n",
    "* This makes your code **cleaner**, **easier to manage**, and **more flexible** — especially as your program grows.\n",
    "\n",
    "---\n",
    "\n",
    "#### **Key Idea**\n",
    "\n",
    "> **Polymorphism lets the same action behave differently depending on the object that uses it.**\n",
    "\n",
    "You don’t always plan to “use polymorphism” — it just naturally happens when your objects are well-designed.\n",
    "\n",
    "---\n",
    "\n",
    "Let me know if you’d like an illustration or another analogy to lock it in!\n"
   ]
  },
  {
   "cell_type": "code",
   "execution_count": 13,
   "id": "429a9b55-78c7-4e2c-8b43-abbbf3da9dff",
   "metadata": {},
   "outputs": [
    {
     "name": "stdout",
     "output_type": "stream",
     "text": [
      "attacking with power of 50\n",
      "None\n",
      "attacking with arrows: left- 30\n",
      "None\n"
     ]
    }
   ],
   "source": [
    "class User():\n",
    "    def sign_in(self):\n",
    "        print('logged in')\n",
    "\n",
    "class Wizard(User):\n",
    "    def __init__(self, name,  power):\n",
    "        self.name = name\n",
    "        self.power = power\n",
    "\n",
    "    def attack(self):\n",
    "        print(f'attacking with power of {self.power}')\n",
    "\n",
    "class Archer(User):\n",
    "    def __init__(self, name,  num_arrows):\n",
    "        self.name = name\n",
    "        self.num_arrows = num_arrows\n",
    "\n",
    "    def attack(self):\n",
    "        print(f'attacking with arrows: left- {self.num_arrows}')\n",
    "\n",
    "wizard1 = Wizard('Merlin', 50)\n",
    "archer1 = Archer('Robin', 30)\n",
    "\n",
    "def player_attack(char):\n",
    "    char.attack()\n",
    "\n",
    "print(player_attack(wizard1))\n",
    "print(player_attack(archer1))\n"
   ]
  },
  {
   "cell_type": "code",
   "execution_count": 14,
   "id": "d2bf62cc-f5e3-45c7-a298-d19aff1050b1",
   "metadata": {},
   "outputs": [
    {
     "name": "stdout",
     "output_type": "stream",
     "text": [
      "attacking with power of 50\n",
      "attacking with arrows: left- 30\n"
     ]
    }
   ],
   "source": [
    "class User():\n",
    "    def sign_in(self):\n",
    "        print('logged in')\n",
    "\n",
    "class Wizard(User):\n",
    "    def __init__(self, name,  power):\n",
    "        self.name = name\n",
    "        self.power = power\n",
    "\n",
    "    def attack(self):\n",
    "        print(f'attacking with power of {self.power}')\n",
    "\n",
    "class Archer(User):\n",
    "    def __init__(self, name,  num_arrows):\n",
    "        self.name = name\n",
    "        self.num_arrows = num_arrows\n",
    "\n",
    "    def attack(self):\n",
    "        print(f'attacking with arrows: left- {self.num_arrows}')\n",
    "\n",
    "wizard1 = Wizard('Merlin', 50)\n",
    "archer1 = Archer('Robin', 30)\n",
    "\n",
    "for char in [wizard1, archer1]:\n",
    "    char.attack()"
   ]
  },
  {
   "cell_type": "code",
   "execution_count": 15,
   "id": "8c620899-b9cd-4a2b-bdeb-40776575af62",
   "metadata": {},
   "outputs": [
    {
     "name": "stdout",
     "output_type": "stream",
     "text": [
      "do nothing\n",
      "attacking with power of 50\n",
      "None\n"
     ]
    }
   ],
   "source": [
    "class User():\n",
    "    def sign_in(self):\n",
    "        print('logged in')\n",
    "\n",
    "    def attack(self):\n",
    "        print('do nothing')\n",
    "\n",
    "class Wizard(User):\n",
    "    def __init__(self, name,  power):\n",
    "        self.name = name\n",
    "        self.power = power\n",
    "\n",
    "    def attack(self):\n",
    "        User.attack(self)\n",
    "        print(f'attacking with power of {self.power}')\n",
    "\n",
    "class Archer(User):\n",
    "    def __init__(self, name,  num_arrows):\n",
    "        self.name = name\n",
    "        self.num_arrows = num_arrows\n",
    "\n",
    "    def attack(self):\n",
    "        print(f'attacking with arrows: left- {self.num_arrows}')\n",
    "\n",
    "wizard1 = Wizard('Merlin', 50)\n",
    "archer1 = Archer('Robin', 30)\n",
    "\n",
    "print(wizard1.attack())"
   ]
  },
  {
   "cell_type": "markdown",
   "id": "0af8be61-fe8e-4dd3-8c73-711cc7d6b27c",
   "metadata": {},
   "source": [
    "### super()\n",
    "**`super()` in Python** is a shortcut to call a method from a **parent class**.\n",
    "\n",
    "It’s used when a **child class** wants to **reuse** or **extend** what the parent class already does — without repeating code.\n",
    "\n",
    "---\n",
    "\n",
    "#### Simple Example (in words):\n",
    "\n",
    "If a child class has its own method but still wants to use the **original version** from the parent, it can call `super()` to do that.\n",
    "\n",
    "---\n",
    "\n",
    "#### Think of it like this:\n",
    "\n",
    "> \"`super()` lets the child say: *Hey, parent! Do your part first, then I’ll add my own twist.*\"\n",
    "\n",
    "---"
   ]
  },
  {
   "cell_type": "code",
   "execution_count": 16,
   "id": "c0143bbb-05e2-427e-acef-81bb63231175",
   "metadata": {},
   "outputs": [
    {
     "ename": "AttributeError",
     "evalue": "'Wizard' object has no attribute 'email'",
     "output_type": "error",
     "traceback": [
      "\u001b[31m---------------------------------------------------------------------------\u001b[39m",
      "\u001b[31mAttributeError\u001b[39m                            Traceback (most recent call last)",
      "\u001b[36mCell\u001b[39m\u001b[36m \u001b[39m\u001b[32mIn[16]\u001b[39m\u001b[32m, line 27\u001b[39m\n\u001b[32m     23\u001b[39m         \u001b[38;5;28mprint\u001b[39m(\u001b[33mf\u001b[39m\u001b[33m'\u001b[39m\u001b[33mattacking with arrows: left- \u001b[39m\u001b[38;5;132;01m{\u001b[39;00m\u001b[38;5;28mself\u001b[39m.num_arrows\u001b[38;5;132;01m}\u001b[39;00m\u001b[33m'\u001b[39m)\n\u001b[32m     25\u001b[39m wizard1 = Wizard(\u001b[33m'\u001b[39m\u001b[33mMerlin\u001b[39m\u001b[33m'\u001b[39m, \u001b[32m50\u001b[39m)\n\u001b[32m---> \u001b[39m\u001b[32m27\u001b[39m \u001b[38;5;28mprint\u001b[39m(wizard1.email)\n",
      "\u001b[31mAttributeError\u001b[39m: 'Wizard' object has no attribute 'email'"
     ]
    }
   ],
   "source": [
    "class User():\n",
    "    def __init__(self, email):\n",
    "        self.email = email\n",
    "        \n",
    "    def sign_in(self):\n",
    "        print('logged in')\n",
    "\n",
    "class Wizard(User):\n",
    "    def __init__(self, name,  power):\n",
    "        self.name = name\n",
    "        self.power = power\n",
    "\n",
    "    def attack(self):\n",
    "        User.attack(self)\n",
    "        print(f'attacking with power of {self.power}')\n",
    "\n",
    "class Archer(User):\n",
    "    def __init__(self, name,  num_arrows):\n",
    "        self.name = name\n",
    "        self.num_arrows = num_arrows\n",
    "\n",
    "    def attack(self):\n",
    "        print(f'attacking with arrows: left- {self.num_arrows}')\n",
    "\n",
    "wizard1 = Wizard('Merlin', 50)\n",
    "\n",
    "print(wizard1.email)"
   ]
  },
  {
   "cell_type": "code",
   "execution_count": 17,
   "id": "b2ab18c6-819c-4497-a435-d7ccf306e9cd",
   "metadata": {},
   "outputs": [
    {
     "ename": "SyntaxError",
     "evalue": "unterminated string literal (detected at line 26) (1506593370.py, line 26)",
     "output_type": "error",
     "traceback": [
      "  \u001b[36mCell\u001b[39m\u001b[36m \u001b[39m\u001b[32mIn[17]\u001b[39m\u001b[32m, line 26\u001b[39m\n\u001b[31m    \u001b[39m\u001b[31mwizard1 = Wizard('Merlin', 50, 'merlin@gamil.com)\u001b[39m\n                                   ^\n\u001b[31mSyntaxError\u001b[39m\u001b[31m:\u001b[39m unterminated string literal (detected at line 26)\n"
     ]
    }
   ],
   "source": [
    "class User():\n",
    "    def __init__(self, email):\n",
    "        self.email = email\n",
    "        \n",
    "    def sign_in(self):\n",
    "        print('logged in')\n",
    "\n",
    "class Wizard(User):\n",
    "    def __init__(self, name,  power, email):\n",
    "        User.__init__(self, email)\n",
    "        self.name = name\n",
    "        self.power = power\n",
    "\n",
    "    def attack(self):\n",
    "        User.attack(self)\n",
    "        print(f'attacking with power of {self.power}')\n",
    "\n",
    "class Archer(User):\n",
    "    def __init__(self, name,  num_arrows):\n",
    "        self.name = name\n",
    "        self.num_arrows = num_arrows\n",
    "\n",
    "    def attack(self):\n",
    "        print(f'attacking with arrows: left- {self.num_arrows}')\n",
    "\n",
    "wizard1 = Wizard('Merlin', 50, 'merlin@gamil.com)\n",
    "\n",
    "print(wizard1.email)"
   ]
  },
  {
   "cell_type": "code",
   "execution_count": 18,
   "id": "fe7fc664-8ef5-429f-be91-3dafd439a4e1",
   "metadata": {},
   "outputs": [
    {
     "name": "stdout",
     "output_type": "stream",
     "text": [
      "merlin@gamil.com\n"
     ]
    }
   ],
   "source": [
    "class User():\n",
    "    def __init__(self, email):\n",
    "        self.email = email\n",
    "        \n",
    "    def sign_in(self):\n",
    "        print('logged in')\n",
    "\n",
    "class Wizard(User):\n",
    "    def __init__(self, name,  power, email):\n",
    "        super().__init__(email)\n",
    "        self.name = name\n",
    "        self.power = power\n",
    "\n",
    "    def attack(self):\n",
    "        User.attack(self)\n",
    "        print(f'attacking with power of {self.power}')\n",
    "\n",
    "class Archer(User):\n",
    "    def __init__(self, name,  num_arrows):\n",
    "        self.name = name\n",
    "        self.num_arrows = num_arrows\n",
    "\n",
    "    def attack(self):\n",
    "        print(f'attacking with arrows: left- {self.num_arrows}')\n",
    "\n",
    "wizard1 = Wizard('Merlin', 50, 'merlin@gamil.com')\n",
    "\n",
    "print(wizard1.email)"
   ]
  },
  {
   "cell_type": "markdown",
   "id": "9a822c12-e63c-43df-b12c-a8fcbcc3fefd",
   "metadata": {},
   "source": [
    "### Object Introspection\n",
    "- **dir()** Will give me all the methods and attributes the object has"
   ]
  },
  {
   "cell_type": "code",
   "execution_count": 19,
   "id": "a86b60d8-ab0b-4c9f-8c7f-5f7501a39f06",
   "metadata": {},
   "outputs": [
    {
     "name": "stdout",
     "output_type": "stream",
     "text": [
      "['__class__', '__delattr__', '__dict__', '__dir__', '__doc__', '__eq__', '__firstlineno__', '__format__', '__ge__', '__getattribute__', '__getstate__', '__gt__', '__hash__', '__init__', '__init_subclass__', '__le__', '__lt__', '__module__', '__ne__', '__new__', '__reduce__', '__reduce_ex__', '__repr__', '__setattr__', '__sizeof__', '__static_attributes__', '__str__', '__subclasshook__', '__weakref__', 'attack', 'email', 'name', 'power', 'sign_in']\n"
     ]
    }
   ],
   "source": [
    "class User():\n",
    "    def __init__(self, email):\n",
    "        self.email = email\n",
    "        \n",
    "    def sign_in(self):\n",
    "        print('logged in')\n",
    "\n",
    "class Wizard(User):\n",
    "    def __init__(self, name,  power, email):\n",
    "        super().__init__(email)\n",
    "        self.name = name\n",
    "        self.power = power\n",
    "\n",
    "    def attack(self):\n",
    "        User.attack(self)\n",
    "        print(f'attacking with power of {self.power}')\n",
    "\n",
    "class Archer(User):\n",
    "    def __init__(self, name,  num_arrows):\n",
    "        self.name = name\n",
    "        self.num_arrows = num_arrows\n",
    "\n",
    "    def attack(self):\n",
    "        print(f'attacking with arrows: left- {self.num_arrows}')\n",
    "\n",
    "wizard1 = Wizard('Merlin', 50, 'merlin@gamil.com')\n",
    "\n",
    "print(dir(wizard1))"
   ]
  },
  {
   "cell_type": "markdown",
   "id": "ff9c0c91-81d4-4640-b029-f19083f1b955",
   "metadata": {},
   "source": [
    "### Dunder Methods"
   ]
  },
  {
   "cell_type": "markdown",
   "id": "2b253a8f-3ca6-4133-b9d5-181332a9d432",
   "metadata": {},
   "source": [
    "#### **Dunder (Magic) Methods in Python:**\n",
    "\n",
    "In Python, **dunder methods** (short for **\"double underscore\"** methods, like `__str__`, `__len__`, etc.) are **special built-in methods** that give your custom classes **extra powers** — like being printable, having a length, or being callable — just like Python's built-in types (lists, dictionaries, etc.).\n",
    "\n",
    "You’ve waited to learn about these because they might look confusing at first, but they’re actually how Python makes objects behave in ways we expect.\n",
    "\n",
    "---\n",
    "\n",
    "#### Key Ideas:\n",
    "\n",
    "* **Python objects** (like lists and dictionaries) have special behavior — like using `len()` or printing them.\n",
    "* That behavior is controlled by **dunder methods** (like `__len__` or `__str__`).\n",
    "* When you make your own class, you can **customize or override** these methods to change how your objects behave.\n",
    "* You don’t have to use all of them — just the ones that make your object easier to use or understand.\n",
    "* This is part of **polymorphism**: objects of different classes can be used in similar ways if they implement the same dunder methods.\n",
    "\n",
    "---\n",
    "\n",
    "#### Examples from the explanation (in plain terms):\n",
    "\n",
    "* If you want your object to show a **custom message when printed**, change the `__str__` method.\n",
    "* Want your object to work with the `len()` function? Use `__len__`.\n",
    "* Want your object to be **callable like a function**? Use `__call__`.\n",
    "* Want to use **square brackets** like you do with lists or dictionaries? Use `__getitem__`.\n",
    "* You can even use `__del__` to define what happens when your object is deleted.\n",
    "\n",
    "---\n",
    "\n",
    "#### Why This Matters:\n",
    "\n",
    "Dunder methods are how Python lets different objects behave **in a consistent way** — and by using them, you make your own classes fit in naturally with the rest of Python.\n",
    "\n",
    "---\n"
   ]
  },
  {
   "cell_type": "code",
   "execution_count": 20,
   "id": "95bd604e-59d6-4373-bc14-9cc1116a83ee",
   "metadata": {},
   "outputs": [
    {
     "name": "stdout",
     "output_type": "stream",
     "text": [
      "red\n",
      "red\n"
     ]
    }
   ],
   "source": [
    "class Toy():\n",
    "    def __init__(self, color, age):\n",
    "        self.color = color\n",
    "        self.age = age\n",
    "\n",
    "    def __str__(self):\n",
    "        return f'{self.color}'\n",
    "\n",
    "action_figure = Toy('red', 0)\n",
    "\n",
    "print(action_figure.__str__())\n",
    "print(str(action_figure))\n"
   ]
  },
  {
   "cell_type": "markdown",
   "id": "35a20ca6-b7f8-42a4-be62-2a99faa9b10f",
   "metadata": {},
   "source": [
    "#### **Super List**\n",
    "---\n",
    "\n",
    "##### Code Summary:\n",
    "\n",
    "```python\n",
    "class SuperList(list):\n",
    "    def __len__(self):\n",
    "        return 1000\n",
    "```\n",
    "\n",
    "* `SuperList` is a custom list.\n",
    "* It acts like a normal list.\n",
    "* But `len()` always returns `1000`.\n",
    "\n",
    "---\n",
    "\n",
    "##### Usage:\n",
    "\n",
    "```python\n",
    "super_list1 = SuperList()\n",
    "print(len(super_list1))  # → 1000\n",
    "super_list1.append(5)\n",
    "print(super_list1[0])    # → 5\n",
    "```\n",
    "\n",
    "* You can still add and access items like a regular list.\n",
    "* Only `len()` is changed.\n",
    "\n",
    "---"
   ]
  },
  {
   "cell_type": "code",
   "execution_count": 21,
   "id": "ca111234-fc48-4e48-8465-c59b1e308fed",
   "metadata": {},
   "outputs": [
    {
     "name": "stdout",
     "output_type": "stream",
     "text": [
      "1000\n",
      "5\n"
     ]
    }
   ],
   "source": [
    "class SuperList(list):\n",
    "    def __len__(self):\n",
    "        return 1000\n",
    "\n",
    "super_list1 = SuperList()\n",
    "\n",
    "print(len(super_list1))\n",
    "super_list1.append(5)\n",
    "print(super_list1[0])\n",
    "    "
   ]
  },
  {
   "cell_type": "markdown",
   "id": "f301ae5e-5717-46f5-82f2-06a2142a6f76",
   "metadata": {},
   "source": [
    "`issubclass(A, B)` returns `True` if class `A` is a subclass of class `B`, meaning `A` inherits from `B` (directly or indirectly)."
   ]
  },
  {
   "cell_type": "code",
   "execution_count": 22,
   "id": "361e0d82-8008-4aa9-80ab-c7aef0f3da99",
   "metadata": {},
   "outputs": [
    {
     "name": "stdout",
     "output_type": "stream",
     "text": [
      "True\n"
     ]
    }
   ],
   "source": [
    "print(issubclass(SuperList, list))"
   ]
  },
  {
   "cell_type": "markdown",
   "id": "5d3b5cc8-c5f1-4419-8bc9-e5fbc7411dd7",
   "metadata": {},
   "source": [
    "### Multiple Inheritance"
   ]
  },
  {
   "cell_type": "code",
   "execution_count": 31,
   "id": "902554d2-9095-4a17-a901-1403d6cc69bb",
   "metadata": {
    "scrolled": true
   },
   "outputs": [
    {
     "name": "stdout",
     "output_type": "stream",
     "text": [
      "attacking with power of 50\n",
      "None\n"
     ]
    }
   ],
   "source": [
    "class User():\n",
    "    def sing_in(self):\n",
    "        print('logged in')\n",
    "\n",
    "class Wizard(User):\n",
    "    def __init__(self, name,  power):\n",
    "        self.name = name\n",
    "        self.power = power\n",
    "\n",
    "    def attack(self):\n",
    "        print(f'attacking with power of {self.power}')\n",
    "\n",
    "class Archer(User):\n",
    "    def __init__(self, name, arrows):\n",
    "        self.name = name\n",
    "        self.arrows = arrows\n",
    "\n",
    "    def check_arrows(self):\n",
    "        print(f'{self.arrows} remaining')\n",
    "\n",
    "    def run(self):\n",
    "        print('ran really fast')\n",
    "\n",
    "class HybridBorg(Wizard, Archer):\n",
    "    def __init__(self, name, power, arrows):\n",
    "        Archer.__init__(self, name, arrows)\n",
    "        Wizard.__init__(self, name,  power)\n",
    "        \n",
    "hb1 = HybridBorg('borgie', 50, 100)\n",
    "print(hb1.attack())"
   ]
  },
  {
   "cell_type": "markdown",
   "id": "13ab23d2-c6d3-4491-a61a-e19abae8debb",
   "metadata": {},
   "source": [
    "### MRO - Method Resolution Order\n",
    "\n",
    "##### 🔍 What is MRO?\n",
    "\n",
    "MRO stands for **Method Resolution Order**.\n",
    "It’s the order Python uses to **look for a method or attribute** when you call it on an object, especially when you’re using **multiple inheritance**.\n",
    "\n",
    "---\n",
    "\n",
    "##### Imagine This Setup\n",
    "\n",
    "```python\n",
    "class A:\n",
    "    num = 1\n",
    "\n",
    "class B(A):\n",
    "    pass\n",
    "\n",
    "class C(A):\n",
    "    pass\n",
    "\n",
    "class D(B, C):\n",
    "    pass\n",
    "```\n",
    "\n",
    "You now have a diamond-shaped inheritance:\n",
    "\n",
    "```\n",
    "    A\n",
    "   / \\\n",
    "  B   C\n",
    "   \\ /\n",
    "    D\n",
    "```\n",
    "\n",
    "Now, if you create `d = D()` and run `print(d.num)`, which `num` will it use?\n",
    "\n",
    "---\n",
    "\n",
    "##### How Python Decides\n",
    "\n",
    "Python uses **MRO** to figure this out. You can check it with:\n",
    "\n",
    "```python\n",
    "print(D.__mro__)\n",
    "```\n",
    "\n",
    "Output:\n",
    "\n",
    "```\n",
    "(<class '__main__.D'>, <class '__main__.B'>, <class '__main__.C'>, <class '__main__.A'>, <class 'object'>)\n",
    "```\n",
    "\n",
    "This means:\n",
    "\n",
    "1. Check `D`\n",
    "2. If not found, check `B`\n",
    "3. Then check `C`\n",
    "4. Then check `A`\n",
    "5. Finally, check the base `object` class\n",
    "\n",
    "---\n",
    "\n",
    "##### Why This Matters\n",
    "\n",
    "* If multiple parent classes have the same method/attribute, **MRO decides which one is used**.\n",
    "* Helps avoid ambiguity in **complex inheritance chains**.\n",
    "\n",
    "---\n",
    "\n",
    "##### Takeaway\n",
    "\n",
    "* **Use `Class.__mro__` or `Class.mro()`** to inspect the method resolution order.\n",
    "* Don’t overcomplicate inheritance—**deep multiple inheritance is hard to read and debug**.\n",
    "* Know MRO exists so you can **debug strange behavior** when methods/attributes aren’t doing what you expect.\n",
    "\n",
    "---\n"
   ]
  },
  {
   "cell_type": "code",
   "execution_count": 33,
   "id": "e6580266-3d90-4fc1-ab9b-0c6ad45fc35f",
   "metadata": {},
   "outputs": [
    {
     "name": "stdout",
     "output_type": "stream",
     "text": [
      "1\n",
      "[<class '__main__.D'>, <class '__main__.B'>, <class '__main__.C'>, <class '__main__.A'>, <class 'object'>]\n"
     ]
    }
   ],
   "source": [
    "class A:\n",
    "    num = 10\n",
    "\n",
    "class B(A):\n",
    "    pass\n",
    "\n",
    "class C(A):\n",
    "    num = 1\n",
    "\n",
    "class D(B, C):\n",
    "    pass\n",
    "\n",
    "print(D.num)\n",
    "print(D.mro()) # this is the order"
   ]
  },
  {
   "cell_type": "code",
   "execution_count": null,
   "id": "4c1e21ac-4790-4a57-905c-1ad5ee910101",
   "metadata": {},
   "outputs": [],
   "source": []
  },
  {
   "cell_type": "code",
   "execution_count": null,
   "id": "e52113a2-430a-4e02-bdc7-9393d9f7d661",
   "metadata": {},
   "outputs": [],
   "source": []
  },
  {
   "cell_type": "code",
   "execution_count": null,
   "id": "8983e79c-c535-4d64-9d66-98790d4b9a99",
   "metadata": {},
   "outputs": [],
   "source": []
  },
  {
   "cell_type": "code",
   "execution_count": null,
   "id": "4944c96b-8b8e-4f31-85c2-5f3306f4364f",
   "metadata": {},
   "outputs": [],
   "source": []
  },
  {
   "cell_type": "code",
   "execution_count": null,
   "id": "73e479c3-bd28-4ad6-9654-596aa1e76890",
   "metadata": {},
   "outputs": [],
   "source": []
  }
 ],
 "metadata": {
  "kernelspec": {
   "display_name": "Python 3 (ipykernel)",
   "language": "python",
   "name": "python3"
  },
  "language_info": {
   "codemirror_mode": {
    "name": "ipython",
    "version": 3
   },
   "file_extension": ".py",
   "mimetype": "text/x-python",
   "name": "python",
   "nbconvert_exporter": "python",
   "pygments_lexer": "ipython3",
   "version": "3.13.2"
  }
 },
 "nbformat": 4,
 "nbformat_minor": 5
}
